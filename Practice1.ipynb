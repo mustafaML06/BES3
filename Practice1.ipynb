{
 "cells": [
  {
   "cell_type": "markdown",
   "metadata": {},
   "source": [
    "## Temel konular"
   ]
  },
  {
   "cell_type": "markdown",
   "metadata": {},
   "source": [
    "1. Su kodu calistirin: print(5 + 8)"
   ]
  },
  {
   "cell_type": "code",
   "execution_count": 1,
   "metadata": {},
   "outputs": [
    {
     "name": "stdout",
     "output_type": "stream",
     "text": [
      "21\n"
     ]
    }
   ],
   "source": [
    "# ornek:\n",
    "print(3 * 7)"
   ]
  },
  {
   "cell_type": "code",
   "execution_count": null,
   "metadata": {},
   "outputs": [],
   "source": [
    "# Kodu buraya yaziniz:\n"
   ]
  },
  {
   "cell_type": "markdown",
   "metadata": {},
   "source": [
    "2. Asagidaki kod hucresine \"#\" isaretini kullanarak bir not ekleyin:"
   ]
  },
  {
   "cell_type": "code",
   "execution_count": null,
   "metadata": {},
   "outputs": [],
   "source": []
  },
  {
   "cell_type": "markdown",
   "metadata": {},
   "source": [
    "3. Matematik islemleri: rastgele ikiser sayi secip, + - * / % ** islemlerini print() fonksiyonuygulayiniz:"
   ]
  },
  {
   "cell_type": "code",
   "execution_count": null,
   "metadata": {},
   "outputs": [],
   "source": [
    "# toplama:  (ornek) \n",
    "print(7 + 4)\n",
    "\n",
    "# cikarma:\n",
    "print( - )\n",
    "\n",
    "# carpma: \n",
    "print()\n",
    "\n",
    "#bolme: \n",
    "\n",
    "\n",
    "#mod alma: \n",
    "print(10 % 7)\n",
    "\n",
    "#ustel fonk\n",
    "print(5 ** 2)"
   ]
  },
  {
   "cell_type": "markdown",
   "metadata": {},
   "source": [
    "4. Degisken: x=10 seklinde bir degisken olusturun, ve bu degiskeni print ile yazdiriniz:"
   ]
  },
  {
   "cell_type": "code",
   "execution_count": null,
   "metadata": {},
   "outputs": [],
   "source": [
    "# degisken olusturun:\n",
    "x = \n",
    "\n",
    "# yazdirin:\n",
    "print(   )\n"
   ]
  },
  {
   "cell_type": "markdown",
   "metadata": {},
   "source": [
    "5. basit bir problem: 50cm uzunlugunda bir fidan aldiniz. haftada 10 cm uzamaktadir. 4 hafta sonra 90cm olacagini degisken kullanarak gosteriniz:"
   ]
  },
  {
   "cell_type": "code",
   "execution_count": null,
   "metadata": {},
   "outputs": [],
   "source": [
    "# fidanin ilk boyunu bir degiskene atayiniz: \n",
    "boy = 50  #yerinize yapildi\n",
    "\n",
    "# fidanin haftalik uzama miktarini bir degiskene atayiniz:\n",
    "artis = 10 #yerinize yapildi\n",
    "\n",
    "# son_boy adli bir degisken olusturup, degiskenleri kullanarak hesaplayiniz:\n",
    "son_boy = \n",
    "\n",
    "# sonucu ifade eden degiskeni yazdiriniz:\n",
    "print(son_boy) #yerinize yapildi"
   ]
  },
  {
   "cell_type": "markdown",
   "metadata": {},
   "source": [
    "6. integer, float, string ve boolean degisken tipleri: verilen degiskenlerin tipleri type() ile belirleyip, print kullanarak yazdiriniz:"
   ]
  },
  {
   "cell_type": "code",
   "execution_count": null,
   "metadata": {},
   "outputs": [],
   "source": [
    "x = 200\n",
    "print(type(x))\n",
    "\n",
    "# ustteki ornekte oldugu gibi:\n",
    "y = 2.2\n",
    "\n",
    "# string tipindeki cumle degiskeninin tipini ayni sekilde yazdiriniz\n",
    "cumle = \"Alaninda en iyilerinden ol\"\n",
    "\n",
    "\n",
    "sonuc = True\n"
   ]
  },
  {
   "cell_type": "markdown",
   "metadata": {},
   "source": [
    "NOT: goruldugu uzere python'da diger dillerin aksine veri tipini ayrica tanimlamamiza gerek yok. Python otomatik olarak veri tipini belirliyor"
   ]
  },
  {
   "cell_type": "markdown",
   "metadata": {},
   "source": [
    "7. integer ile float'i carparsak sonucun tipi ne olur?"
   ]
  },
  {
   "cell_type": "code",
   "execution_count": null,
   "metadata": {},
   "outputs": [],
   "source": [
    "# a isimli bir integer degisken olusturunuz (herhangi bir sayi olabilir)\n",
    "a = 20\n",
    "\n",
    "# b isimli bir float degisken olusturunuz\n",
    "b = 2.2\n",
    "\n",
    "# bunlari carpip c isimli bir degiskene atayiniz\n",
    "c = \n",
    "\n",
    "# sonucun (c'nin) tipini type() fonksiyonu ile belirleyip print kullanarak yazdirirniz\n"
   ]
  },
  {
   "cell_type": "markdown",
   "metadata": {},
   "source": [
    "8. Iki string toplanabilir mi?"
   ]
  },
  {
   "cell_type": "code",
   "execution_count": null,
   "metadata": {},
   "outputs": [],
   "source": [
    "# 'kelime1' isimli bir string degisken olusturunuz (herhangi bir sey yazabilirsiniz)\n",
    "kelime1 = 'mavi'\n",
    "\n",
    "# 'kelime2' isimli bir string degisken olusturunuz\n",
    "kelime2 = 'kirmizi'\n",
    "\n",
    "# bu iki string degiskeni + isareti ile toplayiniz ve 'kelimeler' adli bir degiskene atayiniz\n",
    "kelimeler = \n",
    "\n",
    "# 'kelimeler' adli degiskeni print ile yazdiriniz\n"
   ]
  },
  {
   "cell_type": "markdown",
   "metadata": {},
   "source": [
    "9. bir integeri string olarak okumak:"
   ]
  },
  {
   "cell_type": "code",
   "execution_count": null,
   "metadata": {},
   "outputs": [],
   "source": [
    "x = 50\n",
    "\n",
    "# verilen integer degiskeninin tipini yazdiriniz\n",
    "\n",
    "\n",
    "# x degiskenine str() fonksiyonunu uygulayip (buna ingilizce olarak 'cast' etmek deniyor), veri tipini tekrar yazdiriniz\n",
    "print(type(str(x)))"
   ]
  },
  {
   "cell_type": "markdown",
   "metadata": {},
   "source": [
    "10. string, integer ve float beraber kullanimi:"
   ]
  },
  {
   "cell_type": "code",
   "execution_count": 2,
   "metadata": {},
   "outputs": [
    {
     "ename": "TypeError",
     "evalue": "bad operand type for unary +: 'str'",
     "output_type": "error",
     "traceback": [
      "\u001b[1;31m---------------------------------------------------------------------------\u001b[0m",
      "\u001b[1;31mTypeError\u001b[0m                                 Traceback (most recent call last)",
      "\u001b[1;32m<ipython-input-2-4f18ef27ddd6>\u001b[0m in \u001b[0;36m<module>\u001b[1;34m\u001b[0m\n\u001b[0;32m      3\u001b[0m \u001b[1;33m\u001b[0m\u001b[0m\n\u001b[0;32m      4\u001b[0m \u001b[1;31m# verilen boy ve kilo degiskenlerini kullanarak \"Cocugun boyu 120 ve kilosu 35'tir\" cumlesini yazdiriniz:\u001b[0m\u001b[1;33m\u001b[0m\u001b[1;33m\u001b[0m\u001b[1;33m\u001b[0m\u001b[0m\n\u001b[1;32m----> 5\u001b[1;33m \u001b[0mprint\u001b[0m\u001b[1;33m(\u001b[0m\u001b[1;34m\"Cocugun boyu \"\u001b[0m \u001b[1;33m+\u001b[0m  \u001b[1;33m+\u001b[0m \u001b[1;34m\" ve kilosu \"\u001b[0m \u001b[1;33m+\u001b[0m  \u001b[1;33m+\u001b[0m \u001b[1;34m\"'tir\"\u001b[0m\u001b[1;33m)\u001b[0m\u001b[1;33m\u001b[0m\u001b[1;33m\u001b[0m\u001b[0m\n\u001b[0m",
      "\u001b[1;31mTypeError\u001b[0m: bad operand type for unary +: 'str'"
     ]
    }
   ],
   "source": [
    "boy = 120\n",
    "kilo = 35\n",
    "\n",
    "# verilen boy ve kilo degiskenlerini kullanarak \"Cocugun boyu 120 ve kilosu 35'tir\" cumlesini yazdiriniz:\n",
    "print(\"Cocugun boyu \" +  + \" ve kilosu \" +  + \"'tir\")"
   ]
  },
  {
   "cell_type": "markdown",
   "metadata": {},
   "source": [
    "11. string'i float'a cevirmek:"
   ]
  },
  {
   "cell_type": "code",
   "execution_count": null,
   "metadata": {},
   "outputs": [],
   "source": [
    "not_ortalamam_string = \"2.80\"\n",
    "\n",
    "# verilen degiskeni float tipine cevirip \"not_ortalamam_float\" ismiyle kaydediniz\n"
   ]
  },
  {
   "cell_type": "markdown",
   "metadata": {},
   "source": [
    "12. Asagidaki 3 hucredeki hatalari duzeltiniz:"
   ]
  },
  {
   "cell_type": "code",
   "execution_count": null,
   "metadata": {},
   "outputs": [],
   "source": [
    "\"String ifadelere boyle \" + 3 + \" integer ekliyoruz\""
   ]
  },
  {
   "cell_type": "code",
   "execution_count": null,
   "metadata": {},
   "outputs": [],
   "source": [
    "\"Kursta sinifa girerken \"   +   (\"Hej! \"*2)    \" diyoruz\""
   ]
  },
  {
   "cell_type": "code",
   "execution_count": null,
   "metadata": {},
   "outputs": [],
   "source": [
    "\"Sorunun cevabi: \"   str(5)"
   ]
  },
  {
   "cell_type": "markdown",
   "metadata": {},
   "source": [
    "13. True ile False toplanabilir mi? sizce neden."
   ]
  },
  {
   "cell_type": "code",
   "execution_count": null,
   "metadata": {},
   "outputs": [],
   "source": [
    "True + False"
   ]
  },
  {
   "cell_type": "markdown",
   "metadata": {},
   "source": [
    "14. Asagidaki gibi bos hucre ekleyerek bu hucrelerde \"Temel Konular\" ile ilgili karalama, test etme, uygulama, deneme-yanilma, farkli kombinasyonlari denemeler yapiniz:"
   ]
  },
  {
   "cell_type": "code",
   "execution_count": null,
   "metadata": {},
   "outputs": [],
   "source": []
  },
  {
   "cell_type": "code",
   "execution_count": null,
   "metadata": {},
   "outputs": [],
   "source": []
  },
  {
   "cell_type": "code",
   "execution_count": null,
   "metadata": {},
   "outputs": [],
   "source": []
  },
  {
   "cell_type": "markdown",
   "metadata": {},
   "source": [
    "## Listeler"
   ]
  },
  {
   "cell_type": "markdown",
   "metadata": {},
   "source": [
    "15. verilen degiskenleri kullanarak bir python listesi olusturunuz"
   ]
  },
  {
   "cell_type": "code",
   "execution_count": null,
   "metadata": {},
   "outputs": [],
   "source": [
    "kor = 10.2\n",
    "mut = 8.5\n",
    "sln = 12.4\n",
    "o1 = 7.1\n",
    "o2 = 6.4\n",
    "\n",
    "# \"alanlar\" adli bir liste olusturup, print ile bu listeyi yazdiriniz\n",
    "alanlar = [kor, mut, sln, o1, o2]\n"
   ]
  },
  {
   "cell_type": "code",
   "execution_count": null,
   "metadata": {},
   "outputs": [],
   "source": [
    "# 'alanlar' adli bir listeye string halide \"koridor\", \"mutfak\", \"salon\", \"oda1\", \"oda2\" degiskenlerini ekleyiniz. \n",
    "# (isim ve metrekare sayisi pespese gelecek sekilde sirayla)\n",
    "\n",
    "alanlar = [\"koridor\", kor, \"mutfak\", mut, \"salon\", sln, \"oda1\", o1, \"oda2\", o2]\n",
    "\n",
    "# listenin guncel halini yazdiriniz\n"
   ]
  },
  {
   "cell_type": "markdown",
   "metadata": {},
   "source": [
    "16. Liste icinde listeler:"
   ]
  },
  {
   "cell_type": "code",
   "execution_count": null,
   "metadata": {
    "scrolled": true
   },
   "outputs": [],
   "source": [
    "ev = [[\"koridor\", kor], [\"mutfak\", mut], [\"salon\", sln], [\"oda1\", o1], [\"oda2\", o2]]\n",
    "\n",
    "# ev isimli degiskeni yazdiriniz. (ev bir degiskendir veri tipi liste'dir)\n",
    "\n",
    "\n",
    "# ev degiskeninin veri tipini yazdiriniz\n"
   ]
  },
  {
   "cell_type": "markdown",
   "metadata": {},
   "source": [
    "17. Listeler ve indeksleri ile elemanlarina ulasmak:"
   ]
  },
  {
   "cell_type": "code",
   "execution_count": null,
   "metadata": {},
   "outputs": [],
   "source": [
    "alanlar = [\"koridor\", kor, \"mutfak\", mut, \"salon\", sln, \"oda1\", o1, \"oda2\", o2]\n",
    "\n",
    "# alanlar listesinin 2. elemanini yazdiriniz (indeksi 2 olan degil)\n",
    "\n",
    "\n",
    "# alanlar listesinin son elemanini yazdiriniz\n",
    "print(alanlar[-1])\n",
    "\n",
    "# alanlar listesinden salonun alanini yazdiriniz\n",
    "print(alanlar[5])"
   ]
  },
  {
   "cell_type": "markdown",
   "metadata": {},
   "source": [
    "18. liste elemanlari ve islemler"
   ]
  },
  {
   "cell_type": "code",
   "execution_count": null,
   "metadata": {},
   "outputs": [],
   "source": [
    "# mutfak ve salonun toplam alanini bulunuz: yemek_ve_misafir adli degiskene atayiniz\n",
    "yemek_ve_misafir = alanlar[3] + alanlar[5]\n",
    "\n",
    "# yemek_ve_misafir degiskenini yazdiriniz\n"
   ]
  },
  {
   "cell_type": "markdown",
   "metadata": {},
   "source": [
    "19. Slice:"
   ]
  },
  {
   "cell_type": "code",
   "execution_count": null,
   "metadata": {},
   "outputs": [],
   "source": [
    "#ornek slice:\n",
    "mutfak = alanlar[2:4]\n",
    "print(mutfak)\n",
    "\n",
    "alanlar = [\"koridor\", kor, \"mutfak\", mut, \"salon\", sln, \"oda1\", o1, \"oda2\", o2]\n",
    "\n",
    "# \"alanlar\" listesinin ilk 6 elemanini ustteki gibi (normal) slice ile seciniz ve \"alt_kat\" adli bir degiskene atayiniz\n",
    "alt_kat = alanlar[:6]\n",
    "\n",
    "# ayni sekilde son 4 elemani ustteki gibi (normal) slice ile secip \"ust_kat\" 'a atayiniz\n",
    "ust_kat = alanlar[6:]\n",
    "\n",
    "# alt_kat ve ust_kat degiskenlerini yazdiriniz\n",
    "\n"
   ]
  },
  {
   "cell_type": "markdown",
   "metadata": {},
   "source": [
    "20. ayni islemi alternatif slice ile:"
   ]
  },
  {
   "cell_type": "code",
   "execution_count": null,
   "metadata": {},
   "outputs": [],
   "source": [
    "koridor = alanlar[:2]\n",
    "print(koridor)\n",
    "\n",
    "# \"alanlar\" listesinin ilk 6 elemanini ustteki gibi alternatif slice ile seciniz ve \"alt_kat\" adli bir degiskene atayiniz\n",
    "alt_kat = alanlar[:6]\n",
    "\n",
    "# ayni sekilde son 4 elemani alternarif slice ile secip \"ust_kat\" 'a atayiniz (ipucu: negatif indeks)\n",
    "ust_kat = alanlar[-4:]\n",
    "\n",
    "# alt_kat ve ust_kat degiskenlerini yazdiriniz\n",
    "\n"
   ]
  },
  {
   "cell_type": "markdown",
   "metadata": {},
   "source": [
    "21. Liste icinde listelerde Cift indeks kullanilabilir:"
   ]
  },
  {
   "cell_type": "code",
   "execution_count": null,
   "metadata": {},
   "outputs": [],
   "source": [
    "ev = [[\"koridor\", kor], [\"mutfak\", mut], [\"salon\", sln], [\"oda1\", o1], [\"oda2\", o2]]\n",
    "\n",
    "# ev listesine ev[-1][1] seklinde cift indis uygulanirsa sonuc ne doner?\n",
    "print(ev[-1][1])"
   ]
  },
  {
   "cell_type": "markdown",
   "metadata": {},
   "source": [
    "22. listelerde degisiklik:"
   ]
  },
  {
   "cell_type": "code",
   "execution_count": null,
   "metadata": {},
   "outputs": [],
   "source": [
    "alanlar = [\"koridor\", kor, \"mutfak\", mut, \"salon\", sln, \"oda1\", o1, \"oda2\", o2]\n",
    "\n",
    "# oda2 nin alanini 5.1 ile guncelleyiniz\n",
    "alanlar[-1] = 5.1\n",
    "\n",
    "# oda2 nin adini \"cocuk_odasi\" seklinde degistiriniz\n",
    "alanlar[8] = \"cocuk_odasi\"\n",
    "#veya:\n",
    "alanlar[-2] = \"cocuk_odasi\"\n",
    "\n",
    "# alanlar listesini yazdiriniz\n"
   ]
  },
  {
   "cell_type": "markdown",
   "metadata": {},
   "source": [
    "23. Listeye bir baska liste ekleme:"
   ]
  },
  {
   "cell_type": "code",
   "execution_count": null,
   "metadata": {},
   "outputs": [],
   "source": [
    "[\"yuzme_havuzu\", 24.3]\n",
    "\n",
    "# alanlar listesine ustte verilen 2 elemanli listeyi + ile ekleyip alanlar_1 adi ile kaydediniz\n",
    "alanlar_1 = alanlar + [\"yuzme_havuzu\", 24.3]\n",
    "\n",
    "# alanlar_1 listesine 15.4 m2 buyuklugunde bir garaj ekleyip, alanlar_2 adi ile kaydediniz\n",
    "alanlar_2 = alanlar_1 + ['garaj', 15.4]\n",
    "\n",
    "# uc listeyi de yazdiriniz\n",
    "\n",
    "\n"
   ]
  },
  {
   "cell_type": "markdown",
   "metadata": {},
   "source": [
    "24. liste elemani silmek"
   ]
  },
  {
   "cell_type": "code",
   "execution_count": null,
   "metadata": {},
   "outputs": [],
   "source": [
    "alanlar_2 = ['koridor', 10.2, 'mutfak', 8.5, 'salon', 12.4, 'oda1', 7.1, 'cocuk_odasi', 5.1, 'yuzme_havuzu', 24.3, 'garaj', 15.4]\n",
    "\n",
    "# alanlar_2 listesinden yuzme_havuzu ve 24.3 degerini siliniz\n",
    "del(alanlar_2[10])\n",
    "del(alanlar_2[11])\n",
    "\n",
    "# alanlar_2 dizisini tekrar yazdiriniz\n"
   ]
  },
  {
   "cell_type": "raw",
   "metadata": {},
   "source": [
    "NOT: \n",
    "    kod1\n",
    "    kod2\n",
    "yukarida iki ayri kod farkli satirlarda calistirilabildigi gibi tek satirda aralarina ; koyarak da calistirilabilir\n",
    "    kod1; kod2"
   ]
  },
  {
   "cell_type": "markdown",
   "metadata": {},
   "source": [
    "25. liste yedegi uzerinde calismak:"
   ]
  },
  {
   "cell_type": "code",
   "execution_count": null,
   "metadata": {
    "scrolled": true
   },
   "outputs": [],
   "source": [
    "listem = [2,4,6,8,10] \n",
    "\n",
    "listem_yedek = list(listem)\n",
    "\n",
    "# listem_yedek listesinin ilk elemeanini 12 ile degistiriniz\n",
    "listem_yedek[0] = 12\n",
    "\n",
    "# 'listem_yedek' ve 'listem' listelerini yazdiriniz.(orjinalinin degismedigini gozlemleyiniz)\n",
    "print(listem_yedek)\n",
    "print(listem)"
   ]
  },
  {
   "cell_type": "markdown",
   "metadata": {},
   "source": [
    "NOT: demek ki bir listeyi list() fonksiyonu ile tekrar bir degiskene atarsak, olusan liste yedek olur"
   ]
  },
  {
   "cell_type": "markdown",
   "metadata": {},
   "source": [
    "26. Asagidaki gibi bos hucre ekleyerek bu hucrelerde  \"Listeler\" ile ilgili karalama, test etme, uygulama, deneme-yanilma, farkli kombinasyonlari denemeler yapiniz:"
   ]
  },
  {
   "cell_type": "code",
   "execution_count": null,
   "metadata": {},
   "outputs": [],
   "source": []
  },
  {
   "cell_type": "code",
   "execution_count": null,
   "metadata": {},
   "outputs": [],
   "source": []
  },
  {
   "cell_type": "code",
   "execution_count": null,
   "metadata": {},
   "outputs": [],
   "source": []
  },
  {
   "cell_type": "markdown",
   "metadata": {},
   "source": [
    "## Fonksiyonlar-Methodlar ve kutuphaneler"
   ]
  },
  {
   "cell_type": "markdown",
   "metadata": {},
   "source": [
    "27. print(), type(), len(), str(), float(), int(), bool() bunlar da birer fonksiyondur"
   ]
  },
  {
   "cell_type": "code",
   "execution_count": null,
   "metadata": {},
   "outputs": [],
   "source": [
    "degisken1 = [1,2,3,4]\n",
    "degisken2 = True\n",
    "\n",
    "# degisken1 in veri tipini yazdiriniz\n",
    "\n",
    "\n",
    "# degisken1 nin uzunlugunu yazdiriniz\n",
    "print(len(degisken1))\n",
    "\n",
    "# degisken2 yi int a cevirip 'sonuc' adiyla kaydediniz\n",
    "sonuc = int(degisken2)"
   ]
  },
  {
   "cell_type": "raw",
   "metadata": {},
   "source": [
    "NOT:\n",
    "\n",
    "help(ornek_fonksiyon) veya \n",
    "?ornek_fonksiyon \n",
    "ile ornek_fonksiyon adli bir fonksiyon hakkinda ayrintili bilgi alabilriz:"
   ]
  },
  {
   "cell_type": "code",
   "execution_count": null,
   "metadata": {},
   "outputs": [],
   "source": [
    "# max fonksiyonunu bu sekilde inceleyiniz\n",
    "?max"
   ]
  },
  {
   "cell_type": "code",
   "execution_count": null,
   "metadata": {},
   "outputs": [],
   "source": [
    "# sum fonksiyonunu bu sekilde inceleyiniz\n",
    "help(sum)"
   ]
  },
  {
   "cell_type": "markdown",
   "metadata": {},
   "source": [
    "28. Fonksiyonlarda coklu arguman:"
   ]
  },
  {
   "cell_type": "code",
   "execution_count": null,
   "metadata": {},
   "outputs": [],
   "source": [
    "tekler = [1,3,5,7,9]\n",
    "ciftler = [0,2,4,6,8]\n",
    "\n",
    "# iki listeyi + ile ekleyip rakamlar adiyla kaydediniz ve yazdiriniz \n",
    "rakamlar = tekler + ciftler\n",
    "print(rakamlar)\n",
    "\n",
    "# rakamlar listesini kucukten buyuge siralanmis halini rakamlar_sirali adiyla kaydediniz ve yazdiriniz\n",
    "rakamlar_sirali = sorted(rakamlar)\n",
    "\n",
    "\n",
    "# rakamlar listesini buyukten kucuge siralanmis halini rakamlar_sirali2 adiyla kaydediniz ve yazdiriniz (ipucu: reverse=True)\n",
    "rakamlar_sirali2 = sorted(rakamlar, reverse=True)\n"
   ]
  },
  {
   "cell_type": "markdown",
   "metadata": {},
   "source": [
    "29. Methodlar:"
   ]
  },
  {
   "cell_type": "code",
   "execution_count": null,
   "metadata": {},
   "outputs": [],
   "source": [
    "kurs = \"veribilimiegitimi\"\n",
    "\n",
    "# kurs string degiskenini .upper() metodu kullanarak buyuk harfli olarak kurs2 ismiyle kaydediniz\n",
    "kurs2 = kurs.upper()\n",
    "\n",
    "# kurs ve kurs2 yi yazdiriniz\n",
    "\n",
    "\n",
    "\n",
    "# kurs string degiskeninde kac tane i harfi gectigini .count() methodu ile bulup yazdiriniz\n",
    "print(kurs.count('i'))"
   ]
  },
  {
   "cell_type": "markdown",
   "metadata": {},
   "source": [
    "30. liste metodlari: .index()  .count()"
   ]
  },
  {
   "cell_type": "code",
   "execution_count": null,
   "metadata": {},
   "outputs": [],
   "source": [
    "alanlar = [14.2, 18, 20.1, 9.5, 9.5]\n",
    "\n",
    "# 20.1 degerinin index numarasini ilgili metod ile bulup yazdiriniz\n",
    "print(alanlar.index(20.1))\n",
    "\n",
    "# 9.5 degerinin kac defa gectigi yazdiriniz. (print ile)\n",
    "      alanlar.count(9.5) "
   ]
  },
  {
   "cell_type": "markdown",
   "metadata": {},
   "source": [
    "31. liste metodlari: .append() .remove() .reverse()"
   ]
  },
  {
   "cell_type": "code",
   "execution_count": 5,
   "metadata": {},
   "outputs": [
    {
     "name": "stdout",
     "output_type": "stream",
     "text": [
      "\n",
      "[11.4, 23.7, 9.5, 9.5, 20.1, 18, 14.2]\n"
     ]
    }
   ],
   "source": [
    "alanlar = [14.2, 18, 20.1, 9.5, 9.5]\n",
    "\n",
    "# alanlar listesine sirasiyla 23.7 ve 11.4 sayilarini ekleyiniz ve yazdiriniz!\n",
    "alanlar.append(23.7)\n",
    "alanlar.append(11.4)\n",
    "print()\n",
    "\n",
    "# alanlar listesinin eleman siralamasini tersine ceviriniz. (yeni bir degisken olarak atamayiniz)\n",
    "alanlar.reverse()\n",
    "\n",
    "# alanlar listesini tekrar yazdiriniz\n",
    "print(alanlar)"
   ]
  },
  {
   "cell_type": "markdown",
   "metadata": {},
   "source": [
    "32. Kutuphaneler: numpy, pandas, math ..."
   ]
  },
  {
   "cell_type": "code",
   "execution_count": 8,
   "metadata": {},
   "outputs": [
    {
     "name": "stdout",
     "output_type": "stream",
     "text": [
      "2.827433388230814\n",
      "0.6361725123519332\n"
     ]
    }
   ],
   "source": [
    "# dairenin yaricapi\n",
    "r = 0.45\n",
    "\n",
    "# math kutuphanesini aktif ediniz / cagiriniz / yukleyiniz, (kisaltma olarak: m)\n",
    "import math as m\n",
    "\n",
    "# dairenin cevresini bulunuz: C (C=2πr) \n",
    "C = 0\n",
    "C = 2 * m.pi * r\n",
    "\n",
    "# dairenin alanini bulunuz: A (A=πr^2)\n",
    "A = 0\n",
    "A = m.pi * r ** 2\n",
    "\n",
    "# Cevresini ve alanini yazdiralim:\n",
    "print(C)\n",
    "print(A)\n"
   ]
  },
  {
   "cell_type": "markdown",
   "metadata": {},
   "source": [
    "33. Bi Kutuphanenin bir kismini import etmek:"
   ]
  },
  {
   "cell_type": "code",
   "execution_count": 9,
   "metadata": {},
   "outputs": [
    {
     "name": "stdout",
     "output_type": "stream",
     "text": [
      "40317.10572106901\n"
     ]
    }
   ],
   "source": [
    "# Ayin yari capi km olarak\n",
    "r = 192500\n",
    "\n",
    "# math kutuphanesinden sadece radians fonksoyonunu import ediniz\n",
    "from math import radians\n",
    "\n",
    "# Ayda 12 derece girmek kac km eder? (hesaplamasi konumuz degil) 'mesafe' olarak kaydedelim.\n",
    "mesafe = r * radians(12)\n",
    "\n",
    "# mesafe yi yazdiralim\n",
    "print(mesafe)"
   ]
  },
  {
   "cell_type": "markdown",
   "metadata": {},
   "source": [
    "34. BILGI: kutuphane import ederken 'as' ile kendi isimlendirmemizi yapabiliriz:"
   ]
  },
  {
   "cell_type": "code",
   "execution_count": null,
   "metadata": {},
   "outputs": [],
   "source": [
    "# spicy kutuphanesinin alt kutuphansi olan linalg kutuphanesinden inv adli fonksiyonu import edelim:\n",
    "# (yeniden isimlendirme olarak my_inv adini kullanalim:)\n",
    "\n",
    "from scipy.linalg import inv as my_inv"
   ]
  },
  {
   "cell_type": "markdown",
   "metadata": {},
   "source": [
    "35. Asagidaki gibi bos hucre ekleyerek bu hucrelerde \"Fonksiyonlar-Methodlar ve Kutuphaneler\" ile ilgili karalama, test etme, uygulama, deneme-yanilma, farkli kombinasyonlari denemeler yapiniz:"
   ]
  },
  {
   "cell_type": "code",
   "execution_count": null,
   "metadata": {},
   "outputs": [],
   "source": []
  },
  {
   "cell_type": "code",
   "execution_count": null,
   "metadata": {},
   "outputs": [],
   "source": []
  },
  {
   "cell_type": "code",
   "execution_count": null,
   "metadata": {},
   "outputs": [],
   "source": []
  },
  {
   "cell_type": "markdown",
   "metadata": {},
   "source": [
    "## Sozluk (dictionary) Yapilari"
   ]
  },
  {
   "cell_type": "markdown",
   "metadata": {},
   "source": [
    "35. Hatirlayalim: \n",
    ".index() methodunu ulkeler listesinin uzerinde kullanarak 'germany' elemaninin indexini bulunuz. Bunu ind_almanya ismi ile kaydediniz.\n"
   ]
  },
  {
   "cell_type": "code",
   "execution_count": null,
   "metadata": {},
   "outputs": [],
   "source": [
    "ulkeler = ['ispanya', 'fransa', 'almanya', 'isvec']\n",
    "baskentler = ['madrid', 'paris', 'berlin', 'stockholm']\n",
    "\n",
    "# 'almanya' nin indeksini tanimlayiniz: ind_almanya\n",
    "ind_almanya = ulkeler.index('almanya')\n",
    "\n",
    "# ind_almanya degiskenini kullanarak Almanyanin baskentini print ile yazdiriniz\n"
   ]
  },
  {
   "cell_type": "markdown",
   "metadata": {},
   "source": [
    "36. Sozluk (dictionary) olusturalim: "
   ]
  },
  {
   "cell_type": "raw",
   "metadata": {},
   "source": [
    "my_dict = {\n",
    "   \"key1\":\"value1\",\n",
    "   \"key2\":\"value2\",\n",
    "}"
   ]
  },
  {
   "cell_type": "markdown",
   "metadata": {},
   "source": [
    "Asagida verilen listeleri, sozluk yapisinda yaziniz. sozlugun adi 'avrupa' key degerleri ulke ismi ve value ddegerleri basskentler olsun."
   ]
  },
  {
   "cell_type": "code",
   "execution_count": null,
   "metadata": {},
   "outputs": [],
   "source": [
    "ulkeler = ['ispanya', 'fransa', 'almanya', 'isvec']\n",
    "baskentler = ['madrid', 'paris', 'berlin', 'stockholm']\n",
    "\n",
    "# sozlugu bu satirin altinda tanimlayiniz:\n",
    "avrupa = {  'ispanya':'madrid', 'fransa':'paris', 'almanya':'berlin', 'isvec':'stockholm'  }\n",
    "\n",
    "# Olusturdugunuz avrupa adindaku sozlugu yazdiriniz:\n"
   ]
  },
  {
   "cell_type": "markdown",
   "metadata": {},
   "source": [
    "37. Sozluk elemanlarina ulasmak:"
   ]
  },
  {
   "cell_type": "raw",
   "metadata": {},
   "source": [
    "avrupa['fransa']"
   ]
  },
  {
   "cell_type": "code",
   "execution_count": null,
   "metadata": {},
   "outputs": [],
   "source": [
    "# .keys() method unu kullanarak yukaruda olusturdugunuz avrupa sozluk yapisinin keys denilen anahtar elemanlarini yazdiriniz\n",
    "\n",
    "\n",
    "# isvec in baskentini yazdiriniz\n"
   ]
  },
  {
   "cell_type": "markdown",
   "metadata": {},
   "source": [
    "38. Sozluk yapisinda islemler:"
   ]
  },
  {
   "cell_type": "code",
   "execution_count": null,
   "metadata": {},
   "outputs": [],
   "source": [
    "# olusturdugunuz avrupa sozluk yapisina 'italya' ve baskenti 'roma' yi ekleyiniz: \n",
    "avrupa['italya'] = 'roma'\n",
    "\n",
    "# Polonya ve baskenti varsova yi da ekleyiniz\n",
    "\n",
    "\n",
    "# avrupa sozluk yapisini yazdiriniz\n"
   ]
  },
  {
   "cell_type": "code",
   "execution_count": null,
   "metadata": {},
   "outputs": [],
   "source": [
    "# 'italya' avrupa sozlugunun icinde mi?\n",
    "print('italya' in avrupa)"
   ]
  },
  {
   "cell_type": "markdown",
   "metadata": {},
   "source": [
    "39. Sozlukte eleman guncellemek ve silmek"
   ]
  },
  {
   "cell_type": "code",
   "execution_count": null,
   "metadata": {},
   "outputs": [],
   "source": [
    "avrupa = {'ispanya': 'madrid', 'fransa': 'paris', 'almanya': 'bonn', \n",
    "          'isvec': 'stockholm', 'italya': 'roma', 'polonya': 'varsova'}\n",
    "\n",
    "# almanyanin baskenti yanlis girilmis. 'berlin' ile degistiriniz\n",
    "\n",
    "\n",
    "# polonya yi sozlukten siliniz\n",
    "\n",
    "\n",
    "#avrupa sozlugunun son halini yazdiriniz\n"
   ]
  },
  {
   "cell_type": "markdown",
   "metadata": {},
   "source": [
    "40. Sozluk icinde sozluk:  elemanlari birer sozluk olan sozluk"
   ]
  },
  {
   "cell_type": "raw",
   "metadata": {},
   "source": [
    "avrupa['ispanya']['nufus']"
   ]
  },
  {
   "cell_type": "code",
   "execution_count": null,
   "metadata": {},
   "outputs": [],
   "source": [
    "avrupa = { 'ispanya': { 'baskent':'madrid', 'nufus':46.77 },\n",
    "           'fransa': { 'baskent':'paris', 'nufus':66.03 },\n",
    "           'almanya': { 'baskent':'berlin', 'nufus':80.62 },\n",
    "           'isvec': { 'baskent':'stockholm', 'nufus':10.84 } }\n",
    "\n",
    "# Fransanin baskentini yazdiriniz\n",
    "avrupa['fransa']['baskent']\n",
    "\n",
    "# bir ic-sozluk verisi olusturunuz\n",
    "veri = { 'baskent':'roma', 'nufus':59.83 }\n",
    "\n",
    "# bu veriyi 'italya' key adi ile sozluge ekleyiniz\n",
    "\n",
    "\n",
    "# avrupa sozlugunu yazdiriniz\n"
   ]
  },
  {
   "cell_type": "markdown",
   "metadata": {},
   "source": [
    "Asagidaki gibi bos hucre ekleyerek bu hucrelerde \"Sozluk (dictionary) Yapilari\" ile ilgili karalama, test etme, uygulama, deneme-yanilma, farkli kombinasyonlari denemeler yapiniz:"
   ]
  },
  {
   "cell_type": "code",
   "execution_count": null,
   "metadata": {},
   "outputs": [],
   "source": []
  },
  {
   "cell_type": "code",
   "execution_count": null,
   "metadata": {},
   "outputs": [],
   "source": []
  },
  {
   "cell_type": "code",
   "execution_count": null,
   "metadata": {},
   "outputs": [],
   "source": []
  },
  {
   "cell_type": "markdown",
   "metadata": {},
   "source": [
    "## Mantik ve Kiyaslamalar"
   ]
  },
  {
   "cell_type": "markdown",
   "metadata": {},
   "source": [
    "41. esitlik:"
   ]
  },
  {
   "cell_type": "raw",
   "metadata": {},
   "source": [
    "2 == (1 + 1)\n",
    "\"intermediate\" != \"python\"\n",
    "True != False\n",
    "\"Python\" != \"python"
   ]
  },
  {
   "cell_type": "code",
   "execution_count": null,
   "metadata": {},
   "outputs": [],
   "source": [
    "# True ile false esit midir\n",
    "print(True == False)\n",
    "\n",
    "# -5 carpi 25, 75 3 esit midir? \n"
   ]
  },
  {
   "cell_type": "code",
   "execution_count": null,
   "metadata": {},
   "outputs": [],
   "source": [
    "# string kiyaslamasi: 'hello' ve 'Hello' esit midir\n",
    "\n",
    "\n",
    "# True ile 1 esit midir\n",
    "print( True == 1 )"
   ]
  },
  {
   "cell_type": "markdown",
   "metadata": {},
   "source": [
    "42. Kiyaslamalar:"
   ]
  },
  {
   "cell_type": "code",
   "execution_count": null,
   "metadata": {},
   "outputs": [],
   "source": [
    "# integer'larda kiyaslama: x degeri -11 den buyuk mudur print ile yazdiriniz\n",
    "x = -3 * 6\n",
    "\n",
    "\n",
    "# strings'lerde kiyaslama: y string degiskeni ile 'test' degiskeninden kucuk veya esit midir\n",
    "y = \"test\"\n",
    "print( 'test' <= y)\n",
    "\n",
    "# boolean'larda kiyaslama: True False tan buyuk mudur\n"
   ]
  },
  {
   "cell_type": "markdown",
   "metadata": {},
   "source": [
    "## Kontrol islemleri"
   ]
  },
  {
   "cell_type": "markdown",
   "metadata": {},
   "source": [
    "43. if"
   ]
  },
  {
   "cell_type": "code",
   "execution_count": null,
   "metadata": {},
   "outputs": [],
   "source": [
    "yer = \"mutfak\"\n",
    "alan = 14.0\n",
    "\n",
    "# eger yer mutfak ise, \"mutfaktayim\" diye ekrana yazilsin\n",
    "if yer == \"mutfak\" :\n",
    "    print(\"mutfaktayim\")\n",
    "\n",
    "# Eger alan 15 ten buyuk ise \"buyuk mutfak!\"\n",
    "if alan > 15:\n",
    "    print()"
   ]
  },
  {
   "cell_type": "markdown",
   "metadata": {},
   "source": [
    "44. else"
   ]
  },
  {
   "cell_type": "code",
   "execution_count": null,
   "metadata": {},
   "outputs": [],
   "source": [
    "yer = \"mutfak\"  # burda tekrar tanimlamaya gerek yok normalde, gozonunde olsun diye yine de yazalim. \n",
    "alan = 14.0\n",
    "\n",
    "# yukaridaki if kod satirlarini editleyip, eger mutfakta degil isek, \"odadayim\" yazdirilsin\n",
    "if yer == \"mutfak\" :\n",
    "    print(\"mutfaktayim\")\n",
    "else :\n",
    "    print()\n",
    "\n",
    "# yukaridaki if kod satirlarini editleyip, eger alan 15ten kucuk ise \"Mutfak dar!\" yazdirilsin\n",
    "if alan > 15:\n",
    "    print(\"buyuk mutfak!\")\n",
    "else:\n",
    "    print()"
   ]
  },
  {
   "cell_type": "markdown",
   "metadata": {},
   "source": [
    "## Donguler (while, for... )"
   ]
  },
  {
   "cell_type": "markdown",
   "metadata": {},
   "source": [
    "45. while"
   ]
  },
  {
   "cell_type": "code",
   "execution_count": null,
   "metadata": {},
   "outputs": [],
   "source": [
    "durum = 5\n",
    "\n",
    "# while ile dongu olusturunuz, \n",
    "# durum degiskeni 0 olana kadar ekrana \"dogrulaniyor...\" ve durum degiskeninin degerini altalta gelecek sekilde yazdirilip \n",
    "# durum degiskenini 1 azaltiniz\n",
    "while durum != 0:\n",
    "    print(\"dogrulaniyor...\")\n",
    "    durum -=1\n",
    "    print(     )"
   ]
  },
  {
   "cell_type": "markdown",
   "metadata": {},
   "source": [
    "46. for"
   ]
  },
  {
   "cell_type": "code",
   "execution_count": null,
   "metadata": {},
   "outputs": [],
   "source": [
    "# alanlar listesi\n",
    "alanlar = [11.25, 18.0, 20.0, 10.75, 9.50]\n",
    "\n",
    "# for dongusu ole alanlar listesinin elemanlarini yazdiriniz\n",
    "for a in alanlar:\n",
    "    "
   ]
  },
  {
   "cell_type": "code",
   "execution_count": null,
   "metadata": {},
   "outputs": [],
   "source": [
    "# ev: liste icinde listeler seklinde.\n",
    "ev = [[\"koridor\", 11.25], \n",
    "         [\"mutfak\", 18.0], \n",
    "         [\"oda1\", 20.0], \n",
    "         [\"oda2\", 10.75], \n",
    "         [\"banyo\", 9.50]]"
   ]
  },
  {
   "cell_type": "raw",
   "metadata": {},
   "source": [
    "koridor: 11.25 metrekare\n",
    "mutfak: 18.0 metrekare\n",
    "oda1: 20.0 metrekare\n",
    "oda2: 10.75 metrekare\n",
    "banyo: 9.5 metrekare"
   ]
  },
  {
   "cell_type": "code",
   "execution_count": null,
   "metadata": {},
   "outputs": [],
   "source": [
    "# Yukari ciktiyi veren for dongusunu yaziniz\n",
    "for yer in ev:\n",
    "    print(yer[ ] + \": \"+ str(yer[ ]) + \" metrekare\")"
   ]
  },
  {
   "cell_type": "markdown",
   "metadata": {},
   "source": [
    "47. Sozluklerde for"
   ]
  },
  {
   "cell_type": "code",
   "execution_count": null,
   "metadata": {},
   "outputs": [],
   "source": [
    "# bir sozluk \n",
    "avrupa = {'ispanya':'madrid','isvec':'stockholm', 'fransa':'paris', 'almanya':'berlin' }"
   ]
  },
  {
   "cell_type": "raw",
   "metadata": {},
   "source": [
    "ispanya ulkesinin baskenti: madrid\n",
    "isvec ulkesinin baskenti: stockholm\n",
    "fransa ulkesinin baskenti: paris\n",
    "almanya ulkesinin baskenti: berlin"
   ]
  },
  {
   "cell_type": "code",
   "execution_count": null,
   "metadata": {},
   "outputs": [],
   "source": [
    "# avrupa sozluk yapisina .items() methodunu uygulayarak, for dongu ile yukaridaki ciktiyi yazdiriniz. \n",
    "# iki degisken kullanmalisiniz. ? yerine olmasi gereken degiskeni yaziniz\n",
    "for k,v in avrupa.items():\n",
    "    print( ? + \" ulkesinin baskenti: \" + ? )"
   ]
  },
  {
   "cell_type": "markdown",
   "metadata": {},
   "source": [
    "48."
   ]
  },
  {
   "cell_type": "markdown",
   "metadata": {},
   "source": [
    "Asagidaki gibi bos hucre ekleyerek bu hucrelerde 41. sorudan sonrasi ile ilgili karalama, test etme, uygulama, deneme-yanilma, farkli kombinasyonlari denemeler yapiniz:"
   ]
  },
  {
   "cell_type": "code",
   "execution_count": null,
   "metadata": {},
   "outputs": [],
   "source": []
  },
  {
   "cell_type": "code",
   "execution_count": null,
   "metadata": {},
   "outputs": [],
   "source": []
  },
  {
   "cell_type": "code",
   "execution_count": null,
   "metadata": {},
   "outputs": [],
   "source": []
  }
 ],
 "metadata": {
  "kernelspec": {
   "display_name": "Python 3",
   "language": "python",
   "name": "python3"
  },
  "language_info": {
   "codemirror_mode": {
    "name": "ipython",
    "version": 3
   },
   "file_extension": ".py",
   "mimetype": "text/x-python",
   "name": "python",
   "nbconvert_exporter": "python",
   "pygments_lexer": "ipython3",
   "version": "3.7.4"
  }
 },
 "nbformat": 4,
 "nbformat_minor": 4
}
