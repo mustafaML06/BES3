{
 "cells": [
  {
   "cell_type": "markdown",
   "metadata": {},
   "source": [
    "## Temel konular"
   ]
  },
  {
   "cell_type": "markdown",
   "metadata": {},
   "source": [
    "1. Su kodu calistirin: print(5 + 8)"
   ]
  },
  {
   "cell_type": "code",
   "execution_count": null,
   "metadata": {},
   "outputs": [],
   "source": [
    "# ornek:\n",
    "print(3 * 7)"
   ]
  },
  {
   "cell_type": "code",
   "execution_count": 1,
   "metadata": {},
   "outputs": [
    {
     "name": "stdout",
     "output_type": "stream",
     "text": [
      "40\n"
     ]
    }
   ],
   "source": [
    "# Kodu buraya yaziniz:\n",
    "print (5*8)"
   ]
  },
  {
   "cell_type": "markdown",
   "metadata": {},
   "source": [
    "2. Asagidaki kod hucresine \"#\" isaretini kullanarak bir not ekleyin:"
   ]
  },
  {
   "cell_type": "code",
   "execution_count": null,
   "metadata": {},
   "outputs": [],
   "source": [
    "# bu bir nottur"
   ]
  },
  {
   "cell_type": "markdown",
   "metadata": {},
   "source": [
    "3. Matematik islemleri: rastgele ikiser sayi secip, + - * / % ** islemlerini print() fonksiyonuygulayiniz:"
   ]
  },
  {
   "cell_type": "code",
   "execution_count": 2,
   "metadata": {},
   "outputs": [
    {
     "name": "stdout",
     "output_type": "stream",
     "text": [
      "11\n",
      "2\n",
      "56\n",
      "3.0\n",
      "3\n"
     ]
    }
   ],
   "source": [
    "# toplama:  (ornek) \n",
    "print(7 + 4)\n",
    "\n",
    "# cikarma:\n",
    "print(7-5)\n",
    "\n",
    "# carpma: \n",
    "print(7*8)\n",
    "\n",
    "#bolme:\n",
    "print(6/2)\n",
    "\n",
    "\n",
    "#mod alma: \n",
    "print(8%5)\n",
    "\n",
    "\n",
    "#ustel fonk:\n"
   ]
  },
  {
   "cell_type": "markdown",
   "metadata": {},
   "source": [
    "4. Degisken: x=10 seklinde bir degisken olusturun, ve bu degiskeni print ile yazdiriniz:"
   ]
  },
  {
   "cell_type": "code",
   "execution_count": 3,
   "metadata": {},
   "outputs": [],
   "source": [
    "# degisken olusturun:\n",
    "x = 10\n",
    "# yazdirin:\n",
    "\n"
   ]
  },
  {
   "cell_type": "markdown",
   "metadata": {},
   "source": [
    "5. basit bir problem: 50cm uzunlugunda bir fidan aldiniz. haftada 10 cm uzamaktadir. 4 hafta sonra 90cm olacagini degisken kullanarak gosteriniz:"
   ]
  },
  {
   "cell_type": "code",
   "execution_count": 6,
   "metadata": {},
   "outputs": [
    {
     "name": "stdout",
     "output_type": "stream",
     "text": [
      "90\n"
     ]
    }
   ],
   "source": [
    "# fidanin ilk boyunu bir degiskene atayiniz: \n",
    "x=50\n",
    "son_boy=(4*10)+x\n",
    "print(son_boy)\n",
    "\n",
    "\n",
    "# fidanin haftalik uzama miktarini bir degiskene atayiniz:\n",
    "\n",
    "\n",
    "# son_boy adli bir degisken olusturup, degiskenleri kullanarak hesaplayiniz:\n",
    "\n",
    "\n",
    "# sonucu ifade eden degiskeni yazdiriniz:\n"
   ]
  },
  {
   "cell_type": "markdown",
   "metadata": {},
   "source": [
    "6. integer, float, string ve boolean degisken tipleri: verilen degiskenlerin tipleri type() ile belirleyip, print kullanarak yazdiriniz:"
   ]
  },
  {
   "cell_type": "code",
   "execution_count": 8,
   "metadata": {},
   "outputs": [
    {
     "name": "stdout",
     "output_type": "stream",
     "text": [
      "<class 'int'>\n",
      "<class 'float'>\n",
      "<class 'str'>\n",
      "<class 'bool'>\n"
     ]
    }
   ],
   "source": [
    "x = 200\n",
    "print(type(x))\n",
    "\n",
    "# ustteki ornekte oldugu gibi:\n",
    "y = 2.2\n",
    "print(type(y))\n",
    "\n",
    "# string tipindeki 'cumle' adli degiskenin tipini ayni sekilde yazdiriniz\n",
    "cumle = \"Alaninda en iyilerinden ol\"\n",
    "print(type(cumle))\n",
    "\n",
    "# boolean tipindeki 'sonuc' adli degiskenin tipini ayni sekilde yazdiriniz\n",
    "sonuc = True\n",
    "print(type(sonuc))\n"
   ]
  },
  {
   "cell_type": "markdown",
   "metadata": {},
   "source": [
    "NOT: goruldugu uzere python'da diger dillerin aksine veri tipini ayrica tanimlamamiza gerek yok. Python otomatik olarak veri tipini belirliyor"
   ]
  },
  {
   "cell_type": "markdown",
   "metadata": {},
   "source": [
    "7. integer ile float'i carparsak sonucun tipi ne olur?"
   ]
  },
  {
   "cell_type": "code",
   "execution_count": 11,
   "metadata": {},
   "outputs": [
    {
     "name": "stdout",
     "output_type": "stream",
     "text": [
      "22.0\n",
      "<class 'float'>\n"
     ]
    }
   ],
   "source": [
    "# a isimli bir integer degisken olusturunuz (herhangi bir sayi olabilir)\n",
    "a=4\n",
    "\n",
    "\n",
    "# b isimli bir float degisken olusturunuz\n",
    "\n",
    "b= 5.5\n",
    "# bunlari carpip c isimli bir degiskene atayiniz\n",
    "c=(a*b)\n",
    "print(c)\n",
    "\n",
    "# onucun (c'nin) tipini type() fonksiyonu ile belirleyip print kullanarak yazdirirniz\n",
    "print(type(c))"
   ]
  },
  {
   "cell_type": "markdown",
   "metadata": {},
   "source": [
    "8. Iki string toplanabilir mi?"
   ]
  },
  {
   "cell_type": "code",
   "execution_count": 12,
   "metadata": {},
   "outputs": [
    {
     "name": "stdout",
     "output_type": "stream",
     "text": [
      "kelime1kelime2\n"
     ]
    }
   ],
   "source": [
    "# 'kelime1' isimli bir string degisken olusturunuz (herhangi bir kelime yazabilirsiniz)\n",
    "\n",
    "kelima1= 'hey'\n",
    "# 'kelime2' isimli bir string degisken olusturunuz (herhangi bir kelime yazabilirsiniz)\n",
    "\n",
    "kelime2='merhaba'\n",
    "# bu iki string degiskeni + isareti ile toplayiniz ve 'kelimeler' adli bir degiskene atayiniz\n",
    "kelimeler = 'kelime1'+'kelime2'\n",
    "print(kelimeler)\n",
    "\n",
    "# 'kelimeler' adli degiskeni print ile yazdiriniz\n"
   ]
  },
  {
   "cell_type": "markdown",
   "metadata": {},
   "source": [
    "9. bir integeri string olarak okumak:"
   ]
  },
  {
   "cell_type": "code",
   "execution_count": 14,
   "metadata": {},
   "outputs": [
    {
     "name": "stdout",
     "output_type": "stream",
     "text": [
      "<class 'int'>\n",
      "<class 'str'>\n"
     ]
    }
   ],
   "source": [
    "x = 50\n",
    "\n",
    "# verilen integer degiskeninin tipini yazdiriniz\n",
    "print(type(x))\n",
    "\n",
    "# x degiskenine str() fonksiyonunu uygulayip (buna isleme ingilizce olarak 'cast' etmek deniyor), veri tipini tekrar yazdirini\n",
    "print(type(str(x)))"
   ]
  },
  {
   "cell_type": "markdown",
   "metadata": {},
   "source": [
    "10. string, integer ve float beraber kullanimi:"
   ]
  },
  {
   "cell_type": "code",
   "execution_count": 22,
   "metadata": {},
   "outputs": [
    {
     "name": "stdout",
     "output_type": "stream",
     "text": [
      "Cocugun_boyu120 Cocugun_kilosu:35dir\n"
     ]
    }
   ],
   "source": [
    "boy = 120\n",
    "kilo = 35\n",
    "print('Cocugun_boyu'+str(boy) + ' Cocugun_kilosu:'+str(kilo)+'dir')\n",
    "# verilen boy ve kilo degiskenlerini kullanarak \"Cocugun boyu 120 ve kilosu 35'tir\" cumlesini yazdiriniz:"
   ]
  },
  {
   "cell_type": "markdown",
   "metadata": {},
   "source": [
    "11. string'i float'a cevirmek:"
   ]
  },
  {
   "cell_type": "code",
   "execution_count": 25,
   "metadata": {},
   "outputs": [
    {
     "name": "stdout",
     "output_type": "stream",
     "text": [
      "<class 'float'>\n"
     ]
    }
   ],
   "source": [
    "not_ortalamam_string = \"2.80\"\n",
    "\n",
    "# verilen degiskeni float tipine cevirip \"not_ortalamam_float\" ismiyle kaydediniz\n",
    "not_ortalamam_float = float(not_ortalamam_string)\n",
    "print(type(not_ortalamam_float))"
   ]
  },
  {
   "cell_type": "markdown",
   "metadata": {},
   "source": [
    "12. Asagidaki 3 hucredeki hatalari duzeltiniz:"
   ]
  },
  {
   "cell_type": "code",
   "execution_count": 26,
   "metadata": {},
   "outputs": [
    {
     "data": {
      "text/plain": [
       "'String ifadelere boyle 3 integer ekliyoruz'"
      ]
     },
     "execution_count": 26,
     "metadata": {},
     "output_type": "execute_result"
    }
   ],
   "source": [
    "\"String ifadelere boyle \" + str(3) + \" integer ekliyoruz\""
   ]
  },
  {
   "cell_type": "code",
   "execution_count": 28,
   "metadata": {},
   "outputs": [
    {
     "data": {
      "text/plain": [
       "'Kursta sinifa girerken Hej! Hej!  diyoruz'"
      ]
     },
     "execution_count": 28,
     "metadata": {},
     "output_type": "execute_result"
    }
   ],
   "source": [
    "\"Kursta sinifa girerken \"   +   (\"Hej! \"*2)  +  \" diyoruz\""
   ]
  },
  {
   "cell_type": "code",
   "execution_count": 31,
   "metadata": {},
   "outputs": [
    {
     "data": {
      "text/plain": [
       "'Sorunun cevabi: 5'"
      ]
     },
     "execution_count": 31,
     "metadata": {},
     "output_type": "execute_result"
    }
   ],
   "source": [
    "\"Sorunun cevabi: \"  + str(5)"
   ]
  },
  {
   "cell_type": "markdown",
   "metadata": {},
   "source": [
    "13. True ile False toplanabilir mi? sizce neden."
   ]
  },
  {
   "cell_type": "code",
   "execution_count": 29,
   "metadata": {},
   "outputs": [
    {
     "name": "stdout",
     "output_type": "stream",
     "text": [
      "1\n"
     ]
    }
   ],
   "source": [
    "print(True+False)"
   ]
  },
  {
   "cell_type": "markdown",
   "metadata": {},
   "source": [
    "14. Asagidaki gibi bos hucre ekleyerek bu hucrelerde \"Temel Konular\" ile ilgili karalama, test etme, uygulama, deneme-yanilma, farkli kombinasyonlari denemeler yapiniz:"
   ]
  },
  {
   "cell_type": "code",
   "execution_count": null,
   "metadata": {},
   "outputs": [],
   "source": []
  },
  {
   "cell_type": "code",
   "execution_count": null,
   "metadata": {},
   "outputs": [],
   "source": []
  },
  {
   "cell_type": "code",
   "execution_count": null,
   "metadata": {},
   "outputs": [],
   "source": []
  },
  {
   "cell_type": "markdown",
   "metadata": {},
   "source": [
    "## Listeler"
   ]
  },
  {
   "cell_type": "markdown",
   "metadata": {},
   "source": [
    "15. verilen degiskenleri kullanarak bir python listesi olusturunuz"
   ]
  },
  {
   "cell_type": "code",
   "execution_count": 33,
   "metadata": {},
   "outputs": [
    {
     "name": "stdout",
     "output_type": "stream",
     "text": [
      "[10.2, 8.5, 12.4, 7.1, 6.4]\n"
     ]
    }
   ],
   "source": [
    "kor = 10.2\n",
    "mut = 8.5\n",
    "sln = 12.4\n",
    "o1 = 7.1\n",
    "o2 = 6.4\n",
    "\n",
    "# yukaridaki degiskenleri kullanarak \"alanlar\" adli bir liste olusturup, print ile bu listeyi yazdiriniz\n",
    "alanlar = [kor,mut,sln,o1,o2]\n",
    "print(alanlar)"
   ]
  },
  {
   "cell_type": "code",
   "execution_count": null,
   "metadata": {},
   "outputs": [],
   "source": [
    "# 'alanlar' adli bir listeye string halide \"koridor\", \"mutfak\", \"salon\", \"oda1\", \"oda2\" degiskenlerini ekleyiniz. \n",
    "# (isim ve metrekare sayisi pespese gelecek sekilde sirayla)\n",
    "\n",
    "alanlar = [\"koridor\", kor, \"mutfak\", mut, \"salon\", sln, \"oda1\", o1, \"oda2\", o2]\n",
    "\n",
    "# listenin guncel halini yazdiriniz\n"
   ]
  },
  {
   "cell_type": "markdown",
   "metadata": {},
   "source": [
    "16. Liste icinde listeler:"
   ]
  },
  {
   "cell_type": "code",
   "execution_count": 35,
   "metadata": {
    "scrolled": true
   },
   "outputs": [
    {
     "name": "stdout",
     "output_type": "stream",
     "text": [
      "[['koridor', 10.2], ['mutfak', 8.5], ['salon', 12.4], ['oda1', 7.1], ['oda2', 6.4]]\n",
      "<class 'list'>\n"
     ]
    }
   ],
   "source": [
    "ev = [[\"koridor\", kor], [\"mutfak\", mut], [\"salon\", sln], [\"oda1\", o1], [\"oda2\", o2]]\n",
    "\n",
    "# ev isimli degiskeni yazdiriniz. (ev bir degiskendir veri tipi liste'dir)\n",
    "print(ev)\n",
    "\n",
    "# ev degiskeninin veri tipini yazdiriniz\n",
    "print(type(ev))"
   ]
  },
  {
   "cell_type": "markdown",
   "metadata": {},
   "source": [
    "17. Listeler ve indeksleri ile elemanlarina ulasmak:"
   ]
  },
  {
   "cell_type": "code",
   "execution_count": 39,
   "metadata": {},
   "outputs": [
    {
     "name": "stdout",
     "output_type": "stream",
     "text": [
      "10.2\n",
      "6.4\n",
      "12.4\n"
     ]
    }
   ],
   "source": [
    "alanlar = [\"koridor\", kor, \"mutfak\", mut, \"salon\", sln, \"oda1\", o1, \"oda2\", o2]\n",
    "\n",
    "# alanlar listesinin 2. elemanini yazdiriniz (indeksi 2 olan degil)\n",
    "print(alanlar[1])\n",
    "\n",
    "# alanlar listesinin son elemanini yazdiriniz\n",
    "print(alanlar[-1])\n",
    "\n",
    "# alanlar listesinden salonun alanini yazdiriniz\n",
    "print(alanlar[5])"
   ]
  },
  {
   "cell_type": "markdown",
   "metadata": {},
   "source": [
    "18. liste elemanlari ve islemler"
   ]
  },
  {
   "cell_type": "code",
   "execution_count": 41,
   "metadata": {},
   "outputs": [
    {
     "name": "stdout",
     "output_type": "stream",
     "text": [
      "20.9\n"
     ]
    }
   ],
   "source": [
    "# mutfak ve salonun toplam alanini hesaplayiniz: yemek_ve_misafir adli degiskene atayiniz\n",
    "\n",
    "yemek_ve_misafir = mut + sln\n",
    "print(yemek_ve_misafir)\n",
    "# yemek_ve_misafir degiskenini yazdiriniz\n"
   ]
  },
  {
   "cell_type": "markdown",
   "metadata": {},
   "source": [
    "19. Slice:"
   ]
  },
  {
   "cell_type": "code",
   "execution_count": null,
   "metadata": {},
   "outputs": [],
   "source": [
    "#ornek slice:\n",
    "mutfak = alanlar[2:4]\n",
    "print(mutfak)\n",
    "\n",
    "alanlar = [\"koridor\", kor, \"mutfak\", mut, \"salon\", sln, \"oda1\", o1, \"oda2\", o2]\n",
    "\n",
    "# \"alanlar\" listesinin ilk 6 elemanini ustteki gibi slice ile seciniz ve \"alt_kat\" adli bir degiskene atayiniz\n",
    "\n",
    "\n",
    "# ayni sekilde son 4 elemani ustteki gibi slice ile secip \"ust_kat\" 'a atayiniz\n",
    "\n",
    "\n",
    "# alt_kat ve ust_kat degiskenlerini yazdiriniz\n",
    "\n"
   ]
  },
  {
   "cell_type": "markdown",
   "metadata": {},
   "source": [
    "20. ayni islemi alternatif slice ile:"
   ]
  },
  {
   "cell_type": "code",
   "execution_count": null,
   "metadata": {},
   "outputs": [],
   "source": [
    "oda2 = alanlar[-2:]\n",
    "print(oda2)\n",
    "\n",
    "# ayni sekilde son 4 elemani alternarif slice ile secip \"ust_kat\" 'a atayiniz (ipucu: negatif indeks)\n",
    "\n",
    "\n",
    "# ust_kat degiskenini yazdiriniz\n",
    "\n"
   ]
  },
  {
   "cell_type": "markdown",
   "metadata": {},
   "source": [
    "21. Liste icinde listelerde Cift indeks kullanilabilir:"
   ]
  },
  {
   "cell_type": "code",
   "execution_count": null,
   "metadata": {},
   "outputs": [],
   "source": [
    "ev = [[\"koridor\", kor], [\"mutfak\", mut], [\"salon\", sln], [\"oda1\", o1], [\"oda2\", o2]]\n",
    "\n",
    "# ev listesine ev[-1][1] seklinde cift indis uygulanirsa sonuc ne doner?\n"
   ]
  },
  {
   "cell_type": "markdown",
   "metadata": {},
   "source": [
    "22. listelerde degisiklik:"
   ]
  },
  {
   "cell_type": "code",
   "execution_count": null,
   "metadata": {},
   "outputs": [],
   "source": [
    "alanlar = [\"koridor\", kor, \"mutfak\", mut, \"salon\", sln, \"oda1\", o1, \"oda2\", o2]\n",
    "\n",
    "# oda2 nin alanini 5.1 ile guncelleyiniz\n",
    "\n",
    "\n",
    "# oda2 nin adini \"cocuk_odasi\" seklinde degistiriniz\n",
    "alanlar[8] = \n",
    "#veya:\n",
    "alanlar[-2] = \n",
    "\n",
    "# alanlar listesini yazdiriniz\n"
   ]
  },
  {
   "cell_type": "markdown",
   "metadata": {},
   "source": [
    "23. Listeye bir baska liste ekleme:"
   ]
  },
  {
   "cell_type": "code",
   "execution_count": null,
   "metadata": {},
   "outputs": [],
   "source": [
    "[\"yuzme_havuzu\", 24.3]\n",
    "\n",
    "# alanlar listesine ustte verilen 2 elemanli listeyi + ile ekleyip alanlar_1 adi ile kaydediniz\n",
    "\n",
    "\n",
    "# alanlar_1 listesine 15.4 m2 buyuklugunde bir garaj ekleyip, alanlar_2 adi ile kaydediniz\n",
    "alanlar_2 = alanlar_1 + ['garaj', 15.4]\n",
    "\n",
    "# uc listeyi de yazdiriniz\n",
    "\n",
    "\n"
   ]
  },
  {
   "cell_type": "markdown",
   "metadata": {},
   "source": [
    "24. liste elemani silmek"
   ]
  },
  {
   "cell_type": "code",
   "execution_count": null,
   "metadata": {},
   "outputs": [],
   "source": [
    "alanlar_2 = ['koridor', 10.2, 'mutfak', 8.5, 'salon', 12.4, 'oda1', 7.1, 'cocuk_odasi', 5.1, 'yuzme_havuzu', 24.3, 'garaj', 15.4]\n",
    "\n",
    "# alanlar_2 listesinden yuzme_havuzu ve 24.3 degerini siliniz\n",
    "\n",
    "\n",
    "\n",
    "# alanlar_2 dizisini tekrar yazdiriniz\n"
   ]
  },
  {
   "cell_type": "raw",
   "metadata": {},
   "source": [
    "NOT: \n",
    "    kod1\n",
    "    kod2\n",
    "yukarida iki ayri kod farkli satirlarda calistirilabildigi gibi tek satirda aralarina ; koyarak da calistirilabilir\n",
    "    kod1; kod2"
   ]
  },
  {
   "cell_type": "markdown",
   "metadata": {},
   "source": [
    "25. liste yedegi uzerinde calismak:"
   ]
  },
  {
   "cell_type": "code",
   "execution_count": null,
   "metadata": {
    "scrolled": true
   },
   "outputs": [],
   "source": [
    "listem = [2,4,6,8,10] \n",
    "\n",
    "listem_yedek = list(listem)\n",
    "\n",
    "# listem_yedek listesinin ilk elemeanini 12 ile degistiriniz\n",
    "listem_yedek[0] = 12\n",
    "\n",
    "# 'listem_yedek' ve 'listem' listelerini yazdiriniz.(orjinalinin degismedigini gozlemleyiniz)\n",
    "print(listem_yedek)\n",
    "print(listem)"
   ]
  },
  {
   "cell_type": "markdown",
   "metadata": {},
   "source": [
    "NOT: demek ki bir listeyi list() fonksiyonu ile tekrar bir degiskene atarsak, olusan liste yedek olur"
   ]
  },
  {
   "cell_type": "markdown",
   "metadata": {},
   "source": [
    "26. Asagidaki gibi bos hucre ekleyerek bu hucrelerde  \"Listeler\" ile ilgili karalama, test etme, uygulama, deneme-yanilma, farkli kombinasyonlari denemeler yapiniz:"
   ]
  },
  {
   "cell_type": "code",
   "execution_count": null,
   "metadata": {},
   "outputs": [],
   "source": []
  },
  {
   "cell_type": "code",
   "execution_count": null,
   "metadata": {},
   "outputs": [],
   "source": []
  },
  {
   "cell_type": "code",
   "execution_count": null,
   "metadata": {},
   "outputs": [],
   "source": []
  },
  {
   "cell_type": "markdown",
   "metadata": {},
   "source": [
    "## Fonksiyonlar-Methodlar ve kutuphaneler"
   ]
  },
  {
   "cell_type": "markdown",
   "metadata": {},
   "source": [
    "27. print(), type(), len(), str(), float(), int(), bool() bunlar da birer fonksiyondur"
   ]
  },
  {
   "cell_type": "code",
   "execution_count": null,
   "metadata": {},
   "outputs": [],
   "source": [
    "degisken1 = [1,2,3,4]\n",
    "degisken2 = True\n",
    "\n",
    "# degisken1 in veri tipini yazdiriniz\n",
    "\n",
    "\n",
    "# degisken1 nin uzunlugunu yazdiriniz\n",
    "\n",
    "\n",
    "# degisken2 yi int (integer) a cevirip 'sonuc' adiyla kaydediniz\n"
   ]
  },
  {
   "cell_type": "raw",
   "metadata": {},
   "source": [
    "NOT:\n",
    "\n",
    "help(ornek_fonksiyon) veya \n",
    "?ornek_fonksiyon \n",
    "ile ornek_fonksiyon adli bir fonksiyon hakkinda ayrintili bilgi alabilriz:"
   ]
  },
  {
   "cell_type": "code",
   "execution_count": null,
   "metadata": {},
   "outputs": [],
   "source": [
    "# max fonksiyonunu bu sekilde inceleyiniz\n",
    "?max"
   ]
  },
  {
   "cell_type": "code",
   "execution_count": null,
   "metadata": {},
   "outputs": [],
   "source": [
    "# sum fonksiyonunu bu sekilde inceleyiniz\n",
    "help(sum)"
   ]
  },
  {
   "cell_type": "markdown",
   "metadata": {},
   "source": [
    "28. Fonksiyonlarda coklu arguman:"
   ]
  },
  {
   "cell_type": "code",
   "execution_count": null,
   "metadata": {},
   "outputs": [],
   "source": [
    "tekler = [1,3,5,7,9]\n",
    "ciftler = [0,2,4,6,8]\n",
    "\n",
    "# iki listeyi + ile ekleyip rakamlar adiyla kaydediniz ve yazdiriniz \n",
    "\n",
    "\n",
    "\n",
    "# rakamlar listesini kucukten buyuge siralanmis halini rakamlar_sirali adiyla kaydediniz ve yazdiriniz\n",
    "\n",
    "\n",
    "\n",
    "# rakamlar listesini buyukten kucuge siralanmis halini rakamlar_sirali2 adiyla kaydediniz ve yazdiriniz (ipucu: reverse=True)\n",
    "\n"
   ]
  },
  {
   "cell_type": "markdown",
   "metadata": {},
   "source": [
    "29. Methodlar:"
   ]
  },
  {
   "cell_type": "code",
   "execution_count": null,
   "metadata": {},
   "outputs": [],
   "source": [
    "kurs = \"veribilimiegitimi\"\n",
    "\n",
    "# kurs string degiskenini .upper() metodu kullanarak buyuk harfli olarak kurs2 ismiyle kaydediniz\n",
    "\n",
    "\n",
    "# kurs ve kurs2 yi yazdiriniz\n",
    "\n",
    "\n",
    "\n",
    "# kurs string degiskeninde kac tane i harfi gectigini .count() methodu ile bulup yazdiriniz\n"
   ]
  },
  {
   "cell_type": "markdown",
   "metadata": {},
   "source": [
    "30. liste metodlari: .index()  .count()"
   ]
  },
  {
   "cell_type": "code",
   "execution_count": null,
   "metadata": {},
   "outputs": [],
   "source": [
    "alanlar = [14.2, 18, 20.1, 9.5, 9.5]\n",
    "\n",
    "# 20.1 degerinin index numarasini ilgili metod ile bulup yazdiriniz\n",
    "\n",
    "\n",
    "# 9.5 degerinin kac defa gectigi yazdiriniz. (print ile)\n"
   ]
  },
  {
   "cell_type": "markdown",
   "metadata": {},
   "source": [
    "31. liste metodlari: .append() .remove() .reverse()"
   ]
  },
  {
   "cell_type": "code",
   "execution_count": null,
   "metadata": {},
   "outputs": [],
   "source": [
    "alanlar = [14.2, 18, 20.1, 9.5, 9.5]\n",
    "\n",
    "# alanlar listesine sirasiyla 23.7 ve 11.4 sayilarini ekleyiniz ve yazdiriniz!\n",
    "\n",
    "\n",
    "\n",
    "\n",
    "# alanlar listesinin eleman siralamasini tersine ceviriniz. (yeni bir degisken olarak atamayiniz)\n",
    "\n",
    "\n",
    "# alanlar listesini tekrar yazdiriniz\n"
   ]
  },
  {
   "cell_type": "markdown",
   "metadata": {},
   "source": [
    "32. Kutuphaneler: numpy, pandas, math ..."
   ]
  },
  {
   "cell_type": "code",
   "execution_count": null,
   "metadata": {},
   "outputs": [],
   "source": [
    "# dairenin yaricapi\n",
    "r = 0.45\n",
    "\n",
    "# math kutuphanesini aktif ediniz / cagiriniz / yukleyiniz, (kisaltma olarak: m)\n",
    "import math as m\n",
    "\n",
    "# dairenin cevresini bulunuz: C (C=2πr) \n",
    "C = 0\n",
    "C = \n",
    "\n",
    "# dairenin alanini bulunuz: A (A=πr^2)\n",
    "A = 0\n",
    "A = \n",
    "\n",
    "# Cevresini ve alanini yazdiralim:\n",
    "\n"
   ]
  },
  {
   "cell_type": "markdown",
   "metadata": {},
   "source": [
    "33. Bi Kutuphanenin bir kismini import etmek:"
   ]
  },
  {
   "cell_type": "code",
   "execution_count": null,
   "metadata": {},
   "outputs": [],
   "source": [
    "# Ayin yari capi km olarak\n",
    "r = 192500\n",
    "\n",
    "# 'math' kutuphanesinden sadece 'radians' fonksoyonunu import ediniz\n",
    "\n",
    "\n",
    "# Ayda 12 derece girmek kac km eder? (hesaplamasi konumuz degil) 'mesafe' olarak kaydedelim.\n",
    "mesafe = r * radians(12)\n",
    "\n",
    "# mesafe yi yazdiralim\n"
   ]
  },
  {
   "cell_type": "markdown",
   "metadata": {},
   "source": [
    "34. BILGI: kutuphane import ederken 'as' ile kendi isimlendirmemizi yapabiliriz:"
   ]
  },
  {
   "cell_type": "code",
   "execution_count": null,
   "metadata": {},
   "outputs": [],
   "source": [
    "# spicy kutuphanesinin alt kutuphansi olan linalg kutuphanesinden inv adli fonksiyonu import edelim:\n",
    "# (yeniden isimlendirme olarak my_inv adini kullanalim:)\n",
    "\n",
    "from scipy.linalg import inv as my_inv"
   ]
  },
  {
   "cell_type": "markdown",
   "metadata": {},
   "source": [
    "35. Asagidaki gibi bos hucre ekleyerek bu hucrelerde \"Fonksiyonlar-Methodlar ve Kutuphaneler\" ile ilgili karalama, test etme, uygulama, deneme-yanilma, farkli kombinasyonlari denemeler yapiniz:"
   ]
  },
  {
   "cell_type": "code",
   "execution_count": null,
   "metadata": {},
   "outputs": [],
   "source": []
  },
  {
   "cell_type": "code",
   "execution_count": null,
   "metadata": {},
   "outputs": [],
   "source": []
  },
  {
   "cell_type": "code",
   "execution_count": null,
   "metadata": {},
   "outputs": [],
   "source": []
  },
  {
   "cell_type": "markdown",
   "metadata": {},
   "source": [
    "## Sozluk (dictionary) Yapilari"
   ]
  },
  {
   "cell_type": "markdown",
   "metadata": {},
   "source": [
    "35. Hatirlayalim: \n",
    ".index() methodunu ulkeler listesinin uzerinde kullanarak 'germany' elemaninin indexini bulunuz. Bunu ind_almanya ismi ile kaydediniz.\n"
   ]
  },
  {
   "cell_type": "code",
   "execution_count": null,
   "metadata": {},
   "outputs": [],
   "source": [
    "ulkeler = ['ispanya', 'fransa', 'almanya', 'isvec']\n",
    "baskentler = ['madrid', 'paris', 'berlin', 'stockholm']\n",
    "\n",
    "# 'almanya' nin indeksini tanimlayiniz: ind_almanya\n",
    "\n",
    "\n",
    "# ind_almanya degiskenini kullanarak Almanyanin baskentini print ile yazdiriniz\n"
   ]
  },
  {
   "cell_type": "markdown",
   "metadata": {},
   "source": [
    "36. Sozluk (dictionary) olusturalim: "
   ]
  },
  {
   "cell_type": "raw",
   "metadata": {},
   "source": [
    "my_dict = {\n",
    "   \"key1\":\"value1\",\n",
    "   \"key2\":\"value2\",\n",
    "}"
   ]
  },
  {
   "cell_type": "markdown",
   "metadata": {},
   "source": [
    "Asagida verilen listeleri, sozluk yapisinda yaziniz. sozlugun adi 'avrupa' key degerleri ulke ismi ve value ddegerleri basskentler olsun."
   ]
  },
  {
   "cell_type": "code",
   "execution_count": null,
   "metadata": {},
   "outputs": [],
   "source": [
    "ulkeler = ['ispanya', 'fransa', 'almanya', 'isvec']\n",
    "baskentler = ['madrid', 'paris', 'berlin', 'stockholm']\n",
    "\n",
    "# sozlugu bu satirin altinda tanimlayiniz:\n",
    "\n",
    "\n",
    "# Olusturdugunuz avrupa adindaku sozlugu yazdiriniz:\n"
   ]
  },
  {
   "cell_type": "markdown",
   "metadata": {},
   "source": [
    "37. Sozluk elemanlarina ulasmak:"
   ]
  },
  {
   "cell_type": "raw",
   "metadata": {},
   "source": [
    "avrupa['fransa']"
   ]
  },
  {
   "cell_type": "code",
   "execution_count": null,
   "metadata": {},
   "outputs": [],
   "source": [
    "# .keys() method unu kullanarak yukaruda olusturdugunuz avrupa sozluk yapisinin keys denilen anahtar elemanlarini yazdiriniz\n",
    "\n",
    "\n",
    "# isvec in baskentini yazdiriniz\n"
   ]
  },
  {
   "cell_type": "markdown",
   "metadata": {},
   "source": [
    "38. Sozluk yapisinda islemler:"
   ]
  },
  {
   "cell_type": "code",
   "execution_count": null,
   "metadata": {},
   "outputs": [],
   "source": [
    "# olusturdugunuz avrupa sozluk yapisina 'italya' ve baskenti 'roma' yi ekleyiniz: \n",
    "\n",
    "\n",
    "# Polonya ve baskenti varsova yi da ekleyiniz\n",
    "\n",
    "\n",
    "# avrupa sozluk yapisini yazdiriniz\n"
   ]
  },
  {
   "cell_type": "code",
   "execution_count": null,
   "metadata": {},
   "outputs": [],
   "source": [
    "# 'italya' avrupa sozlugunun icinde mi?\n"
   ]
  },
  {
   "cell_type": "markdown",
   "metadata": {},
   "source": [
    "39. Sozlukte eleman guncellemek ve silmek"
   ]
  },
  {
   "cell_type": "code",
   "execution_count": null,
   "metadata": {},
   "outputs": [],
   "source": [
    "avrupa = {'ispanya': 'madrid', 'fransa': 'paris', 'almanya': 'bonn', \n",
    "          'isvec': 'stockholm', 'italya': 'roma', 'polonya': 'varsova'}\n",
    "\n",
    "# almanyanin baskenti yanlis girilmis. 'berlin' ile degistiriniz\n",
    "\n",
    "\n",
    "# polonya yi sozlukten siliniz\n",
    "\n",
    "\n",
    "#avrupa sozlugunun son halini yazdiriniz\n"
   ]
  },
  {
   "cell_type": "markdown",
   "metadata": {},
   "source": [
    "40. Sozluk icinde sozluk:  elemanlari birer sozluk olan sozluk"
   ]
  },
  {
   "cell_type": "raw",
   "metadata": {},
   "source": [
    "avrupa['ispanya']['nufus']"
   ]
  },
  {
   "cell_type": "code",
   "execution_count": null,
   "metadata": {},
   "outputs": [],
   "source": [
    "avrupa = { 'ispanya': { 'baskent':'madrid', 'nufus':46.77 },\n",
    "           'fransa': { 'baskent':'paris', 'nufus':66.03 },\n",
    "           'almanya': { 'baskent':'berlin', 'nufus':80.62 },\n",
    "           'isvec': { 'baskent':'stockholm', 'nufus':10.84 } }\n",
    "\n",
    "# Fransanin baskentini yazdiriniz\n",
    "\n",
    "\n",
    "# bir ic-sozluk verisi olusturunuz\n",
    "veri = { 'baskent':'roma', 'nufus':59.83 }\n",
    "\n",
    "# bu veriyi 'italya' key adi ile sozluge ekleyiniz\n",
    "\n",
    "\n",
    "# avrupa sozlugunu yazdiriniz\n"
   ]
  },
  {
   "cell_type": "markdown",
   "metadata": {},
   "source": [
    "Asagidaki gibi bos hucre ekleyerek bu hucrelerde \"Sozluk (dictionary) Yapilari\" ile ilgili karalama, test etme, uygulama, deneme-yanilma, farkli kombinasyonlari denemeler yapiniz:"
   ]
  },
  {
   "cell_type": "code",
   "execution_count": null,
   "metadata": {},
   "outputs": [],
   "source": []
  },
  {
   "cell_type": "code",
   "execution_count": null,
   "metadata": {},
   "outputs": [],
   "source": []
  },
  {
   "cell_type": "code",
   "execution_count": null,
   "metadata": {},
   "outputs": [],
   "source": []
  },
  {
   "cell_type": "markdown",
   "metadata": {},
   "source": [
    "## Mantik ve Kiyaslamalar"
   ]
  },
  {
   "cell_type": "markdown",
   "metadata": {},
   "source": [
    "41. esitlik:"
   ]
  },
  {
   "cell_type": "raw",
   "metadata": {},
   "source": [
    "2 == (1 + 1)\n",
    "\"intermediate\" != \"python\"\n",
    "True != False\n",
    "\"Python\" != \"python"
   ]
  },
  {
   "cell_type": "code",
   "execution_count": null,
   "metadata": {},
   "outputs": [],
   "source": [
    "# True ile false esit midir\n",
    "\n",
    "\n",
    "# -5 carpi 25, 75 3 esit midir? \n"
   ]
  },
  {
   "cell_type": "code",
   "execution_count": null,
   "metadata": {},
   "outputs": [],
   "source": [
    "# string kiyaslamasi: 'hello' ve 'Hello' esit midir\n",
    "\n",
    "\n",
    "# True ile 1 esit midir\n"
   ]
  },
  {
   "cell_type": "markdown",
   "metadata": {},
   "source": [
    "42. Kiyaslamalar:"
   ]
  },
  {
   "cell_type": "code",
   "execution_count": null,
   "metadata": {},
   "outputs": [],
   "source": [
    "# integer'larda kiyaslama: x degeri -11 den buyuk mudur print ile yazdiriniz\n",
    "x = -3 * 6\n",
    "\n",
    "\n",
    "# strings'lerde kiyaslama: y string degiskeni ile 'test' degiskeninden kucuk veya esit midir\n",
    "y = \"test\"\n",
    "print( 'test' <= y)\n",
    "\n",
    "# boolean'larda kiyaslama: True False tan buyuk mudur\n"
   ]
  },
  {
   "cell_type": "markdown",
   "metadata": {},
   "source": [
    "## Kontrol islemleri"
   ]
  },
  {
   "cell_type": "markdown",
   "metadata": {},
   "source": [
    "43. if"
   ]
  },
  {
   "cell_type": "code",
   "execution_count": null,
   "metadata": {},
   "outputs": [],
   "source": [
    "yer = \"mutfak\"\n",
    "alan = 14.0\n",
    "\n",
    "# eger yer mutfak ise, \"mutfaktayim\" diye ekrana yazilsin\n",
    "\n",
    "\n",
    "\n",
    "# Eger alan 15 ten buyuk ise \"buyuk mutfak!\"\n",
    "\n"
   ]
  },
  {
   "cell_type": "markdown",
   "metadata": {},
   "source": [
    "44. else"
   ]
  },
  {
   "cell_type": "code",
   "execution_count": null,
   "metadata": {},
   "outputs": [],
   "source": [
    "yer = \"mutfak\"  # burda tekrar tanimlamaya gerek yok normalde, gozonunde olsun diye yine de yazalim. \n",
    "alan = 14.0\n",
    "\n",
    "# yukaridaki if kod satirlarini editleyip, eger mutfakta degil isek, \"odadayim\" yazdirilsin\n",
    "\n",
    "\n",
    "\n",
    "\n",
    "\n",
    "# yukaridaki if kod satirlarini editleyip, eger alan 15ten kucuk ise \"Mutfak dar!\" yazdirilsin\n",
    "\n",
    "\n",
    "\n"
   ]
  },
  {
   "cell_type": "markdown",
   "metadata": {},
   "source": [
    "## Donguler (while, for... )"
   ]
  },
  {
   "cell_type": "markdown",
   "metadata": {},
   "source": [
    "45. while"
   ]
  },
  {
   "cell_type": "code",
   "execution_count": null,
   "metadata": {},
   "outputs": [],
   "source": [
    "durum = 5\n",
    "\n",
    "# while ile dongu olusturunuz, \n",
    "# durum degiskeni 0 olana kadar ekrana \"dogrulaniyor...\" ve durum degiskeninin degerini altalta gelecek sekilde yazdirilip \n",
    "# durum degiskenini 1 azaltiniz\n",
    "\n",
    "\n",
    "\n"
   ]
  },
  {
   "cell_type": "markdown",
   "metadata": {},
   "source": [
    "46. for"
   ]
  },
  {
   "cell_type": "code",
   "execution_count": null,
   "metadata": {},
   "outputs": [],
   "source": [
    "# alanlar listesi\n",
    "alanlar = [11.25, 18.0, 20.0, 10.75, 9.50]\n",
    "\n",
    "# for dongusu ole alanlar listesinin elemanlarini yazdiriniz\n",
    "\n"
   ]
  },
  {
   "cell_type": "code",
   "execution_count": null,
   "metadata": {},
   "outputs": [],
   "source": [
    "# ev: liste icinde listeler seklinde.\n",
    "ev = [[\"koridor\", 11.25], \n",
    "         [\"mutfak\", 18.0], \n",
    "         [\"oda1\", 20.0], \n",
    "         [\"oda2\", 10.75], \n",
    "         [\"banyo\", 9.50]]"
   ]
  },
  {
   "cell_type": "raw",
   "metadata": {},
   "source": [
    "koridor: 11.25 metrekare\n",
    "mutfak: 18.0 metrekare\n",
    "oda1: 20.0 metrekare\n",
    "oda2: 10.75 metrekare\n",
    "banyo: 9.5 metrekare"
   ]
  },
  {
   "cell_type": "code",
   "execution_count": null,
   "metadata": {},
   "outputs": [],
   "source": [
    "# Yukari ciktiyi veren for dongusunu yaziniz\n",
    "\n"
   ]
  },
  {
   "cell_type": "markdown",
   "metadata": {},
   "source": [
    "47. Sozluklerde for"
   ]
  },
  {
   "cell_type": "code",
   "execution_count": null,
   "metadata": {},
   "outputs": [],
   "source": [
    "# bir sozluk \n",
    "avrupa = {'ispanya':'madrid','isvec':'stockholm', 'fransa':'paris', 'almanya':'berlin' }"
   ]
  },
  {
   "cell_type": "raw",
   "metadata": {},
   "source": [
    "ispanya ulkesinin baskenti: madrid\n",
    "isvec ulkesinin baskenti: stockholm\n",
    "fransa ulkesinin baskenti: paris\n",
    "almanya ulkesinin baskenti: berlin"
   ]
  },
  {
   "cell_type": "code",
   "execution_count": null,
   "metadata": {},
   "outputs": [],
   "source": [
    "# avrupa sozluk yapisina .items() methodunu uygulayarak, for dongu ile yukaridaki ciktiyi yazdiriniz. \n",
    "# iki degisken kullanmalisiniz\n",
    "\n"
   ]
  },
  {
   "cell_type": "markdown",
   "metadata": {},
   "source": [
    "48."
   ]
  },
  {
   "cell_type": "markdown",
   "metadata": {},
   "source": [
    "Asagidaki gibi bos hucre ekleyerek bu hucrelerde 41. sorudan sonrasi ile ilgili karalama, test etme, uygulama, deneme-yanilma, farkli kombinasyonlari denemeler yapiniz:"
   ]
  },
  {
   "cell_type": "code",
   "execution_count": null,
   "metadata": {},
   "outputs": [],
   "source": []
  },
  {
   "cell_type": "code",
   "execution_count": null,
   "metadata": {},
   "outputs": [],
   "source": []
  },
  {
   "cell_type": "code",
   "execution_count": null,
   "metadata": {},
   "outputs": [],
   "source": []
  }
 ],
 "metadata": {
  "kernelspec": {
   "display_name": "Python 3",
   "language": "python",
   "name": "python3"
  },
  "language_info": {
   "codemirror_mode": {
    "name": "ipython",
    "version": 3
   },
   "file_extension": ".py",
   "mimetype": "text/x-python",
   "name": "python",
   "nbconvert_exporter": "python",
   "pygments_lexer": "ipython3",
   "version": "3.7.4"
  }
 },
 "nbformat": 4,
 "nbformat_minor": 4
}
