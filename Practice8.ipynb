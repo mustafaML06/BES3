{
 "cells": [
  {
   "cell_type": "markdown",
   "metadata": {},
   "source": [
    "## Kendi fonksiyonumuzu yazmak"
   ]
  },
  {
   "cell_type": "code",
   "execution_count": 1,
   "metadata": {},
   "outputs": [],
   "source": [
    "import numpy as np\n",
    "import pandas as pd\n"
   ]
  },
  {
   "cell_type": "markdown",
   "metadata": {},
   "source": [
    "1. basit bir fonk"
   ]
  },
  {
   "cell_type": "code",
   "execution_count": 7,
   "metadata": {},
   "outputs": [
    {
     "name": "stdout",
     "output_type": "stream",
     "text": [
      "tebrikler\n"
     ]
    }
   ],
   "source": [
    "# seslen() diye bir fonk yaziniz.  \n",
    "def seslen():\n",
    "    \"\"\" 'tebrikler' ve uc unlem yazar \"\"\"\n",
    "    # ifade adli bir degisken olusturunuz \n",
    "    # ve bu, 'tebrikler' ve '!!!' nun birlesimi olsun\n",
    "    ifade = 'tebrikler'\n",
    "\n",
    "    # Print ile bu kull_kelime yi yazdiriniz\n",
    "    print(ifade)\n",
    "\n",
    "# seslen() fonk unu cagiriniz\n",
    "seslen()\n"
   ]
  },
  {
   "cell_type": "markdown",
   "metadata": {},
   "source": [
    "2. Tek argumanli/parametreli fonksiyon"
   ]
  },
  {
   "cell_type": "code",
   "execution_count": 9,
   "metadata": {},
   "outputs": [
    {
     "ename": "TypeError",
     "evalue": "seslen() takes 0 positional arguments but 1 was given",
     "output_type": "error",
     "traceback": [
      "\u001b[1;31m---------------------------------------------------------------------------\u001b[0m",
      "\u001b[1;31mTypeError\u001b[0m                                 Traceback (most recent call last)",
      "\u001b[1;32m<ipython-input-9-b166c82884bc>\u001b[0m in \u001b[0;36m<module>\u001b[1;34m\u001b[0m\n\u001b[0;32m     10\u001b[0m \u001b[1;33m\u001b[0m\u001b[0m\n\u001b[0;32m     11\u001b[0m \u001b[1;31m# seslen() fonk unu cagiriniz. icine sadece 'tebrikler' yaziniz\u001b[0m\u001b[1;33m\u001b[0m\u001b[1;33m\u001b[0m\u001b[1;33m\u001b[0m\u001b[0m\n\u001b[1;32m---> 12\u001b[1;33m \u001b[0mseslen\u001b[0m\u001b[1;33m(\u001b[0m\u001b[1;34m'\"\"\"Bir string ve uc unlem yazar \"\"\"'\u001b[0m\u001b[1;33m)\u001b[0m\u001b[1;33m\u001b[0m\u001b[1;33m\u001b[0m\u001b[0m\n\u001b[0m",
      "\u001b[1;31mTypeError\u001b[0m: seslen() takes 0 positional arguments but 1 was given"
     ]
    }
   ],
   "source": [
    "# yukaridaki fonk u editleyip bir arguman/parametre ekleyiniz: bu 'kelime' olsun\n",
    "def seslen(     ):\n",
    "    \"\"\"Bir string ve uc unlem yazar \"\"\"\n",
    "    # ifade adli bir degisken olusturunuz \n",
    "    # ve bu, kelime degiskeni ve '!!!' nun birlesimi olsun\n",
    "    ifade = kelime + '!!!'\n",
    "\n",
    "    # Print ile bu kull_kelime yi yazdiriniz\n",
    "    print(ifade)\n",
    "\n",
    "# seslen() fonk unu cagiriniz. icine sadece 'tebrikler' yaziniz \n",
    "seslen('')\n"
   ]
  },
  {
   "cell_type": "markdown",
   "metadata": {},
   "source": [
    "3. return ile geri geri donuslu fonksiyonlar"
   ]
  },
  {
   "cell_type": "code",
   "execution_count": 31,
   "metadata": {},
   "outputs": [
    {
     "ename": "IndentationError",
     "evalue": "unindent does not match any outer indentation level (<tokenize>, line 13)",
     "output_type": "error",
     "traceback": [
      "\u001b[1;36m  File \u001b[1;32m\"<tokenize>\"\u001b[1;36m, line \u001b[1;32m13\u001b[0m\n\u001b[1;33m    sonuc = seslen('5')\u001b[0m\n\u001b[1;37m    ^\u001b[0m\n\u001b[1;31mIndentationError\u001b[0m\u001b[1;31m:\u001b[0m unindent does not match any outer indentation level\n"
     ]
    }
   ],
   "source": [
    "# yukaridaki fonk u editleyip return ekleyiniz: \n",
    "def seslen(a):\n",
    "    \"\"\"Bir string ve uc unlemi birlestirip geri doner \"\"\"\n",
    "    # ifade adli bir degisken olusturunuz \n",
    "    # ve bu, kelime degiskeni ve '!!!' nun birlesimi olsun\n",
    "    ifade = a + '!!!'\n",
    "\n",
    "    # ifade degiskenini yi return ile geri dondurunuz:\n",
    "    return ifade\n",
    "\n",
    "# seslen fonkuna 'tebrikler' i arguman/parametre olarak gonderiniz, \n",
    "# geri donen ifadeyi yakalamak icin sonuc = diye bir degiskene atayiniz\n",
    "   sonuc = seslen('5')\n",
    "\n",
    "# print ile sonuc u yazdiriniz:\n",
    "print(sonuc)\n"
   ]
  },
  {
   "cell_type": "markdown",
   "metadata": {},
   "source": [
    "4. coklu argumanli/parametreli fonk"
   ]
  },
  {
   "cell_type": "code",
   "execution_count": 43,
   "metadata": {},
   "outputs": [
    {
     "name": "stdout",
     "output_type": "stream",
     "text": [
      "tebrikler size!!!\n"
     ]
    }
   ],
   "source": [
    "# yukaridaki fonk u editleyip kelime1 ve kelime2 diye iki parametre/arguman ekleyiniz \n",
    "def seslen( x, y ):\n",
    "    \"\"\"Iki string ve uc unlemi birlestirip geri doner \"\"\"\n",
    "    # ifade1 adli bir degisken olusturunuz \n",
    "    # ve bu, kelime1 degiskeni ve '!!!' nun birlesimi olsun\n",
    "    ifade1 = x + ' '\n",
    "    \n",
    "    # ifade2 adli bir degisken olusturunuz \n",
    "    # ve bu, kelime2 degiskeni ve '!!!' nun birlesimi olsun\n",
    "    ifade2 = y + \"!!!\"\n",
    "    \n",
    "    # yeni_ifade diye bir degisken olusturunuz ve bu, ifade1 ve ifade2 nin birlesimmi olsun\n",
    "    yeni_ifade = ifade1 + ifade2\n",
    "    \n",
    "    # yeni_ifade degiskenini return ile geri dondurunuz:\n",
    "    return yeni_ifade\n",
    "\n",
    "# seslen fonkuna 'tebrikler' ve 'size' olarak iki parametre gonderiniz, \n",
    "# geri donen ifadeyi yakalamak icin sonuc= diye bir degiskene atayiniz\n",
    "sonuc = seslen('tebrikler',  'size'        )\n",
    "\n",
    "# print ile sonuc u yazdiriniz:\n",
    "print(   sonuc    )"
   ]
  },
  {
   "cell_type": "markdown",
   "metadata": {},
   "source": [
    "5. Tuple larla ilgili pratik bir bilgi:"
   ]
  },
  {
   "cell_type": "code",
   "execution_count": null,
   "metadata": {},
   "outputs": [],
   "source": [
    "nums = (3, 4, 6)\n",
    "\n",
    "# uc degiskeni aralarina virgul koyarak 3 elemanli bir tuple ile tek seferde tanimlayabiliriz\n",
    "num1, num2, num3 = nums\n",
    "\n",
    "print(num1)\n",
    "print(num2)\n",
    "print(num3)"
   ]
  },
  {
   "cell_type": "code",
   "execution_count": null,
   "metadata": {},
   "outputs": [],
   "source": [
    "cift_num = (2, num2, num3)\n",
    "print(cift_num)"
   ]
  },
  {
   "cell_type": "markdown",
   "metadata": {},
   "source": [
    "6. Coklu geri donus yapan fonklar"
   ]
  },
  {
   "cell_type": "code",
   "execution_count": 42,
   "metadata": {},
   "outputs": [
    {
     "name": "stdout",
     "output_type": "stream",
     "text": [
      "tebrikler!!!\n",
      "size!!!\n"
     ]
    }
   ],
   "source": [
    "def seslen(x,y):\n",
    "    \"\"\"Iki string ve uc unlemi birlestirip geri doner \"\"\"\n",
    "\n",
    "    ifade1 = x + '!!!'\n",
    "    \n",
    "    ifade2 = y + '!!!'\n",
    "    \n",
    "    # yeni_ifade diye bir degisken olusturunuz ve bu, \n",
    "    # ifade1 ve ifade2 den olusan 2 elemanli bir tuple olsun\n",
    "    yeni_ifade = ( ifade1, ifade2 )\n",
    "    \n",
    "    return yeni_ifade\n",
    "\n",
    "# seslen fonkuna 'tebrikler' ve 'size' olarak iki parametre gonderiniz, \n",
    "# geri donen IFADELERI yakalamak icin sonuc1= VE sonuc2 diye IKI degiskene atayiniz\n",
    "sonuc1, sonuc2 = seslen('tebrikler', 'size')\n",
    "\n",
    "# print ile sonuc1 ve sonuc2 yi ayri ayri yazdiriniz:\n",
    "print(sonuc1)\n",
    "print(sonuc2)"
   ]
  },
  {
   "cell_type": "markdown",
   "metadata": {},
   "source": [
    "7. Gecmis bilgileri de katarak bir problem cozelim: \n",
    "\n",
    "bu problem icin tweets.csv adli bir veriyi kullanacagiz.  100 tweet ve 31 degisken var ama biz sadece 'lang' degiskeni ile ilginecegiz"
   ]
  },
  {
   "cell_type": "code",
   "execution_count": null,
   "metadata": {},
   "outputs": [],
   "source": [
    "tweets_df = pd.read_csv('tweets.csv')\n",
    "tweets_df['lang'].head(10)"
   ]
  },
  {
   "cell_type": "markdown",
   "metadata": {},
   "source": [
    "Goruldugu gibi her bir tweet in hangi dilde oldugunu belirten bir degisken bu.\n",
    "Problem su: hangi dilde kac tane tweet atilmis bunu bulmak.\n",
    "sonuc olarak elimizde   \n",
    "dil_sayilari = {'en': 97, 'et': 1, 'und': 2}    seklinde bir sozluk olmasi isteniyor.\n",
    "\n",
    "Bu islemin mumkun oldugu kadar otomatik olmasi isteniyor. Yani 'en' 'et' ne 'und' dillerini elle yazilmayacak, if else ve for ile olusturulacak. "
   ]
  },
  {
   "cell_type": "code",
   "execution_count": null,
   "metadata": {},
   "outputs": [],
   "source": [
    "# pandasi import ediniz\n",
    "import pandas as pd\n",
    "\n",
    "# Twitter verisini bir DataFrame olarak cekelim: tweets_df\n",
    "tweets_df = pd.read_csv('tweets.csv')\n",
    "\n",
    "# bos bir sozluk olusturunuz: dil_sayilari adiyla\n",
    "dil_sayilari = {}\n",
    "\n",
    "# Dilleri barindiran 'lang' adli kolonu bir degiskene atayalim: lang_kolunu\n",
    "lang_kolunu = \n",
    "\n",
    "# bu kolon icinde dongu kullanarak donelim:\n",
    "for dil in lang_kolunu:\n",
    "\n",
    "    # Eger dil, dil_sayilari sozlugunde key adi olarak varsa  ve degeri de +1 artir\n",
    "    if dil in dil_sayilari.keys():\n",
    "        dil_sayilari[dil] += 1\n",
    "    # Eger dil, dil_sayilari sozlugunde key adi olarak yoksa, bu dili key olarak ata ve 1 e esitle\n",
    "    else:\n",
    "        dil_sayilari[dil] = 1\n",
    "\n",
    "# tweetlerde kac tane dil varmis yazdiralim.  \n",
    "print(       )"
   ]
  },
  {
   "cell_type": "markdown",
   "metadata": {},
   "source": [
    "8. Bu yaptigimizi fonksiyona dokelim, fonksiyon yapsin:"
   ]
  },
  {
   "cell_type": "markdown",
   "metadata": {},
   "source": [
    "Bir fonksiyon tanimlayalim ve Bu fonksiyon yaptigimiz islemin tamamini yapsin. Bir Baska degisle, bu islemlerin hepsini bir fonk icine yazalim. Fonksiyon bizden bir dataframe ve bu dataframe e ait olan bir kolon adi istesin. ve sonuc olarak bu kolonun icinde hangi degiskenden kacar tane var bunu sozluk olarak yazdirsin."
   ]
  },
  {
   "cell_type": "code",
   "execution_count": null,
   "metadata": {},
   "outputs": [],
   "source": [
    "# girdileri_say() adinda bir fonk yazalim:\n",
    "def girdileri_say(df, kolon_adi):\n",
    "    \"\"\"bir sozluk yapisini geri dondurur: bu sozlugun key'leri kolon icinde bulunan degerlerdir, value olarak kac defa \n",
    "    gectigi yazilir\"\"\"\n",
    "\n",
    "    # bos bir sozluk aciniz: dil_sayilari\n",
    "    dil_sayilari = {}\n",
    "    \n",
    "    # kolon_adi degiskenini df icine yazip ilgili kolonu seciniz ve 'col' adi ile kaydediniz:\n",
    "    col = df[kolon_adi]\n",
    "        \n",
    "    # bu kolon icinde dongu kullanarak donelim:\n",
    "    for dil in col:\n",
    "\n",
    "        # Eger dil, dil_sayilari sozlugunde key adi olarak varsa  ve degeri de +1 artir\n",
    "        if dil in dil_sayilari.keys():\n",
    "            dil_sayilari[dil] += 1\n",
    "        # Eger dil, dil_sayilari sozlugunde key adi olarak yoksa, bu dili key olarak ata ve 1 e esitle\n",
    "        else:\n",
    "            dil_sayilari[dil] = 1\n",
    "\n",
    "            \n",
    "    # dil_sayilari sozlugunu bu fonksiyonun geri donutu olarak yaziniz\n",
    "    return \n",
    "\n",
    "tweets_df = pd.read_csv('tweets.csv')\n",
    "\n",
    "# girdileri_say() fonksiyonunu cagiriniz: ve geri donen seyi yakalamak icin bunu 'sonuc' adiyla kaydediniz\n",
    "       = girdileri_say(tweets_df,'lang')\n",
    "\n",
    "# sonucu yazdiriniz\n",
    "print(sonuc)"
   ]
  },
  {
   "cell_type": "markdown",
   "metadata": {},
   "source": [
    "## Default argumanlar, eleman sayisi belli olmayan argumanlar "
   ]
  },
  {
   "cell_type": "markdown",
   "metadata": {},
   "source": [
    "9. Asagidaki default argumanli bir fonksiyonu tanimlanmistir, eksik yerleri doldurunuz:"
   ]
  },
  {
   "cell_type": "code",
   "execution_count": null,
   "metadata": {},
   "outputs": [],
   "source": [
    "# yankili_seslen adli bir fonk yaziniz:\n",
    "def yankili_seslen(kelime, yanki=1):\n",
    "    \"\"\"verilen kelimeyi yanki sayisi kadar tekrarlar ve sonuna uc tane unlem isareti koyar\"\"\"\n",
    "\n",
    "    # kelime degiskenini yanki kadar yanyana ekleyiniz ve yankili_kelime adiyla kaydediniz\n",
    "    yankili_kelime = \n",
    "\n",
    "    # yankili_kelime ye uc tane unlem isareti ekleyiniz:\n",
    "    yankili_kelime = \n",
    "\n",
    "    # yankili_kelime yi fonksiyon ciktisi olarak belirleyiniz\n",
    "    return \n",
    "\n",
    "# yankili_seslen() fonk unu cagiriniz ve \"Hey\" kelimesini fonk a gonderiniz: ( yanki argumanini girmeyiniz )\n",
    "# yankisiz degiskeni ile yakalayiniz\n",
    "yankisiz = yankili_seslen(\"Hey\")\n",
    "\n",
    "# yankili_seslen() fonk unu cagiriniz, yanki sayisi 5 olsun ve \"Hey\" kelimesini fonk a gonderiniz: \n",
    "# yankili degiskeni ile yakalayiniz\n",
    "yankili = yankili_seslen(\"Hey\", yanki=5)\n",
    "\n",
    "# bu iki degiskeni yazdiriniz\n",
    "print(yankisiz)\n",
    "print(yankili)"
   ]
  },
  {
   "cell_type": "markdown",
   "metadata": {},
   "source": [
    "10. Coklu default argumanlar"
   ]
  },
  {
   "cell_type": "code",
   "execution_count": null,
   "metadata": {},
   "outputs": [],
   "source": [
    "# yankili_seslen adli fonku kopyalayip burada editleyerek guclu=False argumanini ekleyiniz\n",
    "def yankili_seslen(kelime, yanki=1, guclu=False):\n",
    "    \"\"\"verilen kelimeyi yanki sayisi kadar tekrarlar ve sonuna uc tane unlem isareti koyar, \n",
    "    guclu argumani ile buyuk harfleri kullanir\"\"\"\n",
    "\n",
    "    # kelime yi  yanki  kadar yanyana ekleyiniz ve yankili_kelime adiyla kaydediniz\n",
    "    yankili_kelime = kelime * yanki\n",
    "\n",
    "    \n",
    "    #Eger guclu=True ise yankili_kelime yi buyuk harfe donusturunuz\n",
    "    if guclu is True:\n",
    "        # yankili_kelime yi buyuk harf yapin ve '!!!' yi ekleyin: yeni_yankili_kelime\n",
    "        yeni_yankili_kelime = yankili_kelime.upper() + '!!!'\n",
    "    else:\n",
    "        # yankili_kelime ye '!!!' ekleyin: yeni_yankili_kelime\n",
    "        yeni_yankili_kelime = \n",
    "        \n",
    "\n",
    "    # yankili_kelime yi fonksiyon ciktisi olarak belirleyiniz\n",
    "    return \n",
    "\n",
    "\n",
    "# yankili_seslen() fonk unu cagiriniz, guclu=True olsun ve \"Hey\" kelimesini fonk a gonderiniz: \n",
    "# yankisiz degiskeni ile yakalayiniz\n",
    "yankisiz_guclu = yankili_seslen(\"Hey\", guclu=True)\n",
    "\n",
    "# yankili_seslen() fonk unu cagiriniz, yanki sayisi 5, guclu=True olsun ve \"Hey\" kelimesini fonk a gonderiniz: \n",
    "# yankili degiskeni ile yakalayiniz\n",
    "yankili_guclu = yankili_seslen(\"Hey\", yanki=5, guclu=True)\n",
    "\n",
    "# bu iki degiskeni yazdiriniz\n",
    "print(yankisiz_guclu)\n",
    "print(yankili_guclu)"
   ]
  },
  {
   "cell_type": "markdown",
   "metadata": {},
   "source": [
    "11. Bir fonksiyon yazmamiz isteniyor, oyle bir fonksiyon ki, farkli sayida argumanlar da girildigi zaman calissin:"
   ]
  },
  {
   "cell_type": "code",
   "execution_count": null,
   "metadata": {},
   "outputs": [],
   "source": [
    "def anlamsizca(*args):\n",
    "    \"\"\"sayisi belli olmayan *args ile gelen stringleri birlestirir.\"\"\"\n",
    "\n",
    "    # random diye bir bos string olusturunuz\n",
    "    random = \"\"\n",
    "\n",
    "    # arg ile gelen stringleri random string ine ekleyiniz\n",
    "    for kelime in args:\n",
    "        random += kelime\n",
    "\n",
    "    # rondom geri donsun\n",
    "    return random\n",
    "\n",
    "# anlamsizca() fonk una bir kelimelik rasgele bir string ifade gonderin : bir_kelime  adiyla kaydediniz\n",
    "bir_kelime = anlamsizca(\"hskjj\")\n",
    "\n",
    "# anlamsizca() fonk una 1 kelimelik 5 tane rasgele bir string ifade gonderin : cok_kelime  adiyla yakdediniz\n",
    "cok_kelime = \n",
    "\n",
    "# iki degiskeni yazdiriniz\n",
    "print(bir_kelime)\n",
    "print(cok_kelime)"
   ]
  },
  {
   "cell_type": "markdown",
   "metadata": {},
   "source": [
    "12. Yukaridaki fonk a benzer sekilde sayisini bilemedigimiz girdiler olacak fakat ikili kelimeler halinde gelecek. Bir sozluk yapisindaki key-value cifti gibi."
   ]
  },
  {
   "cell_type": "code",
   "execution_count": null,
   "metadata": {},
   "outputs": [],
   "source": [
    "def ogrenci_ve_notu(**kv_args):\n",
    "    \"\"\"sayisi belli olmayan *kv_args ile gelen ogrenci ismi ve notunu ikililerini yazdirir\"\"\"\n",
    "\n",
    "    # gelen ikililer icinde dongu ile donup aralarinda \":\" ifadesi ile yazdiriniz\n",
    "    for k, v in kv_args.items():\n",
    "        \n",
    "        print(k + \": \" + v)\n",
    "\n",
    "\n",
    "# ogrenci_ve_notu() fonk una isim='Ali', sinifi=\"A\", durumu=\"Takdir\" ikililerini gonderiniz\n",
    "ogrenci_ve_notu(isim=\"Ali\", sinifi=\"10\", durumu=\"Tesekkur\")\n",
    "\n",
    "# ayni sekilde kendiniz bir veri giriniz:   isim=\"Ayse\", takimi=\"gs\", sinifi=\"10\"\n",
    "\n",
    "\n",
    "\n",
    "# her ogrenci icin basta \"RAPOR BASLANGICI\" ve \"RAPOR SONU\" diye iki bilgi yazdiriniz"
   ]
  },
  {
   "cell_type": "markdown",
   "metadata": {},
   "source": [
    "13. Soru8 deki fonksiyonu alt hucreye kopyalayiniz. Ve ogrendigimiz default argumani bu fonk a uygulayiniz. kolon_adi default olarak 'lang' olsun."
   ]
  },
  {
   "cell_type": "code",
   "execution_count": null,
   "metadata": {},
   "outputs": [],
   "source": [
    "# 8. soruda tanimladiginiz fonku buraya kopyalayiniz ve editleyiniz\n",
    "def girdileri_say(df, kolon_adi='lang'):\n",
    "    \"\"\"bir sozluk yapisini geri dondurur: bu sozlugun key'leri kolon icinde bulunan degerlerdir, value olarak kac defa \n",
    "    gectigi yazilir\"\"\"\n",
    "\n",
    "    # bos bir sozluk aciniz: dil_sayilari\n",
    "    dil_sayilari = {}\n",
    "    \n",
    "    # kolon_adi degiskenini df icine yazip ilgili kolonu seciniz ve 'col' adi ile kaydediniz:\n",
    "    col = df[kolon_adi]\n",
    "    \n",
    "    \n",
    "    # bu kolon icinde dongu kullanarak donelim:\n",
    "    for dil in col:\n",
    "\n",
    "        # Eger dil, dil_sayilari sozlugunde key adi olarak varsa  ve degeri de +1 artir\n",
    "        if dil in dil_sayilari.keys():\n",
    "            dil_sayilari[dil] += 1\n",
    "        # Eger dil, dil_sayilari sozlugunde key adi olarak yoksa, bu dili key olarak ata ve 1 e esitle\n",
    "        else:\n",
    "            dil_sayilari[dil] = 1\n",
    "\n",
    "            \n",
    "    # dil_sayilari sozlugunu bu fonksiyonun geri donutu olarak yaziniz\n",
    "    return dil_sayilari\n",
    "\n",
    "\n",
    "\n",
    "\n",
    "# bu kodu editleyip, sadece tweets_df dataframe ini gonderin, default argumani girmeden deneyiniz: sonuc1 \n",
    "sonuc1 = \n",
    "\n",
    "# tweets_df dataframe ini ve 'source' degiskenini fonksiyonuna girdi olarak gonderiniz: sonuc2\n",
    "sonuc2 = \n",
    "\n",
    "# sonuc1 ve sonuc2 i yazdiriniz\n",
    "print(sonuc1)\n",
    "print(sonuc2)"
   ]
  },
  {
   "cell_type": "markdown",
   "metadata": {},
   "source": [
    "14. soru11 de gordugumuz *arg in kullanimi gibi ustteki fonk u buraya kopyalayip editleyiniz. sonuc olarak kac tane kolon  adi girersek, fonk gonderdigimiz kolonlara uygulansin:"
   ]
  },
  {
   "cell_type": "code",
   "execution_count": null,
   "metadata": {},
   "outputs": [],
   "source": [
    "# ustteki fonku buraya kopyalayip default argumani degistiriniz\n",
    "def girdileri_say(df, *args):\n",
    "    \"\"\"bir sozluk yapisini geri dondurur: bu sozlugun key'leri kolon icinde bulunan degerlerdir, value olarak kac defa \n",
    "    gectigi yazilir\"\"\"\n",
    "\n",
    "    # bos bir sozluk aciniz: dil_sayilari\n",
    "    dil_sayilari = {}\n",
    "    \n",
    "    # for dongusu olusturup args icinde dongu olusturunuz. sonraki kodlarin 1 tab ice alindigina dikkat! \n",
    "    for kolon_adi in args:\n",
    "        \n",
    "        # kolon_adi degiskenini df icine yazip ilgili kolonu seciniz ve 'col' adi ile kaydediniz:\n",
    "        col = df[kolon_adi]\n",
    "        \n",
    "        # bu kolon icinde dongu kullanarak donelim:\n",
    "        for dil in col:\n",
    "\n",
    "            # Eger dil, dil_sayilari sozlugunde key adi olarak varsa  ve degeri de +1 artir\n",
    "            if dil in dil_sayilari.keys():\n",
    "                dil_sayilari[dil] += 1\n",
    "            # Eger dil, dil_sayilari sozlugunde key adi olarak yoksa, bu dili key olarak ata ve 1 e esitle\n",
    "            else:\n",
    "                dil_sayilari[dil] = 1\n",
    "            \n",
    "    # dil_sayilari sozlugunu bu fonksiyonun geri donutu olarak yaziniz\n",
    "    return dil_sayilari\n",
    "\n",
    "\n",
    "\n",
    "# sadece tweets_df dataframe ini gonderip, default argumani girmeden deneyiniz: sonuc1 \n",
    "sonuc1 = girdileri_say(tweets_df,'lang')\n",
    "\n",
    "# tweets_df dataframe ini ve 'source' ve 'lang' degiskenlerini gonderiniz: sonuc2\n",
    "\n",
    "\n",
    "# sonuc1 ve sonuc2 i yazdiriniz\n",
    "print(sonuc1)\n",
    "print(sonuc2)"
   ]
  },
  {
   "cell_type": "markdown",
   "metadata": {},
   "source": [
    "## Lambda fonksiyonu"
   ]
  },
  {
   "cell_type": "raw",
   "metadata": {},
   "source": [
    "func = (lambda a: a * 2) \n",
    "func('hej')"
   ]
  },
  {
   "cell_type": "markdown",
   "metadata": {},
   "source": [
    "15. verilen bir string ifadeye uc unlem ekleyen fonku lambda ile yaziniz, ve 'hello' kelimesini bu fonk a gonderiniz"
   ]
  },
  {
   "cell_type": "code",
   "execution_count": null,
   "metadata": {},
   "outputs": [],
   "source": [
    "# labda fonk unu yazip = ile  unlem_ekle  olarak kaydedinz\n",
    "unlem_ekle = (lambda a: a + '!!!') \n",
    "\n",
    "# fonk a 'hello' string ini gonderiniz\n",
    "unlem_ekle('     ')"
   ]
  },
  {
   "cell_type": "markdown",
   "metadata": {},
   "source": [
    "16. Asagidaki fonk u lambda ile yaziniz"
   ]
  },
  {
   "cell_type": "raw",
   "metadata": {},
   "source": [
    "def yankili_seslen(kelime, yanki):\n",
    "    \"\"\"verilen kelimeyi yanki sayisi kadar tekrarlar\"\"\"\n",
    "    yankili_kelime = kelime * yanki\n",
    "    return yankili_kelime"
   ]
  },
  {
   "cell_type": "raw",
   "metadata": {},
   "source": [
    "sonuc = ( lambda arg1, arg2 : arg1*arg2 )    >>> arg1, arg2 fonk girdileri  >>> arg1*arg2  fonk ici"
   ]
  },
  {
   "cell_type": "code",
   "execution_count": null,
   "metadata": {},
   "outputs": [],
   "source": [
    "# Dikkat: lambda fonk.lar isimlendirilirken parantez icine alinir ve isimlendirilen ifadeye sagdan esitlenir\n",
    "# fonk adini yankili_seslen_lambdali olarak kaydediniz\n",
    "yankili_seslen = ( lambda kelime, yanki : kelime*yanki )\n",
    "\n",
    "# fonk a 'hey' ve 5 argumanlarini gonderiniz sonucu sonuc ismi ile yakalayiniz\n",
    "\n",
    "\n",
    "# sonuc u yazdiriniz\n",
    "print(sonuc)"
   ]
  },
  {
   "cell_type": "markdown",
   "metadata": {},
   "source": [
    "## map() ile lambda"
   ]
  },
  {
   "cell_type": "markdown",
   "metadata": {},
   "source": [
    "17. Asagidaki gibi map ve lambda fonksiyonlarini beraber kullanarak verilen string elemanlara sahip  bir listenin her elemanina uc unlem ekleyiniz"
   ]
  },
  {
   "cell_type": "raw",
   "metadata": {},
   "source": [
    "nums = [2, 4, 6, 8, 10]\n",
    "result = map(lambda a: a ** 2, nums)\n",
    "(map lambda yi cok elemanli objelere uygulamaya yarar!)"
   ]
  },
  {
   "cell_type": "code",
   "execution_count": null,
   "metadata": {},
   "outputs": [],
   "source": [
    "kelimeler = [\"selam\", \"hi\", \"hello\", \"hej\"]\n",
    "\n",
    "# map() fonk unu kullanarak lambda fonk unu listenin her elemanina uygulatiniz. \n",
    "# lambda fonku aldigi kelimeye '!!!' ifadesini eklesin.  kelimeler_seslen adi ile kaydediniz\n",
    "kelimeler_seslen = map(lambda item: item + '!!!', kelimeler)\n",
    "\n",
    "# kelimeler_seslen i listeye ceviriniz: kelimeler_seslen_list adi ile kaydediniz\n",
    "\n",
    "\n",
    "# yazdiriniz\n",
    "print(kelimeler_seslen_list)"
   ]
  },
  {
   "cell_type": "markdown",
   "metadata": {},
   "source": [
    "## filter() ile lambda"
   ]
  },
  {
   "cell_type": "markdown",
   "metadata": {},
   "source": [
    "18. filter fonk unun lambda ile beraber kullanip asagidaki yonergelere gore verilen bir listenin her elemanina bir filtreleme uygulayiniz"
   ]
  },
  {
   "cell_type": "raw",
   "metadata": {},
   "source": [
    "filter (lambda degisken : sart , filt_uygcak_liste)\n",
    "\n",
    "(buradaki degisken sartin icinde gecmeli)"
   ]
  },
  {
   "cell_type": "code",
   "execution_count": null,
   "metadata": {},
   "outputs": [],
   "source": [
    "sehirler = ['stockholm', 'hamburg', 'liverpool', 'LA', 'leganes', 'atina', 'genk', 'nastes', 'alkmaar']\n",
    "\n",
    "#filter() ile lambda icine yazacaginiz uzunlugu 7 den buyuk olan elemanlari secme islemini \n",
    "# sehirler listesine uygulayiniz: sonuc adi ile kaydediniz\n",
    "sonuc = filter(lambda  sehir :        (sehir) > 7  , sehirler)\n",
    "\n",
    "# sonucu listeye ceviriniz: sonuc_liste adiyla kaydediniz\n",
    "sonuc_liste = list(sonuc)\n",
    "\n",
    "# sonuc_liste i yazdiriniz\n",
    "print(sonuc_liste)"
   ]
  },
  {
   "cell_type": "markdown",
   "metadata": {},
   "source": [
    "## reduce() ve lambda"
   ]
  },
  {
   "cell_type": "markdown",
   "metadata": {},
   "source": [
    "19. Daha once tanimladigimiz anlamsizca() fonksiyonunu yonergelere gore reduce ile yapiniz"
   ]
  },
  {
   "cell_type": "raw",
   "metadata": {},
   "source": [
    "sonuc = reduce(lambda  sayi1,sayi2 : sayi1*sayi2 , girilen_liste)\n",
    "\n",
    "map() den farki: reduce() tek deger dondurur, zincirleme ilerliyor!\n",
    "reduce() standartta yoktur, import edilmesi gerekir\n",
    "\n",
    "reduce map'i kumulatif halidir"
   ]
  },
  {
   "cell_type": "code",
   "execution_count": null,
   "metadata": {},
   "outputs": [],
   "source": [
    "# reduce fonk u nu import ediniz\n",
    "from functools import reduce\n",
    "\n",
    "rasgele_kelimeler = ['hsshdfj', 'qpqqoq', 'mcnxvn', 'apsoops', 'cubyub']\n",
    "\n",
    "# verilen listedeki her elemani yanyana ekleyip sonucu donduren fonku reduce ve lambda ile yaziniz: sonuc\n",
    "sonuc = reduce(lambda  kelime1,kelime2 : kelime1+kelime2 , rasgele_kelimeler)\n",
    "\n",
    "# Print the result\n",
    "print(sonuc)"
   ]
  },
  {
   "cell_type": "markdown",
   "metadata": {},
   "source": [
    "## map() filter() ve reduce() farklari:"
   ]
  },
  {
   "cell_type": "markdown",
   "metadata": {},
   "source": [
    "<img src=\"map-filter-reduce.png\" width=\"400\" height=\"400\">"
   ]
  },
  {
   "cell_type": "markdown",
   "metadata": {},
   "source": [
    "## Hata ayiklama"
   ]
  },
  {
   "cell_type": "markdown",
   "metadata": {},
   "source": [
    "20. "
   ]
  },
  {
   "cell_type": "code",
   "execution_count": null,
   "metadata": {},
   "outputs": [],
   "source": [
    "# 9 daki fonk u editleyiniz \n",
    "# yankili_seslen adli bir fonk yaziniz:\n",
    "def yankili_seslen(kelime, yanki=1):\n",
    "    \"\"\"verilen kelimeyi yanki sayisi kadar tekrarlar ve sonuna uc tane unlem isareti koyar\"\"\"\n",
    "    \n",
    "    # yankili_kelime adli bos string olusturalim:   <------\n",
    "    yankili_kelime = \"\"\n",
    "    \n",
    "    # try blogu acalim\n",
    "    try:\n",
    "        # kelime1 i yanki kadar yanyana ekleyiniz ve yankili_kelime adiyla kaydediniz\n",
    "        yankili_kelime = kelime * yanki\n",
    "\n",
    "        # yankili_kelime ye uc tane unlem isareti ekleyiniz:\n",
    "        yankili_kelime = yankili_kelime + '!!!'\n",
    "    \n",
    "    # except ile try blogunu kapatalim\n",
    "    except:\n",
    "        print('kelime bir string ifade, yanki ise integer olmali!')\n",
    "        \n",
    "    # yankili_kelime yi fonksiyon ciktisi olarak belirleyiniz\n",
    "    return yankili_kelime\n",
    "\n",
    "\n",
    "# yankili_seslen() fonk unu cagiriniz ve \"Hey\" kelimesini fonk a gonderiniz, yanki sayisi olarak 'cok' yaziniz: \n",
    "\n"
   ]
  },
  {
   "cell_type": "markdown",
   "metadata": {},
   "source": [
    "21. Kendi hata uyarimizi olusturmak"
   ]
  },
  {
   "cell_type": "code",
   "execution_count": null,
   "metadata": {},
   "outputs": [],
   "source": [
    "# yankili_seslen adli bir fonk yaziniz:\n",
    "def yankili_seslen(kelime, yanki=1):\n",
    "    \"\"\"verilen kelimeyi yanki sayisi kadar tekrarlar ve sonuna uc tane unlem isareti koyar\"\"\"\n",
    "    \n",
    "    # raise anahtar kelimesi ile hata yakalamak icin if aciniz\n",
    "    if yanki < 0:\n",
    "        raise ValueError('yanki sifirdan buyuk veya esit olmali') \n",
    "        \n",
    "    # kelime1 i yanki kadar yanyana ekleyiniz ve yankili_kelime adiyla kaydediniz\n",
    "    yankili_kelime = kelime * yanki\n",
    "\n",
    "    # yankili_kelime ye uc tane unlem isareti ekleyiniz:\n",
    "    yankili_kelime = yankili_kelime + '!!!'\n",
    "\n",
    "    # yankili_kelime yi fonksiyon ciktisi olarak belirleyiniz\n",
    "    return yankili_kelime\n",
    "\n",
    "\n",
    "# yankili_seslen() fonk unu cagiriniz, yanki sayisi 5 olsun ve \"Hey\" kelimesini fonk a gonderiniz: \n",
    "# yankili degiskeni ile yakalayiniz\n",
    "\n",
    "\n",
    "print(yankili)\n",
    "# yankiyi 0 ve -1 ile tekrar deneyiniz\n"
   ]
  },
  {
   "cell_type": "markdown",
   "metadata": {},
   "source": [
    "22. "
   ]
  },
  {
   "cell_type": "code",
   "execution_count": null,
   "metadata": {},
   "outputs": [],
   "source": [
    "# tweets_df nin 'text' degiskeni uzerinde lambda ve filter kullanarak \n",
    "# ilk karakteri RT olan gozlemleri seciniz: sonuc adiyla kaydediniz\n",
    "sonuc = filter(lambda x : x[0:2] == 'RT' , tweets_df['text'])\n",
    "\n",
    "# sonuc degiskeninin tipi filter objesi oldugunden, listeye ceviriniz: sonuc_list\n",
    "sonuc_list = list(sonuc)\n",
    "\n",
    "# sonuc_list icindeki tum RT tweetleri for ile yazdiriniz\n",
    "\n",
    "\n",
    "    "
   ]
  },
  {
   "cell_type": "markdown",
   "metadata": {},
   "source": [
    "23. "
   ]
  },
  {
   "cell_type": "code",
   "execution_count": null,
   "metadata": {},
   "outputs": [],
   "source": [
    "# tweets_df nin soru13 deki hali uzerinde editleyelim\n",
    "def girdileri_say(df, kolon_adi='lang'):\n",
    "    \"\"\"bir sozluk yapisini geri dondurur: bu sozlugun key'leri kolon icinde bulunan degerlerdir, value olarak kac defa \n",
    "    gectigi yazilir\"\"\"\n",
    "\n",
    "    # bos bir sozluk aciniz: dil_sayilari\n",
    "    dil_sayilari = {}\n",
    "    \n",
    "    try:\n",
    "        # kolon_adi degiskenini df icine yazip ilgili kolonu seciniz ve 'col' adi ile kaydediniz:\n",
    "        col = df[kolon_adi]\n",
    "    \n",
    "    \n",
    "        # bu kolon icinde dongu kullanarak donelim:\n",
    "        for dil in col:\n",
    "\n",
    "            # Eger dil, dil_sayilari sozlugunde key adi olarak varsa  ve degeri de +1 artir\n",
    "            if dil in dil_sayilari.keys():\n",
    "                dil_sayilari[dil] += 1\n",
    "            # Eger dil, dil_sayilari sozlugunde key adi olarak yoksa, bu dili key olarak ata ve 1 e esitle\n",
    "            else:\n",
    "                dil_sayilari[dil] = 1\n",
    "\n",
    "            \n",
    "        # dil_sayilari sozlugunu bu fonksiyonun geri donutu olarak yaziniz\n",
    "        return dil_sayilari\n",
    "    except:\n",
    "        print(\"Dataframe'de \" + kolon_adi + \" adli bir kolon/degisken bulunmamaktadir\" )\n",
    "\n",
    "        \n",
    "# tweets_df ve 'lang' gonderiniz sonucu print ediniz\n",
    "sonuc = girdileri_say(tweets_df, 'lang') \n",
    "print(sonuc)\n",
    "\n",
    "# tweets_df ve rastgele 'bir kolon adi' gonderiniz sonucu print ediniz. \n",
    "\n",
    "\n"
   ]
  },
  {
   "cell_type": "markdown",
   "metadata": {},
   "source": [
    "24. print ile yazdirdigimiz hatayi hata turu olarak yazdiriniz:"
   ]
  },
  {
   "cell_type": "code",
   "execution_count": null,
   "metadata": {},
   "outputs": [],
   "source": [
    "def girdileri_say(df, kolon_adi='lang'):\n",
    "    \"\"\"bir sozluk yapisini geri dondurur: bu sozlugun key'leri kolon icinde bulunan degerlerdir, value olarak kac defa \n",
    "    gectigi yazilir\"\"\"\n",
    "    \n",
    "    # raise ile kendi hata uyari mesajini olusturunuz:\n",
    "    # eger girilen kolon adi df'de yoksa bu durum uyarilsin:\n",
    "    if kolon_adi not in df.columns:\n",
    "        raise ValueError(\"Girdiginiz \" + kolon_adi +  \", dataframe'de bulunmamaktadir\")\n",
    "        \n",
    "    # bos bir sozluk aciniz: dil_sayilari\n",
    "    dil_sayilari = {}\n",
    "    \n",
    "    # kolon_adi degiskenini df icine yazip ilgili kolonu seciniz ve 'col' adi ile kaydediniz:\n",
    "    col = df[kolon_adi]\n",
    "        \n",
    "    # bu kolon icinde dongu kullanarak donelim:\n",
    "    for dil in col:\n",
    "\n",
    "        # Eger dil, dil_sayilari sozlugunde key adi olarak varsa  ve degeri de +1 artir\n",
    "        if dil in dil_sayilari.keys():\n",
    "            dil_sayilari[dil] += 1\n",
    "        # Eger dil, dil_sayilari sozlugunde key adi olarak yoksa, bu dili key olarak ata ve 1 e esitle\n",
    "        else:\n",
    "            dil_sayilari[dil] = 1\n",
    "            \n",
    "    # dil_sayilari sozlugunu bu fonksiyonun geri donutu olarak yaziniz\n",
    "    return dil_sayilari\n",
    "\n",
    "# tweets_df ve 'lang' gonderiniz sonucu print ediniz\n",
    "sonuc = girdileri_say(tweets_df, 'lang') \n",
    "print(sonuc)\n",
    "\n",
    "# tweets_df ve rastgele'bir kolon adi' gonderiniz sonucu print ediniz\n",
    "\n",
    "\n"
   ]
  },
  {
   "cell_type": "code",
   "execution_count": null,
   "metadata": {},
   "outputs": [],
   "source": []
  }
 ],
 "metadata": {
  "kernelspec": {
   "display_name": "Python 3",
   "language": "python",
   "name": "python3"
  },
  "language_info": {
   "codemirror_mode": {
    "name": "ipython",
    "version": 3
   },
   "file_extension": ".py",
   "mimetype": "text/x-python",
   "name": "python",
   "nbconvert_exporter": "python",
   "pygments_lexer": "ipython3",
   "version": "3.7.7"
  }
 },
 "nbformat": 4,
 "nbformat_minor": 4
}
