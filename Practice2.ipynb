{
 "cells": [
  {
   "cell_type": "markdown",
   "metadata": {},
   "source": [
    "## Numpy"
   ]
  },
  {
   "cell_type": "markdown",
   "metadata": {},
   "source": [
    "1. ilk numpy array iniz:"
   ]
  },
  {
   "cell_type": "code",
   "execution_count": null,
   "metadata": {},
   "outputs": [],
   "source": [
    "players = [180, 215, 210, 210, 188, 176, 209, 200]\n",
    "\n",
    "# numpy kutuphanesini np olarak import ediniz\n",
    "\n",
    "\n",
    "# 'players' listesini kullanarak bir numpy array'i olusturun: np_players\n",
    "\n",
    "\n",
    "# np_players'in tipini yazdiriniz\n"
   ]
  },
  {
   "cell_type": "markdown",
   "metadata": {},
   "source": [
    "2. numpy arrayi ile islemler:"
   ]
  },
  {
   "cell_type": "code",
   "execution_count": null,
   "metadata": {},
   "outputs": [],
   "source": [
    "# normal liste tipinde:\n",
    "boy_inc = [74,74,72,72,73,69,74,70,73,75]\n",
    "\n",
    "# numpy'i import ediniz\n",
    "\n",
    "\n",
    "# boy_inc i kullanarak bir numpy arrayi olusturunuz: np_boy_inc adiyla kaydediniz\n",
    "\n",
    "\n",
    "# np_boy_inc i yazdiriniz\n",
    "\n",
    "\n",
    "# np_boy_inc i metre cinsine ceviriniz: np_boy_m aduyla kaydediniz\n",
    "np_boy_m = np_boy_inc * 0.0254\n",
    "\n",
    "# np_boy_m 'i yazdiriniz\n"
   ]
  },
  {
   "cell_type": "markdown",
   "metadata": {},
   "source": [
    "NOT: bu jupiter notebook uzerindeki tum degiskenleri diger hucrelerde kullanabiliriz. ayni isimli iki farkli degisken icin son calistirdigimiz degisken kullanilir."
   ]
  },
  {
   "cell_type": "markdown",
   "metadata": {},
   "source": [
    "3. Burada sporcularin vucut BMI degerlerini bulacagiz. BMI degeri, kilonun(kg) boyun(m) karesine bolunmesi ile elde ediliyor."
   ]
  },
  {
   "cell_type": "code",
   "execution_count": null,
   "metadata": {},
   "outputs": [],
   "source": [
    "# NOT: Bir kutuphaneyi bir defa import edip calistirmamiz yeterlidir. Ama burda ogrenme amacli tekrar soruyoruz.\n",
    "# numpy'i import ediniz\n",
    "\n",
    "\n",
    "# boy_inc 'i tekrar yazmak mecburiyetinde olmasak da gozununde olmasi icin listeyi tekrar yaziyoruz. \n",
    "# ilerde bu tekrarlar azalacaktir:\n",
    "boy_inc = [74,74,72,72,73,69,74,70,73,75]\n",
    "\n",
    "agirlik_po = [180,215,210,210,188,176,209,200,231,180]\n",
    "\n",
    "# boy_inc'i numpy arrayine cevirip metre cinsi ile kaydedelim: np_boy_m\n",
    "       = np.array(     ) * 0.0254\n",
    "\n",
    "# agirlik_po'i numpy arrayine cevirip kg cinsi ile kaydediniz: np_agirlik_kg\n",
    "       = np.array(     ) * 0.453592\n",
    "\n",
    "# BMI'i hesaplayiniz: bmi \n",
    "bmi = np_agirlik_kg / (np_boy_m)**2\n",
    "\n",
    "# bmi degiskenini yazdiriniz (bmi haddi zatinda bir degiskendir, turu listedir)\n",
    "\n"
   ]
  },
  {
   "cell_type": "code",
   "execution_count": null,
   "metadata": {},
   "outputs": [],
   "source": [
    "# NOT: Normal listeler de ve numpy array'lerinde de ayni sekilde \n",
    "# [] koseli parantez icinde indis numarasi kullanarak elemanlara ulasiyoruz\n",
    "x = [42 , 19 , 16, 13, 51]\n",
    "x[1]\n",
    "import numpy as np\n",
    "y = np.array(x)\n",
    "y[1]"
   ]
  },
  {
   "cell_type": "markdown",
   "metadata": {},
   "source": [
    "4. Zayif sporculari bulalim:"
   ]
  },
  {
   "cell_type": "code",
   "execution_count": null,
   "metadata": {},
   "outputs": [],
   "source": [
    "# ornek kod:\n",
    "\n",
    "# 22 den buyuk olanlari 'buyuk' adli bir listede tutuyoruz, bunu y listesinde indis olarak kullaniyoruz\n",
    "buyuk = y > 22\n",
    "y[buyuk]"
   ]
  },
  {
   "cell_type": "code",
   "execution_count": null,
   "metadata": {},
   "outputs": [],
   "source": [
    "print(buyuk)         # goruldugu uzere 'buyuk' listesi True-False lardan olusan bir liste"
   ]
  },
  {
   "cell_type": "code",
   "execution_count": null,
   "metadata": {},
   "outputs": [],
   "source": [
    "print(y)     # y listesinde indis olarak kullandigimizda True'nun denk geldigi elemani secer"
   ]
  },
  {
   "cell_type": "code",
   "execution_count": null,
   "metadata": {},
   "outputs": [],
   "source": [
    "y[buyuk]   # boylece 22 den buyuk sayilari secmis oluruz"
   ]
  },
  {
   "cell_type": "code",
   "execution_count": null,
   "metadata": {},
   "outputs": [],
   "source": [
    "y[ y>22 ]   # Ayni secimi araci bir degisken ismi olusturmadan dogrudan indis yerine yazarak da yapabiliriz"
   ]
  },
  {
   "cell_type": "markdown",
   "metadata": {},
   "source": [
    "5. bmi degeri 21 den kucuk olan bmi degerlerini secelim:"
   ]
  },
  {
   "cell_type": "code",
   "execution_count": null,
   "metadata": {},
   "outputs": [],
   "source": [
    "# bmi listesi uzerinde islem yapip 23 den kucuk olup olmadiklarini belirten 'zayif' adli bir array olusturunuz (True-False arrayi): \n",
    "zayif = \n",
    "\n",
    "# zayif arrayini yazdiriniz\n",
    "\n",
    "\n",
    "# zayif arrayini indis olarak kullanip 23ten kucuk olan bmi degerlerini yazdiriniz\n"
   ]
  },
  {
   "cell_type": "markdown",
   "metadata": {},
   "source": [
    "6. Numpy elemanlari tek tip olarak tutur. Oysa normal python listeleri farkli tipte elemanlari oldugu gibi tutuyor. \n",
    "Peki, karisik bir listeyi np.array() ile numpy arrayi yaparsak numpy arrayi nasil davranir, bakalim."
   ]
  },
  {
   "cell_type": "code",
   "execution_count": null,
   "metadata": {},
   "outputs": [],
   "source": [
    "np.array([True, 1, 2]) + np.array([3, 4, False])"
   ]
  },
  {
   "cell_type": "code",
   "execution_count": null,
   "metadata": {},
   "outputs": [],
   "source": [
    "[True, 1, 2] + [3, 4, False]"
   ]
  },
  {
   "cell_type": "markdown",
   "metadata": {},
   "source": [
    "7. Goruldugu gibi numpy arrayi ve normal python listesi + - * / gibi islemlerde farkli davraniyor."
   ]
  },
  {
   "cell_type": "code",
   "execution_count": null,
   "metadata": {},
   "outputs": [],
   "source": [
    "np.array([4, 3, 0]) + np.array([0, 2, 2])      # True = 1 ve False = 0 olarak aldi."
   ]
  },
  {
   "cell_type": "code",
   "execution_count": null,
   "metadata": {},
   "outputs": [],
   "source": [
    "boy_inc = [74,74,72,72,73,69,74,70,73,75]\n",
    "agirlik_po = [180,215,210,210,188,176,209,200,231,180]\n",
    "\n",
    "# verilen listeleri npy arrayi olarak kaydediniz: np_boy_inc ve np_agirlik_po olarak.\n",
    "\n",
    "\n",
    "\n",
    "# np_agirlik_po arrayinin 5. elemanini yazdiriniz\n",
    "\n",
    "\n",
    "# np_boy_inc arrayinin 5. ile 8. elemanlari arasini yazdiriniz. (5 ve 8 dahil)\n"
   ]
  },
  {
   "cell_type": "markdown",
   "metadata": {},
   "source": [
    "8. Iki boyutlu numpy arrayi"
   ]
  },
  {
   "cell_type": "code",
   "execution_count": null,
   "metadata": {},
   "outputs": [],
   "source": [
    "sporcular = [[180, 78.4],\n",
    "            [215, 102.7],\n",
    "            [210, 98.5],\n",
    "            [188, 75.2]]\n",
    "\n",
    "# numpy i import ediniz\n",
    "\n",
    "\n",
    "# sporcular listesini kullanarak 2 boyutlu numpy arrayini olusturunuz: np_sporcular\n",
    "\n",
    "\n",
    "# np_sporcular in tipini yazdiriniz\n",
    "\n",
    "\n",
    "# np_sporcular in boyutunu yazdiriniz\n"
   ]
  },
  {
   "cell_type": "markdown",
   "metadata": {},
   "source": [
    "9. BILGI: cok boyutlu normal liste ve array arasindaki fark:"
   ]
  },
  {
   "cell_type": "code",
   "execution_count": null,
   "metadata": {},
   "outputs": [],
   "source": [
    "# normal liste ici liste\n",
    "x = [[\"a\", \"b\"], [\"c\", \"d\"]]\n",
    "[x[0][0], x[1][0]]"
   ]
  },
  {
   "cell_type": "code",
   "execution_count": null,
   "metadata": {},
   "outputs": [],
   "source": [
    "# numpy arrayi\n",
    "import numpy as np\n",
    "np_x = np.array(x)\n",
    "np_x[:,0]           # kesisiminde kalan elemani secme mantigi"
   ]
  },
  {
   "cell_type": "markdown",
   "metadata": {},
   "source": [
    "10. cok boyutlu arraylerde indisle secme islemleri:"
   ]
  },
  {
   "cell_type": "code",
   "execution_count": null,
   "metadata": {},
   "outputs": [],
   "source": [
    "sporcular = [[180, 78.4],\n",
    "            [215, 102.7],\n",
    "            [210, 98.5],\n",
    "            [188, 75.2]]\n",
    "\n",
    "# arrayi numpy arrayine ceviriniz: np_sporcular\n",
    "\n",
    "\n",
    "# arrayin 3. elemanini yazdiriniz\n"
   ]
  },
  {
   "cell_type": "code",
   "execution_count": null,
   "metadata": {},
   "outputs": [],
   "source": [
    "# np_sporcular arrayinin ilk sutununun hepsini yazdiriniz\n",
    "np_sporcular[:,0]                         # (kesisim mantigi)"
   ]
  },
  {
   "cell_type": "code",
   "execution_count": null,
   "metadata": {},
   "outputs": [],
   "source": [
    "# np_sporcular arrayinin ikinci sutununun hepsini yazdiriniz\n"
   ]
  },
  {
   "cell_type": "code",
   "execution_count": null,
   "metadata": {},
   "outputs": [],
   "source": [
    "# np_sporcular arrayinin 3. satirinin  1.sutundaki degeri yazdiriniz\n"
   ]
  },
  {
   "cell_type": "code",
   "execution_count": null,
   "metadata": {},
   "outputs": [],
   "source": [
    "sporcular3 = [[74.0, 180.0, 22.99],\n",
    " [74.0, 215.0, 34.69],\n",
    " [72.0, 210.0, 30.78],\n",
    " [72.0, 210.0, 35.43],\n",
    " [73.0, 188.0, 35.71],\n",
    " [69.0, 176.0, 29.39]]\n",
    "\n",
    "# numpy arrayine ceviriniz: np_sporcular3\n",
    "\n",
    "\n",
    "# birimleri degistirmek icin ilgili katsayilar\n",
    "katsayilar = np.array([0.0254, 0.453592, 1])\n",
    "\n",
    "# katsayilar ile carparak, np_sporcular3 un kg m cinsinden yazdiriniz\n"
   ]
  },
  {
   "cell_type": "markdown",
   "metadata": {},
   "source": [
    "11. Numpy ile basit istatistikler: np.mean() np.median()"
   ]
  },
  {
   "cell_type": "code",
   "execution_count": null,
   "metadata": {},
   "outputs": [],
   "source": [
    "sporcular4 = [[7.400e+04, 1.800e+02, 2.299e+01],\n",
    "              [7.400e+01, 2.150e+02, 3.469e+01],\n",
    "              [7.200e+01, 2.100e+02, 3.078e+01],\n",
    "              [7.200e+01, 2.100e+02, 3.543e+01],\n",
    "              [7.300e+01, 1.880e+02, 3.571e+01],\n",
    "              [6.900e+01, 1.760e+02, 2.939e+01],\n",
    "              [6.900e+01, 2.090e+02, 3.077e+01],\n",
    "              [7.100e+01, 2.000e+02, 3.507e+01]]\n",
    "\n",
    "np_sporcular4 = np.array(sporcular4)\n",
    "\n",
    "# ilk sutunu seciniz: np_boy_inc olarak kaydidiniz\n",
    "\n",
    "\n",
    "# np_boy_inc ortalamasini yazdiriniz\n",
    "\n",
    "\n",
    "# np_boy_inc degerlerinin ortanca olanini yazdiriniz\n",
    "print(np.median(np_boy_inc))"
   ]
  },
  {
   "cell_type": "code",
   "execution_count": null,
   "metadata": {},
   "outputs": [],
   "source": [
    "# boy ortalamasi (1. kolon/sutun)\n",
    "ort = np.mean(np_boy_inc)\n",
    "print(\"Boy ortalamasi: \" +     )\n",
    "\n",
    "# boy medyan degeri:\n",
    "med = np.median(np_boy_inc)\n",
    "print(\"Medyan: \" +         )\n",
    "\n",
    "# boylarin standart sapmasi:\n",
    "s_sapma = np.std(np_boy_inc)\n",
    "print(\"Standart sapmasi: \" + str(s_sapma))"
   ]
  },
  {
   "cell_type": "markdown",
   "metadata": {},
   "source": [
    "12. Bu baslik sonunda bos hucre ekleyerek Numpy ile ilgili karalama, test etme, uygulama, deneme-yanilma, farkli kombinasyonlari denemeler yapiniz:"
   ]
  },
  {
   "cell_type": "code",
   "execution_count": null,
   "metadata": {},
   "outputs": [],
   "source": []
  },
  {
   "cell_type": "code",
   "execution_count": null,
   "metadata": {},
   "outputs": [],
   "source": []
  },
  {
   "cell_type": "code",
   "execution_count": null,
   "metadata": {},
   "outputs": [],
   "source": []
  },
  {
   "cell_type": "markdown",
   "metadata": {},
   "source": [
    "# Pandas"
   ]
  },
  {
   "cell_type": "markdown",
   "metadata": {},
   "source": [
    "13. sozlukten Dataframe olusturma:  pd.DataFrame()"
   ]
  },
  {
   "cell_type": "code",
   "execution_count": null,
   "metadata": {},
   "outputs": [],
   "source": [
    "isimler = ['United States', 'Australia', 'Japan', 'India', 'Russia', 'Morocco', 'Egypt']\n",
    "direks_sag =  [True, False, False, False, True, True, True]\n",
    "arac = [809, 731, 588, 18, 200, 70, 45]\n",
    "\n",
    "# pandas kutuphanesini import ediniz\n",
    "\n",
    "\n",
    "# verilen listeleri kullanarak sozlugum adli bir sozluk olusturunuz. \n",
    "# degisken adlari:  ulkeler,  direksiyon_sag,  arac_sayisi\n",
    "sozlugum = { 'ulkeler':   , 'direksiyon_sag':   , 'arac_sayisi':    }\n",
    "\n",
    "# 'sozlugum' adli sozluk u Dataframe e ceviriniz: 'araclar' ismi ile kaydediniz\n",
    "\n",
    "\n",
    "# bu dataframe i yazdiriniz\n",
    "print(araclar)"
   ]
  },
  {
   "cell_type": "markdown",
   "metadata": {},
   "source": [
    "14. gozlem indeksleri atama: df.index ="
   ]
  },
  {
   "cell_type": "code",
   "execution_count": null,
   "metadata": {},
   "outputs": [],
   "source": [
    "satir_indeksleri = ['US', 'AUS', 'JAP', 'IN', 'RU', 'MOR', 'EG']\n",
    "\n",
    "# verilen diziyi araclar dataframe inin indeksi icin kullaniniz\n",
    "araclar.index = \n",
    "\n",
    "# araclar dataframe ini tekrar yazdiriniz\n"
   ]
  },
  {
   "cell_type": "markdown",
   "metadata": {},
   "source": [
    "15. csv dosyasi okuma:"
   ]
  },
  {
   "cell_type": "code",
   "execution_count": null,
   "metadata": {},
   "outputs": [],
   "source": [
    "# pandas i import ediniz:\n",
    "\n",
    "\n",
    "# cars.csv  dosyasini cars adi ile kaydediniz\n",
    "cars = pd.read_csv('cars.csv')\n",
    "\n",
    "# cars verisinin ilk 5 gozlemini yazdiriniz\n"
   ]
  },
  {
   "cell_type": "markdown",
   "metadata": {},
   "source": [
    "16. ilk kolonu satirlarin indeksi olarak acmak icin kulanilan arguman:  index_col = 0"
   ]
  },
  {
   "cell_type": "code",
   "execution_count": null,
   "metadata": {},
   "outputs": [],
   "source": [
    "# ilk sutun gozlemlerin indeksi olarak belirlenmis olarak csv dosyasini okuyunuz:\n",
    "cars = pd.read_csv('cars.csv',        )\n",
    "\n",
    "\n",
    "# cars verisini tekrar yazdiriniz'\n"
   ]
  },
  {
   "cell_type": "markdown",
   "metadata": {},
   "source": [
    "17. Koseli parantezle degisken secme :"
   ]
  },
  {
   "cell_type": "code",
   "execution_count": null,
   "metadata": {},
   "outputs": [],
   "source": [
    "# country degiskenini bir Pandas Series olarak yazdiriniz\n",
    "print(cars['country'])\n",
    "\n",
    "# country degiskenini bir  Pandas DataFrame olarak yazdiriniz\n",
    "print(cars[['country']])\n",
    "\n",
    "# dataframe in sadece country ve drives_right degiskenlerini secerek yazdiriniz\n",
    "print(cars[['country', 'drives_right']])"
   ]
  },
  {
   "cell_type": "markdown",
   "metadata": {},
   "source": [
    "18. Koseli parantezle gozlem secme :"
   ]
  },
  {
   "cell_type": "code",
   "execution_count": null,
   "metadata": {},
   "outputs": [],
   "source": [
    "# cars verisinin ilk 3 gozlemi yazdiriniz\n",
    "\n",
    "\n",
    "# 4. 5. ve 6. gozlemleri yazdiriniz\n",
    "print(cars[3:6])"
   ]
  },
  {
   "cell_type": "markdown",
   "metadata": {},
   "source": [
    "19. loc ve iloc:"
   ]
  },
  {
   "cell_type": "code",
   "execution_count": null,
   "metadata": {},
   "outputs": [],
   "source": [
    "# sadece Japonya ya ait bilgileri yazdiriniz\n",
    "\n",
    "\n",
    "# Avusturya ve Misira ait bilgileri yazdiriiniz\n",
    "print(cars.loc[['AUS','EG'],:])"
   ]
  },
  {
   "cell_type": "markdown",
   "metadata": {},
   "source": [
    "20. loc ve iloc 2:"
   ]
  },
  {
   "cell_type": "code",
   "execution_count": null,
   "metadata": {},
   "outputs": [],
   "source": [
    "# Morocco a ait drives_right bilgisini yazdiriniz\n",
    "\n",
    "\n",
    "# rusya ve morocco nun country ve drives_right bilgilerini yazdiriniz:\n",
    "print(cars.loc[['RU','MOR'],['country','drives_right']])"
   ]
  },
  {
   "cell_type": "markdown",
   "metadata": {},
   "source": [
    "21. loc ve iloc 3:"
   ]
  },
  {
   "cell_type": "code",
   "execution_count": null,
   "metadata": {},
   "outputs": [],
   "source": [
    "# drives_right kolonunu(degiskenini) bir Series olarak yazdiriniz:\n",
    "print(cars.loc[:,'drives_right'])\n",
    "\n",
    "# drives_right kolonunu(degiskenini) bir DataFrame olarak yazdiriniz:\n",
    "print(cars.loc[:,['drives_right']])\n",
    "\n",
    "# cars_per_cap ve drives_right kolonlarini(degiskenlerini) bir DataFrame olarak yazdiriniz:\n",
    "\n"
   ]
  },
  {
   "cell_type": "markdown",
   "metadata": {},
   "source": [
    "22. Pandas DataFrame uzerinde filtreleme:     df[df['column1']]"
   ]
  },
  {
   "cell_type": "code",
   "execution_count": null,
   "metadata": {},
   "outputs": [],
   "source": [
    "# sag direksiyonlu olanlari ifade eden drives_right kolonunu bir Series olarak dr adiyla kaydediniz: dr\n",
    "dr = cars['drives_right']\n",
    "\n",
    "#  dr i kullanarak cars dataframini filtreleyiniz, secilen adi ile kaydediniz: secilen\n",
    "# (burada dr icindeki True lara karsilik gelen gozlemleri secilir, digerleri secilmez)\n",
    "secilen = cars[dr]\n",
    "\n",
    "# secilen  dataframini yazdiriniz\n"
   ]
  },
  {
   "cell_type": "markdown",
   "metadata": {},
   "source": [
    "23. tek satirda ayni islem:"
   ]
  },
  {
   "cell_type": "code",
   "execution_count": null,
   "metadata": {},
   "outputs": [],
   "source": [
    "# Yukaridaki secme islemini aynisini tek satirda yapiniz:\n",
    "secilen = cars[cars['drives_right']]\n",
    "\n",
    "# secilen  dataframe ini yazdiriniz:\n"
   ]
  },
  {
   "cell_type": "markdown",
   "metadata": {},
   "source": [
    "24. Filtreleme-Secme 2:"
   ]
  },
  {
   "cell_type": "code",
   "execution_count": null,
   "metadata": {},
   "outputs": [],
   "source": [
    "# cars_per_cap degeri 500 den buyuk olan degerleri seciniz. bu veriyi  car_maniac  adiyla kaydediniz \n",
    "cpc = cars['cars_per_cap']\n",
    "many_cars = cpc > 500\n",
    "car_maniac = cars[many_cars]\n",
    "\n",
    "#  car_maniac  verisini yazdiriniz\n"
   ]
  },
  {
   "cell_type": "markdown",
   "metadata": {},
   "source": [
    "25. Filtreleme-Secme 3:"
   ]
  },
  {
   "cell_type": "raw",
   "metadata": {},
   "source": [
    "Ormek:\n",
    "cpc = cars['cars_per_cap']\n",
    "between = np.logical_and(cpc > 10, cpc < 80)\n",
    "medium = cars[between]"
   ]
  },
  {
   "cell_type": "code",
   "execution_count": null,
   "metadata": {},
   "outputs": [],
   "source": [
    "import numpy as np\n",
    "\n",
    "# cars_per_cap degeri 500 den buyuk ve 100 den kucuk olan degerleri seciniz. bu veriyi  medium  adiyla kaydediniz\n",
    "medium = cars[  np.logical_and(cars.cars_per_cap > 100, cars.cars_per_cap <500)  ]\n",
    "\n",
    "# medium u yazdiriniz\n"
   ]
  },
  {
   "cell_type": "markdown",
   "metadata": {},
   "source": [
    "26. DataFrame uzerinde dongu"
   ]
  },
  {
   "cell_type": "raw",
   "metadata": {},
   "source": [
    "Bilgi:\n",
    "\n",
    "for sutun, satir in df.iterrows() :\n",
    "    ..."
   ]
  },
  {
   "cell_type": "code",
   "execution_count": null,
   "metadata": {},
   "outputs": [],
   "source": [
    "# cars uzerinde for ile dongu kurarak degisken adini ve satiri yazdiriniz\n",
    "for variable, row in cars.iterrows():\n",
    "    print(variable)\n",
    "    print(row)"
   ]
  },
  {
   "cell_type": "markdown",
   "metadata": {},
   "source": [
    "27. DataFrame uzerinde dongu-2"
   ]
  },
  {
   "cell_type": "raw",
   "metadata": {},
   "source": [
    "BILGI:\n",
    "\n",
    "for var, row in brics.iterrows() :\n",
    "    print(row['country'])"
   ]
  },
  {
   "cell_type": "raw",
   "metadata": {},
   "source": [
    "US: 809\n",
    "AUS: 731\n",
    "JAP: 588\n",
    "IN: 18\n",
    "RU: 200\n",
    "MOR: 70\n",
    "EG: 45"
   ]
  },
  {
   "cell_type": "code",
   "execution_count": null,
   "metadata": {},
   "outputs": [],
   "source": [
    "# bir ustteki hucrede yazilanlari cikti olarak elde ediniz. (df uzerinde dongu kullanarak)\n",
    "for var, row in cars.iterrows() :\n",
    "    print(var + \": \" + str(row['cars_per_cap'])  )"
   ]
  },
  {
   "cell_type": "markdown",
   "metadata": {},
   "source": [
    "28. Dongu ile bir degiskeni editleyip baska bir degisken olarak df e ekleme"
   ]
  },
  {
   "cell_type": "code",
   "execution_count": null,
   "metadata": {},
   "outputs": [],
   "source": [
    "cars"
   ]
  },
  {
   "cell_type": "code",
   "execution_count": null,
   "metadata": {},
   "outputs": [],
   "source": [
    "# Cars verisi uzerinde goruldugu gibu country adli bir degisken var. df uzerinde for dongu ile bu degiskeni kullanip \n",
    "# ayni ulke isimlerinin buyuk harfli halini barindiran yeni bir degisken olarak bu veriye ekleyiniz.\n",
    "# yeni degiskenin adi de COUNTRY seklinde olsun\n",
    "for var,row in cars.iterrows():\n",
    "    cars.loc[var,'COUNTRY'] = row['country'].upper()\n",
    "    \n",
    "# df i yazdiriniz\n"
   ]
  },
  {
   "cell_type": "markdown",
   "metadata": {},
   "source": [
    "29. dongu yerine .apply() methodu:"
   ]
  },
  {
   "cell_type": "raw",
   "metadata": {},
   "source": [
    "BILGI: Asagida verilen iki kod parcacigi ayni isi yapar:\n",
    "\n",
    "for degisken, satir in df.iterrows() :\n",
    "    df.loc[degisken, \"name_length\"] = len(satir[\"country\"])\n",
    "\n",
    "df[\"name_length\"] = df[\"country\"].apply(len)"
   ]
  },
  {
   "cell_type": "code",
   "execution_count": 1,
   "metadata": {},
   "outputs": [],
   "source": [
    "import pandas as pd\n",
    "# cars verisinin ilk halini tekrar cagiralim:\n",
    "cars = pd.read_csv('cars.csv', index_col = 0)\n",
    "\n",
    "# 28. soruda yapilan ayni seyi .apply(str.upper)  yontemi ile yapiniz. (Bilgiye dikkat!)\n",
    "cars['COUNTRY'] = cars['country'].apply(str.upper)\n",
    "\n",
    "# cars df sini yazdiriniz\n"
   ]
  },
  {
   "cell_type": "markdown",
   "metadata": {},
   "source": [
    "30. Bu baslik sonunda bos hucre ekleyerek Pandas ile ilgili karalama, test etme, uygulama, deneme-yanilma, farkli kombinasyonlari denemeler yapiniz:"
   ]
  },
  {
   "cell_type": "code",
   "execution_count": null,
   "metadata": {},
   "outputs": [],
   "source": []
  },
  {
   "cell_type": "code",
   "execution_count": null,
   "metadata": {},
   "outputs": [],
   "source": []
  },
  {
   "cell_type": "code",
   "execution_count": null,
   "metadata": {},
   "outputs": [],
   "source": []
  }
 ],
 "metadata": {
  "kernelspec": {
   "display_name": "Python 3",
   "language": "python",
   "name": "python3"
  },
  "language_info": {
   "codemirror_mode": {
    "name": "ipython",
    "version": 3
   },
   "file_extension": ".py",
   "mimetype": "text/x-python",
   "name": "python",
   "nbconvert_exporter": "python",
   "pygments_lexer": "ipython3",
   "version": "3.7.4"
  }
 },
 "nbformat": 4,
 "nbformat_minor": 4
}
