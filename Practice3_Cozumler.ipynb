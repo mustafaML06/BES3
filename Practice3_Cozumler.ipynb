{
 "cells": [
  {
   "cell_type": "markdown",
   "metadata": {
    "toc-hr-collapsed": false
   },
   "source": [
    "# Pandas ile veri manipulasyonu"
   ]
  },
  {
   "cell_type": "markdown",
   "metadata": {
    "toc-hr-collapsed": false
   },
   "source": [
    "## Pandas giris:  Dataframelerde temel manipulasyonlar: siralama, secme/filtreleme ve yeni kolon ekleme"
   ]
  },
  {
   "cell_type": "code",
   "execution_count": 167,
   "metadata": {},
   "outputs": [],
   "source": [
    "import pandas as pd\n",
    "df = pd.read_pickle(\"homeless_data.pkl\")"
   ]
  },
  {
   "cell_type": "markdown",
   "metadata": {},
   "source": [
    "1. .head()   .info()     metodlarini df e uygulayiniz, print ile yazdiriniz  "
   ]
  },
  {
   "cell_type": "code",
   "execution_count": 12,
   "metadata": {},
   "outputs": [
    {
     "name": "stdout",
     "output_type": "stream",
     "text": [
      "               region       state  individuals  family_members  state_pop\n",
      "0  East South Central     Alabama       2570.0           864.0    4887681\n",
      "1             Pacific      Alaska       1434.0           582.0     735139\n",
      "2            Mountain     Arizona       7259.0          2606.0    7158024\n",
      "3  West South Central    Arkansas       2280.0           432.0    3009733\n",
      "4             Pacific  California     109008.0         20964.0   39461588\n",
      "<class 'pandas.core.frame.DataFrame'>\n",
      "Int64Index: 51 entries, 0 to 50\n",
      "Data columns (total 5 columns):\n",
      "region            51 non-null object\n",
      "state             51 non-null object\n",
      "individuals       51 non-null float64\n",
      "family_members    51 non-null float64\n",
      "state_pop         51 non-null int64\n",
      "dtypes: float64(2), int64(1), object(2)\n",
      "memory usage: 2.4+ KB\n",
      "None\n"
     ]
    }
   ],
   "source": [
    "# head \n",
    "print(df.head())\n",
    "\n",
    "# info\n",
    "print(df.info())"
   ]
  },
  {
   "cell_type": "markdown",
   "metadata": {},
   "source": [
    "2. .shape   .describe()    metodlarini df e uygulayiniz, print ile yazdiriniz"
   ]
  },
  {
   "cell_type": "code",
   "execution_count": 13,
   "metadata": {},
   "outputs": [
    {
     "name": "stdout",
     "output_type": "stream",
     "text": [
      "(51, 5)\n",
      "         individuals  family_members     state_pop\n",
      "count      51.000000       51.000000  5.100000e+01\n",
      "mean     7225.784314     3504.882353  6.405637e+06\n",
      "std     15991.025083     7805.411811  7.327258e+06\n",
      "min       434.000000       75.000000  5.776010e+05\n",
      "25%      1446.500000      592.000000  1.777414e+06\n",
      "50%      3082.000000     1482.000000  4.461153e+06\n",
      "75%      6781.500000     3196.000000  7.340946e+06\n",
      "max    109008.000000    52070.000000  3.946159e+07\n"
     ]
    }
   ],
   "source": [
    "# shape \n",
    "print(df.shape)\n",
    "\n",
    "# describe\n",
    "print(df.describe())"
   ]
  },
  {
   "cell_type": "markdown",
   "metadata": {},
   "source": [
    "3. .values    .columns    .index    metodlarini df e uygulayiniz, print ile yazdiriniz"
   ]
  },
  {
   "cell_type": "code",
   "execution_count": 168,
   "metadata": {},
   "outputs": [
    {
     "name": "stdout",
     "output_type": "stream",
     "text": [
      "[['East South Central' 'Alabama' 2570.0 864.0 4887681]\n",
      " ['Pacific' 'Alaska' 1434.0 582.0 735139]\n",
      " ['Mountain' 'Arizona' 7259.0 2606.0 7158024]\n",
      " ['West South Central' 'Arkansas' 2280.0 432.0 3009733]\n",
      " ['Pacific' 'California' 109008.0 20964.0 39461588]\n",
      " ['Mountain' 'Colorado' 7607.0 3250.0 5691287]\n",
      " ['New England' 'Connecticut' 2280.0 1696.0 3571520]\n",
      " ['South Atlantic' 'Delaware' 708.0 374.0 965479]\n",
      " ['South Atlantic' 'District of Columbia' 3770.0 3134.0 701547]\n",
      " ['South Atlantic' 'Florida' 21443.0 9587.0 21244317]\n",
      " ['South Atlantic' 'Georgia' 6943.0 2556.0 10511131]\n",
      " ['Pacific' 'Hawaii' 4131.0 2399.0 1420593]\n",
      " ['Mountain' 'Idaho' 1297.0 715.0 1750536]\n",
      " ['East North Central' 'Illinois' 6752.0 3891.0 12723071]\n",
      " ['East North Central' 'Indiana' 3776.0 1482.0 6695497]\n",
      " ['West North Central' 'Iowa' 1711.0 1038.0 3148618]\n",
      " ['West North Central' 'Kansas' 1443.0 773.0 2911359]\n",
      " ['East South Central' 'Kentucky' 2735.0 953.0 4461153]\n",
      " ['West South Central' 'Louisiana' 2540.0 519.0 4659690]\n",
      " ['New England' 'Maine' 1450.0 1066.0 1339057]\n",
      " ['South Atlantic' 'Maryland' 4914.0 2230.0 6035802]\n",
      " ['New England' 'Massachusetts' 6811.0 13257.0 6882635]\n",
      " ['East North Central' 'Michigan' 5209.0 3142.0 9984072]\n",
      " ['West North Central' 'Minnesota' 3993.0 3250.0 5606249]\n",
      " ['East South Central' 'Mississippi' 1024.0 328.0 2981020]\n",
      " ['West North Central' 'Missouri' 3776.0 2107.0 6121623]\n",
      " ['Mountain' 'Montana' 983.0 422.0 1060665]\n",
      " ['West North Central' 'Nebraska' 1745.0 676.0 1925614]\n",
      " ['Mountain' 'Nevada' 7058.0 486.0 3027341]\n",
      " ['New England' 'New Hampshire' 835.0 615.0 1353465]\n",
      " ['Mid-Atlantic' 'New Jersey' 6048.0 3350.0 8886025]\n",
      " ['Mountain' 'New Mexico' 1949.0 602.0 2092741]\n",
      " ['Mid-Atlantic' 'New York' 39827.0 52070.0 19530351]\n",
      " ['South Atlantic' 'North Carolina' 6451.0 2817.0 10381615]\n",
      " ['West North Central' 'North Dakota' 467.0 75.0 758080]\n",
      " ['East North Central' 'Ohio' 6929.0 3320.0 11676341]\n",
      " ['West South Central' 'Oklahoma' 2823.0 1048.0 3940235]\n",
      " ['Pacific' 'Oregon' 11139.0 3337.0 4181886]\n",
      " ['Mid-Atlantic' 'Pennsylvania' 8163.0 5349.0 12800922]\n",
      " ['New England' 'Rhode Island' 747.0 354.0 1058287]\n",
      " ['South Atlantic' 'South Carolina' 3082.0 851.0 5084156]\n",
      " ['West North Central' 'South Dakota' 836.0 323.0 878698]\n",
      " ['East South Central' 'Tennessee' 6139.0 1744.0 6771631]\n",
      " ['West South Central' 'Texas' 19199.0 6111.0 28628666]\n",
      " ['Mountain' 'Utah' 1904.0 972.0 3153550]\n",
      " ['New England' 'Vermont' 780.0 511.0 624358]\n",
      " ['South Atlantic' 'Virginia' 3928.0 2047.0 8501286]\n",
      " ['Pacific' 'Washington' 16424.0 5880.0 7523869]\n",
      " ['South Atlantic' 'West Virginia' 1021.0 222.0 1804291]\n",
      " ['East North Central' 'Wisconsin' 2740.0 2167.0 5807406]\n",
      " ['Mountain' 'Wyoming' 434.0 205.0 577601]]\n",
      "Index(['region', 'state', 'individuals', 'family_members', 'state_pop'], dtype='object')\n",
      "Int64Index([ 0,  1,  2,  3,  4,  5,  6,  7,  8,  9, 10, 11, 12, 13, 14, 15, 16,\n",
      "            17, 18, 19, 20, 21, 22, 23, 24, 25, 26, 27, 28, 29, 30, 31, 32, 33,\n",
      "            34, 35, 36, 37, 38, 39, 40, 41, 42, 43, 44, 45, 46, 47, 48, 49,\n",
      "            50],\n",
      "           dtype='int64')\n"
     ]
    }
   ],
   "source": [
    "# values  ile iki boyutlu numpy arrayi olaarak yazdiriniz\n",
    "print(df.values)\n",
    "\n",
    "# columns ile degisken(kolon) isimlerini bir baska degisle kolon index isimlerini yazdiriniz\n",
    "print(df.columns)\n",
    "\n",
    "#  index  ile gozlem(satir) numaralarini yazdiriniz\n",
    "print(df.index)"
   ]
  },
  {
   "cell_type": "markdown",
   "metadata": {},
   "source": [
    "4. df.sort_values('variable_name')"
   ]
  },
  {
   "cell_type": "code",
   "execution_count": 17,
   "metadata": {},
   "outputs": [
    {
     "name": "stdout",
     "output_type": "stream",
     "text": [
      "                region         state  individuals  family_members  state_pop\n",
      "50            Mountain       Wyoming        434.0           205.0     577601\n",
      "34  West North Central  North Dakota        467.0            75.0     758080\n",
      "7       South Atlantic      Delaware        708.0           374.0     965479\n",
      "39         New England  Rhode Island        747.0           354.0    1058287\n",
      "45         New England       Vermont        780.0           511.0     624358\n"
     ]
    }
   ],
   "source": [
    "# df i  individual degiskenine gore siralayiniz.  df_ind ile kaydediniz\n",
    "df_ind = df.sort_values('individuals')\n",
    "\n",
    "# df_ind  in ilk 5 gozlemini yazdiriniz\n",
    "print(df_ind.head())"
   ]
  },
  {
   "cell_type": "markdown",
   "metadata": {
    "toc-hr-collapsed": false
   },
   "source": [
    "### df.sort_values('variable_name', ascending=False )"
   ]
  },
  {
   "cell_type": "code",
   "execution_count": 18,
   "metadata": {},
   "outputs": [
    {
     "name": "stdout",
     "output_type": "stream",
     "text": [
      "                region          state  individuals  family_members  state_pop\n",
      "32        Mid-Atlantic       New York      39827.0         52070.0   19530351\n",
      "4              Pacific     California     109008.0         20964.0   39461588\n",
      "21         New England  Massachusetts       6811.0         13257.0    6882635\n",
      "9       South Atlantic        Florida      21443.0          9587.0   21244317\n",
      "43  West South Central          Texas      19199.0          6111.0   28628666\n"
     ]
    }
   ],
   "source": [
    "# df i family members degiskenine gore tersten siralayiniz.    df_fam adi ile kaydediniz \n",
    "# (ascending=duz=kucukten buyuge    descending=ters=buyukten kucuge)\n",
    "df_fam = df.sort_values('family_members', ascending=False)\n",
    "\n",
    "# df_fam in ilk 5 gozlemini yazdiriniz\n",
    "print(df_fam.head())"
   ]
  },
  {
   "cell_type": "markdown",
   "metadata": {},
   "source": [
    "6. df.sort_values(['variable_name1','variable_name2'], ascending=[False,False] )"
   ]
  },
  {
   "cell_type": "code",
   "execution_count": 172,
   "metadata": {},
   "outputs": [
    {
     "name": "stdout",
     "output_type": "stream",
     "text": [
      "                region      state  individuals  family_members  state_pop\n",
      "13  East North Central   Illinois       6752.0          3891.0   12723071\n",
      "35  East North Central       Ohio       6929.0          3320.0   11676341\n",
      "22  East North Central   Michigan       5209.0          3142.0    9984072\n",
      "49  East North Central  Wisconsin       2740.0          2167.0    5807406\n",
      "14  East North Central    Indiana       3776.0          1482.0    6695497\n"
     ]
    }
   ],
   "source": [
    "# df i region degiskenine gore duz ve ayni zamanda family members degiskenine gore tersten siralayiniz.    \n",
    "# df_reg_fam adi ile kaydediniz \n",
    "df_reg_fam = df.sort_values(['region','family_members'], ascending=[True, False])\n",
    "\n",
    "# df_reg_fam in ilk 5 gozlemini yazdiriniz\n",
    "print(df_reg_fam.head())"
   ]
  },
  {
   "cell_type": "markdown",
   "metadata": {},
   "source": [
    "7. var = df['variable_name']"
   ]
  },
  {
   "cell_type": "code",
   "execution_count": 25,
   "metadata": {},
   "outputs": [
    {
     "name": "stdout",
     "output_type": "stream",
     "text": [
      "0      2570.0\n",
      "1      1434.0\n",
      "2      7259.0\n",
      "3      2280.0\n",
      "4    109008.0\n",
      "Name: individuals, dtype: float64\n"
     ]
    }
   ],
   "source": [
    "#  individuals  degiskenini seciniz ve individuals adi ile kaydediniz\n",
    "individuals = df['individuals']\n",
    "\n",
    "# individuals in ilk 5 gozlemini yazdiriniz\n",
    "print(individuals.head())"
   ]
  },
  {
   "cell_type": "markdown",
   "metadata": {},
   "source": [
    "8. v1_v2 = df[['variable_name1','variable_name2']]"
   ]
  },
  {
   "cell_type": "code",
   "execution_count": 28,
   "metadata": {},
   "outputs": [
    {
     "name": "stdout",
     "output_type": "stream",
     "text": [
      "        state  family_members\n",
      "0     Alabama           864.0\n",
      "1      Alaska           582.0\n",
      "2     Arizona          2606.0\n",
      "3    Arkansas           432.0\n",
      "4  California         20964.0\n"
     ]
    }
   ],
   "source": [
    "# state ve family_members degiskenlerini seciniz:   state_fam \n",
    "state_fam = df[['state','family_members']]\n",
    "\n",
    "# sonucun bas kismini yazdiriniz\n",
    "print(state_fam.head())"
   ]
  },
  {
   "cell_type": "markdown",
   "metadata": {},
   "source": [
    "9. "
   ]
  },
  {
   "cell_type": "code",
   "execution_count": 34,
   "metadata": {},
   "outputs": [
    {
     "name": "stdout",
     "output_type": "stream",
     "text": [
      "   individuals       state\n",
      "0       2570.0     Alabama\n",
      "1       1434.0      Alaska\n",
      "2       7259.0     Arizona\n",
      "3       2280.0    Arkansas\n",
      "4     109008.0  California\n"
     ]
    }
   ],
   "source": [
    "# individuals ve state columns degiskenlerini seciniz:  ind_state\n",
    "ind_state = df[['individuals','state']]\n",
    "\n",
    "# sonucun bas kismini yazdiriniz\n",
    "print(ind_state.head())"
   ]
  },
  {
   "cell_type": "markdown",
   "metadata": {},
   "source": [
    "10. df[ df['variable'] > 99 ]"
   ]
  },
  {
   "cell_type": "code",
   "execution_count": 35,
   "metadata": {},
   "outputs": [
    {
     "name": "stdout",
     "output_type": "stream",
     "text": [
      "                region       state  individuals  family_members  state_pop\n",
      "4              Pacific  California     109008.0         20964.0   39461588\n",
      "9       South Atlantic     Florida      21443.0          9587.0   21244317\n",
      "32        Mid-Atlantic    New York      39827.0         52070.0   19530351\n",
      "37             Pacific      Oregon      11139.0          3337.0    4181886\n",
      "43  West South Central       Texas      19199.0          6111.0   28628666\n",
      "47             Pacific  Washington      16424.0          5880.0    7523869\n"
     ]
    }
   ],
   "source": [
    "# individuals degerinin  10000  den fazla oldugu gozlemleri seciniz:  ind_buyuk_10k\n",
    "ind_buyuk_10k = df[ df['individuals'] > 10000 ]\n",
    "\n",
    "# ind_buyuk_10k u yazdiriniz\n",
    "print(ind_buyuk_10k)"
   ]
  },
  {
   "cell_type": "markdown",
   "metadata": {},
   "source": [
    "11. df[ df['variable']=='example' ]"
   ]
  },
  {
   "cell_type": "code",
   "execution_count": 175,
   "metadata": {},
   "outputs": [
    {
     "name": "stdout",
     "output_type": "stream",
     "text": [
      "      region       state  individuals  family_members  state_pop\n",
      "2   Mountain     Arizona       7259.0          2606.0    7158024\n",
      "5   Mountain    Colorado       7607.0          3250.0    5691287\n",
      "12  Mountain       Idaho       1297.0           715.0    1750536\n",
      "26  Mountain     Montana        983.0           422.0    1060665\n",
      "28  Mountain      Nevada       7058.0           486.0    3027341\n",
      "31  Mountain  New Mexico       1949.0           602.0    2092741\n",
      "44  Mountain        Utah       1904.0           972.0    3153550\n",
      "50  Mountain     Wyoming        434.0           205.0     577601\n"
     ]
    }
   ],
   "source": [
    "#  region degiskeni  Mountain  olan gozlemleri deciniz:  mountain_reg\n",
    "mountain_reg = df[  df['region']=='Mountain'  ]\n",
    "\n",
    "# sonucu gorelim\n",
    "print(mountain_reg)"
   ]
  },
  {
   "cell_type": "markdown",
   "metadata": {},
   "source": [
    "12. df[(df[\"variable1\"] < 99) & (df[\"variable2\"] == \"example\")]"
   ]
  },
  {
   "cell_type": "code",
   "execution_count": 38,
   "metadata": {},
   "outputs": [
    {
     "name": "stdout",
     "output_type": "stream",
     "text": [
      "    region   state  individuals  family_members  state_pop\n",
      "1  Pacific  Alaska       1434.0           582.0     735139\n"
     ]
    }
   ],
   "source": [
    "# family_members degeri 1000 den kucuk olan ve region i Pacific  olan gozlemleri seciniz: fam_buyuk_1k_pac\n",
    "fam_buyuk_1k_pac = df[    (df[\"family_members\"] < 1000) & (df[\"region\"] == \"Pacific\")    ]\n",
    "\n",
    "# sonucu gorelim\n",
    "print(fam_buyuk_1k_pac)"
   ]
  },
  {
   "cell_type": "markdown",
   "metadata": {},
   "source": [
    "13. "
   ]
  },
  {
   "cell_type": "raw",
   "metadata": {},
   "source": [
    "colors = [\"brown\", \"black\", \"tan\"]\n",
    "condition = dogs[\"color\"].isin(colors)\n",
    "dogs[condition]"
   ]
  },
  {
   "cell_type": "code",
   "execution_count": 176,
   "metadata": {},
   "outputs": [
    {
     "name": "stdout",
     "output_type": "stream",
     "text": [
      "            region                 state  individuals  family_members  \\\n",
      "7   South Atlantic              Delaware        708.0           374.0   \n",
      "8   South Atlantic  District of Columbia       3770.0          3134.0   \n",
      "9   South Atlantic               Florida      21443.0          9587.0   \n",
      "10  South Atlantic               Georgia       6943.0          2556.0   \n",
      "20  South Atlantic              Maryland       4914.0          2230.0   \n",
      "30    Mid-Atlantic            New Jersey       6048.0          3350.0   \n",
      "32    Mid-Atlantic              New York      39827.0         52070.0   \n",
      "33  South Atlantic        North Carolina       6451.0          2817.0   \n",
      "38    Mid-Atlantic          Pennsylvania       8163.0          5349.0   \n",
      "40  South Atlantic        South Carolina       3082.0           851.0   \n",
      "46  South Atlantic              Virginia       3928.0          2047.0   \n",
      "48  South Atlantic         West Virginia       1021.0           222.0   \n",
      "\n",
      "    state_pop  \n",
      "7      965479  \n",
      "8      701547  \n",
      "9    21244317  \n",
      "10   10511131  \n",
      "20    6035802  \n",
      "30    8886025  \n",
      "32   19530351  \n",
      "33   10381615  \n",
      "38   12800922  \n",
      "40    5084156  \n",
      "46    8501286  \n",
      "48    1804291  \n"
     ]
    }
   ],
   "source": [
    "# region degiskeni   South Atlantic  veya  Mid-Atlantic  olan gozlemleri seciniz:  south_mid_atlantic\n",
    "south_mid_atlantic = df[   df['region'].isin(['South Atlantic','Mid-Atlantic'])   ]\n",
    "\n",
    "# gorelim\n",
    "print(south_mid_atlantic)"
   ]
  },
  {
   "cell_type": "markdown",
   "metadata": {},
   "source": [
    "14. df[df['column'].isin(a_list)]"
   ]
  },
  {
   "cell_type": "code",
   "execution_count": 50,
   "metadata": {},
   "outputs": [
    {
     "name": "stdout",
     "output_type": "stream",
     "text": [
      "      region       state  individuals  family_members  state_pop\n",
      "2   Mountain     Arizona       7259.0          2606.0    7158024\n",
      "4    Pacific  California     109008.0         20964.0   39461588\n",
      "28  Mountain      Nevada       7058.0           486.0    3027341\n",
      "44  Mountain        Utah       1904.0           972.0    3153550\n"
     ]
    }
   ],
   "source": [
    "cities = [\"California\", \"Arizona\", \"Nevada\", \"Utah\"]\n",
    "\n",
    "# state degiskeni  cities  listesinin icinde olan gozlemleri seciniz/filtreleyiniz:  cities_df\n",
    "cities_df = df[   df['state'].isin(cities)     ]\n",
    "\n",
    "# gorelim\n",
    "print(cities_df)"
   ]
  },
  {
   "cell_type": "markdown",
   "metadata": {},
   "source": [
    "15. "
   ]
  },
  {
   "cell_type": "code",
   "execution_count": 177,
   "metadata": {},
   "outputs": [
    {
     "name": "stdout",
     "output_type": "stream",
     "text": [
      "               region       state  individuals  family_members  state_pop  \\\n",
      "0  East South Central     Alabama       2570.0           864.0    4887681   \n",
      "1             Pacific      Alaska       1434.0           582.0     735139   \n",
      "2            Mountain     Arizona       7259.0          2606.0    7158024   \n",
      "3  West South Central    Arkansas       2280.0           432.0    3009733   \n",
      "4             Pacific  California     109008.0         20964.0   39461588   \n",
      "\n",
      "      total  o_individuals  \n",
      "0    3434.0       0.748398  \n",
      "1    2016.0       0.711310  \n",
      "2    9865.0       0.735834  \n",
      "3    2712.0       0.840708  \n",
      "4  129972.0       0.838704  \n"
     ]
    }
   ],
   "source": [
    "# individuals  ve  family_members  degiskenlerinin toplamini belirten  total  adli bir degisken ekleyiniz\n",
    "df['total'] = df['individuals'] + df['family_members']\n",
    "\n",
    "# tek yasayan evsizlerin tum evsizlere olan oranini belirten bir degisken ekleyiniz: o_individuals\n",
    "# bunu  individuals / total ile bulabiliriz:\n",
    "df['o_individuals'] = df['individuals'] / df['total']\n",
    "\n",
    "# df.head() in son hali:\n",
    "print(df.head())"
   ]
  },
  {
   "cell_type": "markdown",
   "metadata": {},
   "source": [
    "16."
   ]
  },
  {
   "cell_type": "code",
   "execution_count": 53,
   "metadata": {},
   "outputs": [
    {
     "name": "stdout",
     "output_type": "stream",
     "text": [
      "                   state  indiv_per_10k\n",
      "8   District of Columbia      53.738381\n",
      "11                Hawaii      29.079406\n",
      "4             California      27.623825\n",
      "37                Oregon      26.636307\n",
      "28                Nevada      23.314189\n",
      "47            Washington      21.829195\n",
      "32              New York      20.392363\n"
     ]
    }
   ],
   "source": [
    "# tek yasayan evsizlerin sehir populasyonuna oranini bulunuz, bu kisi basi kac tane evsiz oldugu anlamina gelir\n",
    "# bu orani 10000 ile carparsak 10000 kiside kac tane evsiz vardir buna ulasiriz\n",
    "# bu bilgiyi  indiv_per_10k  degisken adi ile df e ekleyiniz\n",
    "df[\"indiv_per_10k\"] = 10000 * df['individuals'] / df['state_pop'] \n",
    "\n",
    "# 10000 kiside 20 den fazla evsizin bulundugu sehirleri seciniz/filtreleyiniz, yeni df yi  high_df  adi ile kaydediniz\n",
    "high_df = df[    df[\"indiv_per_10k\"] > 20     ]\n",
    "\n",
    "# high_df  dataframeini  indiv_per_10k  degiskenine gore buyukten kucuge dogru siralayiniz: high_df_srt\n",
    "high_df_srt = high_df.sort_values(['indiv_per_10k'], ascending=False)\n",
    "\n",
    "# high_df_srt  dataframinin  state  ve  indiv_per_10k   degiskenlerini seciniz: sonuc\n",
    "sonuc = high_df_srt[['state','indiv_per_10k']]\n",
    "\n",
    "# gorelim\n",
    "print(sonuc)"
   ]
  },
  {
   "cell_type": "markdown",
   "metadata": {
    "toc-hr-collapsed": false
   },
   "source": [
    "## Aggregating"
   ]
  },
  {
   "cell_type": "markdown",
   "metadata": {
    "toc-hr-collapsed": false
   },
   "source": [
    "### ozet istatistikler"
   ]
  },
  {
   "cell_type": "code",
   "execution_count": 161,
   "metadata": {},
   "outputs": [],
   "source": [
    "# !!!  yukaridaki dataframe i df olarak kaydettik, buradaki dataframe i farkli bir isimle kaydedelim:\n",
    "satislar = pd.read_pickle(\"walmart_sales.pkl\")"
   ]
  },
  {
   "cell_type": "markdown",
   "metadata": {},
   "source": [
    "17. .mean()  .median()"
   ]
  },
  {
   "cell_type": "code",
   "execution_count": 77,
   "metadata": {},
   "outputs": [
    {
     "name": "stdout",
     "output_type": "stream",
     "text": [
      "   store type  department       date  weekly_sales  is_holiday  temperature_c  \\\n",
      "0      1    A           1 2010-02-05      24924.50       False       5.727778   \n",
      "1      1    A           2 2010-02-05      50605.27       False       5.727778   \n",
      "2      1    A           3 2010-02-05      13740.12       False       5.727778   \n",
      "3      1    A           4 2010-02-05      39954.04       False       5.727778   \n",
      "4      1    A           5 2010-02-05      32229.38       False       5.727778   \n",
      "\n",
      "   fuel_price_usd_per_l  unemployment  \n",
      "0              0.679451         8.106  \n",
      "1              0.679451         8.106  \n",
      "2              0.679451         8.106  \n",
      "3              0.679451         8.106  \n",
      "4              0.679451         8.106  \n",
      "<class 'pandas.core.frame.DataFrame'>\n",
      "Int64Index: 413119 entries, 0 to 413118\n",
      "Data columns (total 9 columns):\n",
      "store                   413119 non-null int64\n",
      "type                    413119 non-null object\n",
      "department              413119 non-null int32\n",
      "date                    413119 non-null datetime64[ns]\n",
      "weekly_sales            413119 non-null float64\n",
      "is_holiday              413119 non-null bool\n",
      "temperature_c           413119 non-null float64\n",
      "fuel_price_usd_per_l    413119 non-null float64\n",
      "unemployment            413119 non-null float64\n",
      "dtypes: bool(1), datetime64[ns](1), float64(4), int32(1), int64(1), object(1)\n",
      "memory usage: 27.2+ MB\n",
      "None\n",
      "16094.726811185497\n",
      "7682.47\n"
     ]
    }
   ],
   "source": [
    "# print satislar head()\n",
    "print(satislar.head())\n",
    "\n",
    "# Print satislar info()\n",
    "print(satislar.info())\n",
    "\n",
    "# weekly_sales degiskeninin ortalamasini yazdiriniz:\n",
    "print(satislar['weekly_sales'].mean())\n",
    "\n",
    "#  weekly_sales degiskeninin ortanca degerini yazdiriniz: \n",
    "print(satislar.weekly_sales.median())"
   ]
  },
  {
   "cell_type": "markdown",
   "metadata": {},
   "source": [
    "18. .min()  .max()"
   ]
  },
  {
   "cell_type": "code",
   "execution_count": 78,
   "metadata": {},
   "outputs": [
    {
     "name": "stdout",
     "output_type": "stream",
     "text": [
      "2012-10-26 00:00:00\n",
      "2010-02-05 00:00:00\n"
     ]
    }
   ],
   "source": [
    "# son satilan urun hangi tarihte satilmistir\n",
    "print(satislar.date.max())\n",
    "\n",
    "# ilk satilan urun hangi tarihte satilmistir\n",
    "print(satislar.date.min())"
   ]
  },
  {
   "cell_type": "markdown",
   "metadata": {},
   "source": [
    "19. .quantile(0.25)   .quantile(0.75)"
   ]
  },
  {
   "cell_type": "raw",
   "metadata": {},
   "source": [
    "df.column.agg(function)"
   ]
  },
  {
   "cell_type": "raw",
   "metadata": {},
   "source": [
    "df['column1','column2','column3'].agg(['function1','function2'])"
   ]
  },
  {
   "cell_type": "code",
   "execution_count": 79,
   "metadata": {},
   "outputs": [
    {
     "name": "stdout",
     "output_type": "stream",
     "text": [
      "15.299999999999994\n"
     ]
    }
   ],
   "source": [
    "# kendi tanimladigimiz bir IQR fonk u:\n",
    "def iqr(kolon):\n",
    "    \"\"\"\"Bu fonk, gelen kolonlarin 3.ceyrek degeri ile 1.ceyrek degeri arasindaki farki geri dondurur\"\"\"\n",
    "    return kolon.quantile(0.75) - kolon.quantile(0.25)\n",
    "    \n",
    "# satis dataframe inin  temperature_c  degiskeninin  IQR  degerini yazdiriniz\n",
    "# DIKKAT! : bir fonk agg() ile kullanilinca () ve parametre kullanilmaz. \n",
    "# agg(fonk)  seklinde yazildiginda parametresini otomatik alir\n",
    "print(satislar['temperature_c'].agg(iqr))"
   ]
  },
  {
   "cell_type": "code",
   "execution_count": 80,
   "metadata": {},
   "outputs": [
    {
     "name": "stdout",
     "output_type": "stream",
     "text": [
      "temperature_c           15.300000\n",
      "fuel_price_usd_per_l     0.211866\n",
      "unemployment             1.672000\n",
      "dtype: float64\n"
     ]
    }
   ],
   "source": [
    "# yukaaridaki gibi  temperature_c,  fuel_price_usd_per_l  ve  unemployment   degiskenlerinin IQR degerlerini yazdiriniz\n",
    "print(satislar[[\"temperature_c\",\"fuel_price_usd_per_l\", \"unemployment\"]].agg(iqr))"
   ]
  },
  {
   "cell_type": "code",
   "execution_count": 81,
   "metadata": {},
   "outputs": [
    {
     "name": "stdout",
     "output_type": "stream",
     "text": [
      "        temperature_c  fuel_price_usd_per_l  unemployment\n",
      "iqr             15.30              0.211866         1.672\n",
      "median          16.75              0.911922         7.852\n"
     ]
    }
   ],
   "source": [
    "import numpy as np\n",
    "# yukaridaki kodu editleyip, iqr fonksiyonu ile birlikte np.median fonk unu da aggregate ediniz\n",
    "print(satislar[[\"temperature_c\",\"fuel_price_usd_per_l\", \"unemployment\"]].agg([iqr,np.median]))"
   ]
  },
  {
   "cell_type": "markdown",
   "metadata": {},
   "source": [
    "### Kumulatif islemler"
   ]
  },
  {
   "cell_type": "markdown",
   "metadata": {},
   "source": [
    "20. .cumsum() .cummax()"
   ]
  },
  {
   "cell_type": "code",
   "execution_count": 92,
   "metadata": {},
   "outputs": [],
   "source": [
    "# store 1 ve department 1 secilip ilk 20 gozlem uzerinde calisalim:\n",
    "satislar1 = satislar[  np.logical_and( satislar['store']==1 , satislar['department']==1 )  ]\n",
    "satislar1 = satislar1[:20]"
   ]
  },
  {
   "cell_type": "code",
   "execution_count": 179,
   "metadata": {
    "collapsed": true,
    "jupyter": {
     "outputs_hidden": true
    }
   },
   "outputs": [
    {
     "data": {
      "text/html": [
       "<div>\n",
       "<style scoped>\n",
       "    .dataframe tbody tr th:only-of-type {\n",
       "        vertical-align: middle;\n",
       "    }\n",
       "\n",
       "    .dataframe tbody tr th {\n",
       "        vertical-align: top;\n",
       "    }\n",
       "\n",
       "    .dataframe thead th {\n",
       "        text-align: right;\n",
       "    }\n",
       "</style>\n",
       "<table border=\"1\" class=\"dataframe\">\n",
       "  <thead>\n",
       "    <tr style=\"text-align: right;\">\n",
       "      <th></th>\n",
       "      <th>store</th>\n",
       "      <th>type</th>\n",
       "      <th>department</th>\n",
       "      <th>date</th>\n",
       "      <th>weekly_sales</th>\n",
       "      <th>is_holiday</th>\n",
       "      <th>temperature_c</th>\n",
       "      <th>fuel_price_usd_per_l</th>\n",
       "      <th>unemployment</th>\n",
       "      <th>cum_weekly_sales</th>\n",
       "      <th>cum_max_sales</th>\n",
       "    </tr>\n",
       "  </thead>\n",
       "  <tbody>\n",
       "    <tr>\n",
       "      <td>0</td>\n",
       "      <td>1</td>\n",
       "      <td>A</td>\n",
       "      <td>1</td>\n",
       "      <td>2010-02-05</td>\n",
       "      <td>24924.50</td>\n",
       "      <td>False</td>\n",
       "      <td>5.727778</td>\n",
       "      <td>0.679451</td>\n",
       "      <td>8.106</td>\n",
       "      <td>24924.50</td>\n",
       "      <td>24924.50</td>\n",
       "    </tr>\n",
       "    <tr>\n",
       "      <td>73</td>\n",
       "      <td>1</td>\n",
       "      <td>A</td>\n",
       "      <td>1</td>\n",
       "      <td>2010-02-12</td>\n",
       "      <td>46039.49</td>\n",
       "      <td>True</td>\n",
       "      <td>3.616667</td>\n",
       "      <td>0.673111</td>\n",
       "      <td>8.106</td>\n",
       "      <td>70963.99</td>\n",
       "      <td>46039.49</td>\n",
       "    </tr>\n",
       "    <tr>\n",
       "      <td>145</td>\n",
       "      <td>1</td>\n",
       "      <td>A</td>\n",
       "      <td>1</td>\n",
       "      <td>2010-02-19</td>\n",
       "      <td>41595.55</td>\n",
       "      <td>False</td>\n",
       "      <td>4.405556</td>\n",
       "      <td>0.664129</td>\n",
       "      <td>8.106</td>\n",
       "      <td>112559.54</td>\n",
       "      <td>46039.49</td>\n",
       "    </tr>\n",
       "    <tr>\n",
       "      <td>218</td>\n",
       "      <td>1</td>\n",
       "      <td>A</td>\n",
       "      <td>1</td>\n",
       "      <td>2010-02-26</td>\n",
       "      <td>19403.54</td>\n",
       "      <td>False</td>\n",
       "      <td>8.127778</td>\n",
       "      <td>0.676545</td>\n",
       "      <td>8.106</td>\n",
       "      <td>131963.08</td>\n",
       "      <td>46039.49</td>\n",
       "    </tr>\n",
       "    <tr>\n",
       "      <td>290</td>\n",
       "      <td>1</td>\n",
       "      <td>A</td>\n",
       "      <td>1</td>\n",
       "      <td>2010-03-05</td>\n",
       "      <td>21827.90</td>\n",
       "      <td>False</td>\n",
       "      <td>8.055556</td>\n",
       "      <td>0.693452</td>\n",
       "      <td>8.106</td>\n",
       "      <td>153790.98</td>\n",
       "      <td>46039.49</td>\n",
       "    </tr>\n",
       "    <tr>\n",
       "      <td>363</td>\n",
       "      <td>1</td>\n",
       "      <td>A</td>\n",
       "      <td>1</td>\n",
       "      <td>2010-03-12</td>\n",
       "      <td>21043.39</td>\n",
       "      <td>False</td>\n",
       "      <td>14.327778</td>\n",
       "      <td>0.704547</td>\n",
       "      <td>8.106</td>\n",
       "      <td>174834.37</td>\n",
       "      <td>46039.49</td>\n",
       "    </tr>\n",
       "    <tr>\n",
       "      <td>436</td>\n",
       "      <td>1</td>\n",
       "      <td>A</td>\n",
       "      <td>1</td>\n",
       "      <td>2010-03-19</td>\n",
       "      <td>22136.64</td>\n",
       "      <td>False</td>\n",
       "      <td>12.544444</td>\n",
       "      <td>0.718548</td>\n",
       "      <td>8.106</td>\n",
       "      <td>196971.01</td>\n",
       "      <td>46039.49</td>\n",
       "    </tr>\n",
       "    <tr>\n",
       "      <td>508</td>\n",
       "      <td>1</td>\n",
       "      <td>A</td>\n",
       "      <td>1</td>\n",
       "      <td>2010-03-26</td>\n",
       "      <td>26229.21</td>\n",
       "      <td>False</td>\n",
       "      <td>10.805556</td>\n",
       "      <td>0.721718</td>\n",
       "      <td>8.106</td>\n",
       "      <td>223200.22</td>\n",
       "      <td>46039.49</td>\n",
       "    </tr>\n",
       "    <tr>\n",
       "      <td>580</td>\n",
       "      <td>1</td>\n",
       "      <td>A</td>\n",
       "      <td>1</td>\n",
       "      <td>2010-04-02</td>\n",
       "      <td>57258.43</td>\n",
       "      <td>False</td>\n",
       "      <td>16.816667</td>\n",
       "      <td>0.718284</td>\n",
       "      <td>7.808</td>\n",
       "      <td>280458.65</td>\n",
       "      <td>57258.43</td>\n",
       "    </tr>\n",
       "    <tr>\n",
       "      <td>652</td>\n",
       "      <td>1</td>\n",
       "      <td>A</td>\n",
       "      <td>1</td>\n",
       "      <td>2010-04-09</td>\n",
       "      <td>42960.91</td>\n",
       "      <td>False</td>\n",
       "      <td>18.811111</td>\n",
       "      <td>0.731757</td>\n",
       "      <td>7.808</td>\n",
       "      <td>323419.56</td>\n",
       "      <td>57258.43</td>\n",
       "    </tr>\n",
       "  </tbody>\n",
       "</table>\n",
       "</div>"
      ],
      "text/plain": [
       "     store type  department       date  weekly_sales  is_holiday  \\\n",
       "0        1    A           1 2010-02-05      24924.50       False   \n",
       "73       1    A           1 2010-02-12      46039.49        True   \n",
       "145      1    A           1 2010-02-19      41595.55       False   \n",
       "218      1    A           1 2010-02-26      19403.54       False   \n",
       "290      1    A           1 2010-03-05      21827.90       False   \n",
       "363      1    A           1 2010-03-12      21043.39       False   \n",
       "436      1    A           1 2010-03-19      22136.64       False   \n",
       "508      1    A           1 2010-03-26      26229.21       False   \n",
       "580      1    A           1 2010-04-02      57258.43       False   \n",
       "652      1    A           1 2010-04-09      42960.91       False   \n",
       "\n",
       "     temperature_c  fuel_price_usd_per_l  unemployment  cum_weekly_sales  \\\n",
       "0         5.727778              0.679451         8.106          24924.50   \n",
       "73        3.616667              0.673111         8.106          70963.99   \n",
       "145       4.405556              0.664129         8.106         112559.54   \n",
       "218       8.127778              0.676545         8.106         131963.08   \n",
       "290       8.055556              0.693452         8.106         153790.98   \n",
       "363      14.327778              0.704547         8.106         174834.37   \n",
       "436      12.544444              0.718548         8.106         196971.01   \n",
       "508      10.805556              0.721718         8.106         223200.22   \n",
       "580      16.816667              0.718284         7.808         280458.65   \n",
       "652      18.811111              0.731757         7.808         323419.56   \n",
       "\n",
       "     cum_max_sales  \n",
       "0         24924.50  \n",
       "73        46039.49  \n",
       "145       46039.49  \n",
       "218       46039.49  \n",
       "290       46039.49  \n",
       "363       46039.49  \n",
       "436       46039.49  \n",
       "508       46039.49  \n",
       "580       57258.43  \n",
       "652       57258.43  "
      ]
     },
     "execution_count": 179,
     "metadata": {},
     "output_type": "execute_result"
    }
   ],
   "source": [
    "satislar1.head(10)"
   ]
  },
  {
   "cell_type": "code",
   "execution_count": 94,
   "metadata": {},
   "outputs": [
    {
     "name": "stdout",
     "output_type": "stream",
     "text": [
      "           date  weekly_sales  cum_weekly_sales  cum_max_sales\n",
      "0    2010-02-05      24924.50          24924.50       24924.50\n",
      "73   2010-02-12      46039.49          70963.99       46039.49\n",
      "145  2010-02-19      41595.55         112559.54       46039.49\n",
      "218  2010-02-26      19403.54         131963.08       46039.49\n",
      "290  2010-03-05      21827.90         153790.98       46039.49\n",
      "363  2010-03-12      21043.39         174834.37       46039.49\n",
      "436  2010-03-19      22136.64         196971.01       46039.49\n",
      "508  2010-03-26      26229.21         223200.22       46039.49\n",
      "580  2010-04-02      57258.43         280458.65       57258.43\n",
      "652  2010-04-09      42960.91         323419.56       57258.43\n",
      "725  2010-04-16      17596.96         341016.52       57258.43\n",
      "798  2010-04-23      16145.35         357161.87       57258.43\n",
      "870  2010-04-30      16555.11         373716.98       57258.43\n",
      "941  2010-05-07      17413.94         391130.92       57258.43\n",
      "1013 2010-05-14      18926.74         410057.66       57258.43\n",
      "1085 2010-05-21      14773.04         424830.70       57258.43\n",
      "1155 2010-05-28      15580.43         440411.13       57258.43\n",
      "1225 2010-06-04      17558.09         457969.22       57258.43\n",
      "1296 2010-06-11      16637.62         474606.84       57258.43\n",
      "1367 2010-06-18      16216.27         490823.11       57258.43\n"
     ]
    }
   ],
   "source": [
    "# satislar i date e gore siralayiniz ve kaydediniz.\n",
    "satislar1 = satislar1.sort_values('date')\n",
    "\n",
    "# satislar1 i weekly_sales e gore kumulatif toplamini aliniz ve \n",
    "# cum_weekly_sales adiyla yeni bir degisken olarak atayiniz\n",
    "satislar1['cum_weekly_sales'] = satislar1.weekly_sales.cumsum()\n",
    "\n",
    "# satislar1 i weekly_sales e gore kumulatif max ini aliniz ve \n",
    "# cum_max_sales adiyla yeni bir degisken olarak atayiniz\n",
    "satislar1['cum_max_sales'] = satislar1.weekly_sales.cummax()\n",
    "\n",
    "# ilgili degiskenleri secip yazdiriniz\n",
    "print(satislar1[[\"date\", \"weekly_sales\", \"cum_weekly_sales\", \"cum_max_sales\"]])"
   ]
  },
  {
   "cell_type": "markdown",
   "metadata": {},
   "source": [
    "Bu soruda, satislar verisini tarihe gore siraladik, her hafta o haftaya kadar olan toplam satisi hesapladik, ve her hafta o haftaya kadar gecen haftalar icindeki max satisi mevcut haftaya yazdik."
   ]
  },
  {
   "cell_type": "markdown",
   "metadata": {},
   "source": [
    "21. "
   ]
  },
  {
   "cell_type": "code",
   "execution_count": 144,
   "metadata": {},
   "outputs": [
    {
     "name": "stdout",
     "output_type": "stream",
     "text": [
      "       store type  department  is_holiday\n",
      "0          1    A           1       False\n",
      "10244      2    A           1       False\n",
      "20482      3    B           1       False\n",
      "29518      4    A           1       False\n",
      "39790      5    B           1       False\n",
      "       store type  department  is_holiday\n",
      "0          1    A           1       False\n",
      "10244      2    A           1       False\n",
      "20482      3    B           1       False\n",
      "29518      4    A           1       False\n",
      "39790      5    B           1       False\n",
      "   store type  department  is_holiday\n",
      "0      1    A           1       False\n",
      "1      1    A           2       False\n",
      "2      1    A           3       False\n",
      "3      1    A           4       False\n",
      "4      1    A           5       False\n"
     ]
    }
   ],
   "source": [
    "satislar2 = satislar[['store','type','department','is_holiday']]\n",
    "\n",
    "# store degiskeni tekrar eden gozlemleri teke dusurunuz:  store\n",
    "store = satislar2.drop_duplicates(['store'])\n",
    "print(store.head())\n",
    "\n",
    "# store/type ikilisi olarak tekrar eden gozlemleri teke dusurunuz:  store_types\n",
    "store_types = satislar2.drop_duplicates(['store','type'])\n",
    "print(store_types.head())\n",
    "\n",
    "# store/department ikilisi olarak tekrar eden gozlemleri teke dusurunuz:  store_depts\n",
    "store_depts = satislar2.drop_duplicates(['store','department'])\n",
    "print(store_depts.head())"
   ]
  },
  {
   "cell_type": "markdown",
   "metadata": {},
   "source": [
    "22. "
   ]
  },
  {
   "cell_type": "code",
   "execution_count": 180,
   "metadata": {},
   "outputs": [
    {
     "name": "stdout",
     "output_type": "stream",
     "text": [
      "Tek Magazada iki fakli satis tipi yoktur\n",
      "\n",
      "\n",
      "Tek Magazada iki fakli departman vardir\n",
      "\n"
     ]
    }
   ],
   "source": [
    "if store_types.shape == store.shape:\n",
    "    print(\"Tek Magazada iki fakli satis tipi yoktur\")\n",
    "\n",
    "    \n",
    "if store_depts.shape == store.shape:\n",
    "    print(\"\\n\\n Tek Magazada iki fakli departman yoktur\\n\")\n",
    "else:\n",
    "    print(\"\\n\\nTek Magazada iki fakli departman vardir\\n\")"
   ]
  },
  {
   "cell_type": "markdown",
   "metadata": {},
   "source": [
    "23. "
   ]
  },
  {
   "cell_type": "code",
   "execution_count": 145,
   "metadata": {},
   "outputs": [
    {
     "name": "stdout",
     "output_type": "stream",
     "text": [
      "           date  weekly_sales\n",
      "73   2010-02-12      46039.49\n",
      "2218 2010-09-10      18194.74\n",
      "3014 2010-11-26      18820.29\n",
      "3372 2010-12-31      19124.58\n",
      "3800 2011-02-11      37887.17\n",
      "5940 2011-09-09      17746.68\n",
      "6731 2011-11-25      20911.25\n",
      "7096 2011-12-30      23350.88\n",
      "7527 2012-02-10      36988.49\n",
      "9667 2012-09-07      18322.37\n"
     ]
    }
   ],
   "source": [
    "# satislar in tatil olan gozlemlerini seciniz ve bunlar uzerinde date e gore tekrar edenleri teke dusurunuz (unique)\n",
    "# satislar_tatil adi ile kaydediniz\n",
    "satislar_tatil = satislar[  satislar['is_holiday']==True   ].drop_duplicates('date')\n",
    "\n",
    "# tatil iken haftalik satislari yazdiriniz\n",
    "print(satislar_tatil[['date','weekly_sales']])"
   ]
  },
  {
   "cell_type": "markdown",
   "metadata": {},
   "source": [
    "24. "
   ]
  },
  {
   "cell_type": "code",
   "execution_count": 141,
   "metadata": {},
   "outputs": [
    {
     "name": "stdout",
     "output_type": "stream",
     "text": [
      "45\n"
     ]
    },
    {
     "data": {
      "text/html": [
       "<div>\n",
       "<style scoped>\n",
       "    .dataframe tbody tr th:only-of-type {\n",
       "        vertical-align: middle;\n",
       "    }\n",
       "\n",
       "    .dataframe tbody tr th {\n",
       "        vertical-align: top;\n",
       "    }\n",
       "\n",
       "    .dataframe thead th {\n",
       "        text-align: right;\n",
       "    }\n",
       "</style>\n",
       "<table border=\"1\" class=\"dataframe\">\n",
       "  <thead>\n",
       "    <tr style=\"text-align: right;\">\n",
       "      <th></th>\n",
       "      <th>store</th>\n",
       "      <th>type</th>\n",
       "      <th>department</th>\n",
       "      <th>is_holiday</th>\n",
       "    </tr>\n",
       "  </thead>\n",
       "  <tbody>\n",
       "    <tr>\n",
       "      <td>0</td>\n",
       "      <td>1</td>\n",
       "      <td>A</td>\n",
       "      <td>1</td>\n",
       "      <td>False</td>\n",
       "    </tr>\n",
       "    <tr>\n",
       "      <td>10244</td>\n",
       "      <td>2</td>\n",
       "      <td>A</td>\n",
       "      <td>1</td>\n",
       "      <td>False</td>\n",
       "    </tr>\n",
       "    <tr>\n",
       "      <td>20482</td>\n",
       "      <td>3</td>\n",
       "      <td>B</td>\n",
       "      <td>1</td>\n",
       "      <td>False</td>\n",
       "    </tr>\n",
       "    <tr>\n",
       "      <td>29518</td>\n",
       "      <td>4</td>\n",
       "      <td>A</td>\n",
       "      <td>1</td>\n",
       "      <td>False</td>\n",
       "    </tr>\n",
       "    <tr>\n",
       "      <td>39790</td>\n",
       "      <td>5</td>\n",
       "      <td>B</td>\n",
       "      <td>1</td>\n",
       "      <td>False</td>\n",
       "    </tr>\n",
       "  </tbody>\n",
       "</table>\n",
       "</div>"
      ],
      "text/plain": [
       "       store type  department  is_holiday\n",
       "0          1    A           1       False\n",
       "10244      2    A           1       False\n",
       "20482      3    B           1       False\n",
       "29518      4    A           1       False\n",
       "39790      5    B           1       False"
      ]
     },
     "execution_count": 141,
     "metadata": {},
     "output_type": "execute_result"
    }
   ],
   "source": [
    "print(len(store))\n",
    "store.head()"
   ]
  },
  {
   "cell_type": "code",
   "execution_count": 142,
   "metadata": {},
   "outputs": [
    {
     "name": "stdout",
     "output_type": "stream",
     "text": [
      "45\n"
     ]
    },
    {
     "data": {
      "text/html": [
       "<div>\n",
       "<style scoped>\n",
       "    .dataframe tbody tr th:only-of-type {\n",
       "        vertical-align: middle;\n",
       "    }\n",
       "\n",
       "    .dataframe tbody tr th {\n",
       "        vertical-align: top;\n",
       "    }\n",
       "\n",
       "    .dataframe thead th {\n",
       "        text-align: right;\n",
       "    }\n",
       "</style>\n",
       "<table border=\"1\" class=\"dataframe\">\n",
       "  <thead>\n",
       "    <tr style=\"text-align: right;\">\n",
       "      <th></th>\n",
       "      <th>store</th>\n",
       "      <th>type</th>\n",
       "      <th>department</th>\n",
       "      <th>is_holiday</th>\n",
       "    </tr>\n",
       "  </thead>\n",
       "  <tbody>\n",
       "    <tr>\n",
       "      <td>0</td>\n",
       "      <td>1</td>\n",
       "      <td>A</td>\n",
       "      <td>1</td>\n",
       "      <td>False</td>\n",
       "    </tr>\n",
       "    <tr>\n",
       "      <td>10244</td>\n",
       "      <td>2</td>\n",
       "      <td>A</td>\n",
       "      <td>1</td>\n",
       "      <td>False</td>\n",
       "    </tr>\n",
       "    <tr>\n",
       "      <td>20482</td>\n",
       "      <td>3</td>\n",
       "      <td>B</td>\n",
       "      <td>1</td>\n",
       "      <td>False</td>\n",
       "    </tr>\n",
       "    <tr>\n",
       "      <td>29518</td>\n",
       "      <td>4</td>\n",
       "      <td>A</td>\n",
       "      <td>1</td>\n",
       "      <td>False</td>\n",
       "    </tr>\n",
       "    <tr>\n",
       "      <td>39790</td>\n",
       "      <td>5</td>\n",
       "      <td>B</td>\n",
       "      <td>1</td>\n",
       "      <td>False</td>\n",
       "    </tr>\n",
       "  </tbody>\n",
       "</table>\n",
       "</div>"
      ],
      "text/plain": [
       "       store type  department  is_holiday\n",
       "0          1    A           1       False\n",
       "10244      2    A           1       False\n",
       "20482      3    B           1       False\n",
       "29518      4    A           1       False\n",
       "39790      5    B           1       False"
      ]
     },
     "execution_count": 142,
     "metadata": {},
     "output_type": "execute_result"
    }
   ],
   "source": [
    "print(len(store_types))\n",
    "store_types.head()"
   ]
  },
  {
   "cell_type": "code",
   "execution_count": 143,
   "metadata": {},
   "outputs": [
    {
     "name": "stdout",
     "output_type": "stream",
     "text": [
      "3266\n"
     ]
    },
    {
     "data": {
      "text/html": [
       "<div>\n",
       "<style scoped>\n",
       "    .dataframe tbody tr th:only-of-type {\n",
       "        vertical-align: middle;\n",
       "    }\n",
       "\n",
       "    .dataframe tbody tr th {\n",
       "        vertical-align: top;\n",
       "    }\n",
       "\n",
       "    .dataframe thead th {\n",
       "        text-align: right;\n",
       "    }\n",
       "</style>\n",
       "<table border=\"1\" class=\"dataframe\">\n",
       "  <thead>\n",
       "    <tr style=\"text-align: right;\">\n",
       "      <th></th>\n",
       "      <th>store</th>\n",
       "      <th>type</th>\n",
       "      <th>department</th>\n",
       "      <th>is_holiday</th>\n",
       "    </tr>\n",
       "  </thead>\n",
       "  <tbody>\n",
       "    <tr>\n",
       "      <td>0</td>\n",
       "      <td>1</td>\n",
       "      <td>A</td>\n",
       "      <td>1</td>\n",
       "      <td>False</td>\n",
       "    </tr>\n",
       "    <tr>\n",
       "      <td>1</td>\n",
       "      <td>1</td>\n",
       "      <td>A</td>\n",
       "      <td>2</td>\n",
       "      <td>False</td>\n",
       "    </tr>\n",
       "    <tr>\n",
       "      <td>2</td>\n",
       "      <td>1</td>\n",
       "      <td>A</td>\n",
       "      <td>3</td>\n",
       "      <td>False</td>\n",
       "    </tr>\n",
       "    <tr>\n",
       "      <td>3</td>\n",
       "      <td>1</td>\n",
       "      <td>A</td>\n",
       "      <td>4</td>\n",
       "      <td>False</td>\n",
       "    </tr>\n",
       "    <tr>\n",
       "      <td>4</td>\n",
       "      <td>1</td>\n",
       "      <td>A</td>\n",
       "      <td>5</td>\n",
       "      <td>False</td>\n",
       "    </tr>\n",
       "  </tbody>\n",
       "</table>\n",
       "</div>"
      ],
      "text/plain": [
       "   store type  department  is_holiday\n",
       "0      1    A           1       False\n",
       "1      1    A           2       False\n",
       "2      1    A           3       False\n",
       "3      1    A           4       False\n",
       "4      1    A           5       False"
      ]
     },
     "execution_count": 143,
     "metadata": {},
     "output_type": "execute_result"
    }
   ],
   "source": [
    "print(len(store_depts))\n",
    "store_depts.head()"
   ]
  },
  {
   "cell_type": "code",
   "execution_count": 146,
   "metadata": {},
   "outputs": [
    {
     "name": "stdout",
     "output_type": "stream",
     "text": [
      "A    22\n",
      "B    17\n",
      "C     6\n",
      "Name: type, dtype: int64\n"
     ]
    }
   ],
   "source": [
    "# Tipine gore magaza sayilari\n",
    "store_counts = store['type'].value_counts()\n",
    "print(store_counts)"
   ]
  },
  {
   "cell_type": "code",
   "execution_count": 149,
   "metadata": {},
   "outputs": [
    {
     "name": "stdout",
     "output_type": "stream",
     "text": [
      "A    0.488889\n",
      "B    0.377778\n",
      "C    0.133333\n",
      "Name: type, dtype: float64\n"
     ]
    }
   ],
   "source": [
    "# Tipine gore magaza oranlari\n",
    "store_props = store['type'].value_counts(normalize=True)\n",
    "print(store_props)"
   ]
  },
  {
   "cell_type": "code",
   "execution_count": 155,
   "metadata": {},
   "outputs": [
    {
     "name": "stdout",
     "output_type": "stream",
     "text": [
      "1     45\n",
      "9     45\n",
      "4     45\n",
      "6     45\n",
      "8     45\n",
      "      ..\n",
      "37    20\n",
      "50    14\n",
      "43     5\n",
      "39     5\n",
      "65     1\n",
      "Name: department, Length: 81, dtype: int64\n"
     ]
    }
   ],
   "source": [
    "# Tipine gore magazalarin departman sayilari, sirali: \n",
    "dept_counts_sorted = store_depts['department'].value_counts(sort=True)\n",
    "print(dept_counts_sorted)"
   ]
  },
  {
   "cell_type": "raw",
   "metadata": {},
   "source": [
    "45 magazada departman1 varmis\n",
    "45 magazada departman9 varmis\n",
    "...\n",
    "sadece 1 tane magazada departman65 varmis"
   ]
  },
  {
   "cell_type": "code",
   "execution_count": 157,
   "metadata": {},
   "outputs": [
    {
     "name": "stdout",
     "output_type": "stream",
     "text": [
      "1     0.013778\n",
      "9     0.013778\n",
      "4     0.013778\n",
      "6     0.013778\n",
      "8     0.013778\n",
      "        ...   \n",
      "37    0.006124\n",
      "50    0.004287\n",
      "43    0.001531\n",
      "39    0.001531\n",
      "65    0.000306\n",
      "Name: department, Length: 81, dtype: float64\n"
     ]
    }
   ],
   "source": [
    "# yukaridaki sonucun oransal degerleri ve siralanmis hali\n",
    "dept_props_sorted = store_depts['department'].value_counts(sort=True, normalize=True)\n",
    "print(dept_props_sorted)"
   ]
  },
  {
   "cell_type": "markdown",
   "metadata": {},
   "source": [
    "25. "
   ]
  },
  {
   "cell_type": "code",
   "execution_count": 183,
   "metadata": {},
   "outputs": [
    {
     "name": "stdout",
     "output_type": "stream",
     "text": [
      "[4331014722.749999, 1912519195.2199998, 405503527.53999996]\n",
      "[0.65137469 0.28763851 0.0609868 ]\n"
     ]
    }
   ],
   "source": [
    "# Haftalik satislarin tumunun toplami:\n",
    "satislar_hepsi = satislar[\"weekly_sales\"].sum()\n",
    "\n",
    "# A tipinde olan magaazalarin tumunun hafalik satislari toplami:\n",
    "satislar_A = satislar[    satislar[\"type\"] == \"A\"   ][\"weekly_sales\"].sum()\n",
    "\n",
    "# Subset for type B stores, calc total weekly sales\n",
    "satislar_B = satislar[satislar[\"type\"] == \"B\"][\"weekly_sales\"].sum()\n",
    "\n",
    "# Subset for type C stores, calc total weekly sales\n",
    "satislar_C = satislar[satislar[\"type\"] == \"C\"][\"weekly_sales\"].sum()\n",
    "\n",
    "print([satislar_A, satislar_B, satislar_C])\n",
    "\n",
    "\n",
    "# Get proportion for each type\n",
    "satislarin_oranlari = [satislar_A, satislar_B, satislar_C] / satislar_hepsi\n",
    "print(satislarin_oranlari)"
   ]
  },
  {
   "cell_type": "markdown",
   "metadata": {},
   "source": [
    "26. "
   ]
  },
  {
   "cell_type": "code",
   "execution_count": 182,
   "metadata": {},
   "outputs": [
    {
     "name": "stdout",
     "output_type": "stream",
     "text": [
      "type\n",
      "A    4.331015e+09\n",
      "B    1.912519e+09\n",
      "C    4.055035e+08\n",
      "Name: weekly_sales, dtype: float64\n",
      "type\n",
      "A    0.651375\n",
      "B    0.287639\n",
      "C    0.060987\n",
      "Name: weekly_sales, dtype: float64\n"
     ]
    }
   ],
   "source": [
    "# type a gore guruplayiniz, magaza tiplerinin haftalik satis toplamlarinin bulunuz\n",
    "satislar_tipe_gore = satislar.groupby(\"type\")[\"weekly_sales\"].sum()\n",
    "print( satislar_tipe_gore )\n",
    "\n",
    "\n",
    "# satis miktarlarini (uc tane) toplamlarina bolerek oranlarini bulunuz\n",
    "satislar_orani = satislar_tipe_gore/sum(satislar_tipe_gore)\n",
    "print(satislar_orani)"
   ]
  },
  {
   "cell_type": "code",
   "execution_count": 166,
   "metadata": {},
   "outputs": [
    {
     "name": "stdout",
     "output_type": "stream",
     "text": [
      "type  is_holiday\n",
      "A     False         4.007612e+09\n",
      "      True          3.234028e+08\n",
      "B     False         1.765411e+09\n",
      "      True          1.471081e+08\n",
      "C     False         3.772478e+08\n",
      "      True          2.825570e+07\n",
      "Name: weekly_sales, dtype: float64\n"
     ]
    }
   ],
   "source": [
    "# type ve tatil durumuna a gore guruplayiniz, haftalik satislarin toplamini bulunuz\n",
    "satislar_tip_ve_tatile_gore = satislar.groupby(['type','is_holiday'])['weekly_sales'].sum()\n",
    "print(satislar_tip_ve_tatile_gore)"
   ]
  },
  {
   "cell_type": "code",
   "execution_count": null,
   "metadata": {},
   "outputs": [],
   "source": []
  }
 ],
 "metadata": {
  "kernelspec": {
   "display_name": "Python 3",
   "language": "python",
   "name": "python3"
  },
  "language_info": {
   "codemirror_mode": {
    "name": "ipython",
    "version": 3
   },
   "file_extension": ".py",
   "mimetype": "text/x-python",
   "name": "python",
   "nbconvert_exporter": "python",
   "pygments_lexer": "ipython3",
   "version": "3.7.4"
  },
  "toc-autonumbering": false,
  "toc-showmarkdowntxt": true
 },
 "nbformat": 4,
 "nbformat_minor": 4
}
