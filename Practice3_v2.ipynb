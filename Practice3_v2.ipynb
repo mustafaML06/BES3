{
 "cells": [
  {
   "cell_type": "markdown",
   "metadata": {
    "toc-hr-collapsed": false
   },
   "source": [
    "# Pandas ile veri manipulasyonu"
   ]
  },
  {
   "cell_type": "markdown",
   "metadata": {
    "toc-hr-collapsed": false
   },
   "source": [
    "## Pandas giris:  Dataframelerde temel manipulasyonlar: siralama, secme/filtreleme ve yeni kolon ekleme"
   ]
  },
  {
   "cell_type": "code",
   "execution_count": null,
   "metadata": {},
   "outputs": [],
   "source": [
    "import pandas as pd\n",
    "df = pd.read_pickle(\"homeless_data.pkl\")"
   ]
  },
  {
   "cell_type": "markdown",
   "metadata": {},
   "source": [
    "1. .head()   .info()     metodlarini df e uygulayiniz, print ile yazdiriniz  "
   ]
  },
  {
   "cell_type": "code",
   "execution_count": null,
   "metadata": {},
   "outputs": [],
   "source": [
    "# head() \n",
    "print(   )\n",
    "\n",
    "# info()\n"
   ]
  },
  {
   "cell_type": "markdown",
   "metadata": {},
   "source": [
    "2. .shape   .describe()    metodlarini df e uygulayiniz, print ile yazdiriniz"
   ]
  },
  {
   "cell_type": "code",
   "execution_count": null,
   "metadata": {},
   "outputs": [],
   "source": [
    "# shape \n",
    "print(     )\n",
    "\n",
    "# describe()\n"
   ]
  },
  {
   "cell_type": "markdown",
   "metadata": {},
   "source": [
    "3. .values    .columns    .index    metodlarini df e uygulayiniz, print ile yazdiriniz"
   ]
  },
  {
   "cell_type": "code",
   "execution_count": null,
   "metadata": {},
   "outputs": [],
   "source": [
    "# .values  ile iki boyutlu numpy arrayi olarak yazdiriniz\n",
    "\n",
    "\n",
    "# .columns ile degisken(kolon) isimlerini bir baska degisle kolon index isimlerini yazdiriniz\n",
    "\n",
    "\n",
    "#  .index  ile gozlem(satir) numaralarini yazdiriniz\n"
   ]
  },
  {
   "cell_type": "markdown",
   "metadata": {},
   "source": [
    "4. df.sort_values('variable_name')"
   ]
  },
  {
   "cell_type": "code",
   "execution_count": null,
   "metadata": {},
   "outputs": [],
   "source": [
    "# df i  individual degiskenine gore siralayiniz.  df_ind ile kaydediniz\n",
    "\n",
    "\n",
    "# df_ind  in ilk 5 gozlemini yazdiriniz\n"
   ]
  },
  {
   "cell_type": "markdown",
   "metadata": {},
   "source": [
    "5. df.sort_values('variable_name', ascending=False )"
   ]
  },
  {
   "cell_type": "code",
   "execution_count": null,
   "metadata": {},
   "outputs": [],
   "source": [
    "# df i family members degiskenine gore tersten siralayiniz.    df_fam adi ile kaydediniz \n",
    "# (ascending=duz=kucukten buyuge    descending=ters=buyukten kucuge)\n",
    "\n",
    "\n",
    "# df_fam in ilk 5 gozlemini yazdiriniz\n"
   ]
  },
  {
   "cell_type": "markdown",
   "metadata": {},
   "source": [
    "6. df.sort_values(['variable_name1','variable_name2'], ascending=[False,False] )"
   ]
  },
  {
   "cell_type": "code",
   "execution_count": null,
   "metadata": {},
   "outputs": [],
   "source": [
    "# df i region degiskenine gore duz ve ayni zamanda family members degiskenine gore tersten siralayiniz.    \n",
    "# df_reg_fam adi ile kaydediniz \n",
    "\n",
    "\n",
    "# df_reg_fam in ilk 5 gozlemini yazdiriniz\n"
   ]
  },
  {
   "cell_type": "markdown",
   "metadata": {},
   "source": [
    "7. var = df['variable_name']"
   ]
  },
  {
   "cell_type": "code",
   "execution_count": null,
   "metadata": {},
   "outputs": [],
   "source": [
    "#  individuals  degiskenini seciniz ve individuals adi ile kaydediniz\n",
    "\n",
    "\n",
    "# individuals in ilk 5 gozlemini yazdiriniz\n"
   ]
  },
  {
   "cell_type": "markdown",
   "metadata": {},
   "source": [
    "8. v1_v2 = df[['variable_name1','variable_name2']]"
   ]
  },
  {
   "cell_type": "code",
   "execution_count": null,
   "metadata": {},
   "outputs": [],
   "source": [
    "# state ve family_members degiskenlerini seciniz:   state_fam \n",
    "\n",
    "\n",
    "# sonucun bas kismini yazdiriniz\n"
   ]
  },
  {
   "cell_type": "markdown",
   "metadata": {},
   "source": [
    "9. "
   ]
  },
  {
   "cell_type": "code",
   "execution_count": null,
   "metadata": {},
   "outputs": [],
   "source": [
    "# individuals ve state columns degiskenlerini seciniz:  ind_state\n",
    "ind_state =  \n",
    "\n",
    "# sonucun bas kismini yazdiriniz\n"
   ]
  },
  {
   "cell_type": "markdown",
   "metadata": {},
   "source": [
    "10. df[ df['variable'] > 99 ]"
   ]
  },
  {
   "cell_type": "code",
   "execution_count": null,
   "metadata": {},
   "outputs": [],
   "source": [
    "# individuals degerinin  10000  den fazla oldugu gozlemleri seciniz:  ind_buyuk_10k\n",
    "ind_buyuk_10k =     \n",
    "\n",
    "# ind_buyuk_10k u yazdiriniz\n"
   ]
  },
  {
   "cell_type": "markdown",
   "metadata": {},
   "source": [
    "11. df[ df['variable']=='example' ]"
   ]
  },
  {
   "cell_type": "code",
   "execution_count": null,
   "metadata": {},
   "outputs": [],
   "source": [
    "#  region degiskeni  Mountain  olan gozlemleri deciniz:  mountain_reg\n",
    "\n",
    "\n",
    "# sonucu gorelim\n",
    "print(     )"
   ]
  },
  {
   "cell_type": "markdown",
   "metadata": {},
   "source": [
    "12. df[(df[\"variable1\"] < 99) & (df[\"variable2\"] == \"example\")]"
   ]
  },
  {
   "cell_type": "code",
   "execution_count": null,
   "metadata": {},
   "outputs": [],
   "source": [
    "# family_members degeri 1000 den kucuk olan ve region i Pacific  olan gozlemleri seciniz: fam_buyuk_1k_pac\n",
    "\n",
    "\n",
    "# sonucu gorelim\n"
   ]
  },
  {
   "cell_type": "markdown",
   "metadata": {},
   "source": [
    "13. "
   ]
  },
  {
   "cell_type": "raw",
   "metadata": {},
   "source": [
    "colors = [\"brown\", \"black\", \"tan\"]\n",
    "condition = dogs[\"color\"].isin(colors)\n",
    "dogs[condition]"
   ]
  },
  {
   "cell_type": "code",
   "execution_count": null,
   "metadata": {},
   "outputs": [],
   "source": [
    "# region degiskeni   South Atlantic  veya  Mid-Atlantic  olan gozlemleri seciniz:  south_mid_atlantic\n",
    "south_mid_atlantic = df[ df['region'].isin([        ])  ]\n",
    "\n",
    "# gorelim\n",
    "print(       )"
   ]
  },
  {
   "cell_type": "markdown",
   "metadata": {},
   "source": [
    "14. df[df['column'].isin(a_list)]"
   ]
  },
  {
   "cell_type": "code",
   "execution_count": null,
   "metadata": {},
   "outputs": [],
   "source": [
    "cities = [\"California\", \"Arizona\", \"Nevada\", \"Utah\"]\n",
    "\n",
    "# state degiskeni  cities  listesinin icinde olan gozlemleri seciniz/filtreleyiniz:  cities_df\n",
    "cities_df =      \n",
    "\n",
    "# gorelim\n",
    "print(cities_df)"
   ]
  },
  {
   "cell_type": "markdown",
   "metadata": {},
   "source": [
    "15. "
   ]
  },
  {
   "cell_type": "code",
   "execution_count": null,
   "metadata": {},
   "outputs": [],
   "source": [
    "# individuals  ve  family_members  degiskenlerinin toplamini belirten  total  adli bir degisken ekleyiniz\n",
    "\n",
    "\n",
    "# tek yasayan evsizlerin tum evsizlere olan oranini belirten bir degisken ekleyiniz: o_individuals\n",
    "\n",
    "\n",
    "# df.head() in son hali:\n",
    "print(df.head())"
   ]
  },
  {
   "cell_type": "markdown",
   "metadata": {},
   "source": [
    "16."
   ]
  },
  {
   "cell_type": "code",
   "execution_count": null,
   "metadata": {},
   "outputs": [],
   "source": [
    "# tek yasayan evsizlerin sehir populasyonuna oranini bulunuz, bu kisi basi kac tane evsiz oldugu anlamina gelir\n",
    "# bu orani 10000 ile carparsak 10000 kiside kac tane evsiz vardir buna ulasiriz\n",
    "# bu bilgiyi  indiv_per_10k  degisken adi ile df e ekleyiniz\n",
    "\n",
    "\n",
    "# 10000 kiside 20 den fazla evsizin bulundugu sehirleri seciniz/filtreleyiniz, yeni df yi  high_df  adi ile kaydediniz\n",
    "high_df =     \n",
    "\n",
    "# high_df  dataframeini  indiv_per_10k  degiskenine gore buyukten kucuge dogru siralayiniz: high_df_srt\n",
    "high_df_srt =    \n",
    "\n",
    "# high_df_srt  dataframinin  state  ve  indiv_per_10k   degiskenlerini seciniz: sonuc\n",
    "sonuc =    \n",
    "\n",
    "# gorelim\n",
    "print(sonuc)"
   ]
  },
  {
   "cell_type": "markdown",
   "metadata": {
    "toc-hr-collapsed": false
   },
   "source": [
    "## Aggregating"
   ]
  },
  {
   "cell_type": "markdown",
   "metadata": {
    "toc-hr-collapsed": false
   },
   "source": [
    "### ozet istatistikler"
   ]
  },
  {
   "cell_type": "code",
   "execution_count": null,
   "metadata": {},
   "outputs": [],
   "source": [
    "# !!!  yukaridaki dataframe i df olarak kaydettik, buradaki dataframe i farkli bir isimle kaydedelim:\n",
    "satislar = pd.read_pickle(\"walmart_sales.pkl\")"
   ]
  },
  {
   "cell_type": "markdown",
   "metadata": {},
   "source": [
    "17. .mean()  .median()"
   ]
  },
  {
   "cell_type": "code",
   "execution_count": null,
   "metadata": {},
   "outputs": [],
   "source": [
    "# print satislar head()\n",
    "\n",
    "\n",
    "# Print satislar info()\n",
    "\n",
    "\n",
    "# weekly_sales degiskeninin ortalamasini yazdiriniz:\n",
    "\n",
    "\n",
    "#  weekly_sales degiskeninin ortanca degerini yazdiriniz: \n"
   ]
  },
  {
   "cell_type": "markdown",
   "metadata": {},
   "source": [
    "18. .min()  .max()"
   ]
  },
  {
   "cell_type": "code",
   "execution_count": null,
   "metadata": {},
   "outputs": [],
   "source": [
    "# son satilan urun hangi tarihte satilmistir\n",
    "\n",
    "\n",
    "# ilk satilan urun hangi tarihte satilmistir\n"
   ]
  },
  {
   "cell_type": "markdown",
   "metadata": {},
   "source": [
    "19. .quantile(0.25)   .quantile(0.75)"
   ]
  },
  {
   "cell_type": "raw",
   "metadata": {},
   "source": [
    "df.column.agg(function)"
   ]
  },
  {
   "cell_type": "raw",
   "metadata": {},
   "source": [
    "df['column1','column2','column3'].agg(['function1','function2'])"
   ]
  },
  {
   "cell_type": "code",
   "execution_count": null,
   "metadata": {},
   "outputs": [],
   "source": [
    "# kendi tanimladigimiz bir IQR fonk u:\n",
    "def iqr(kolon):\n",
    "    \"\"\"\"Bu fonk, gelen kolonlarin 3.ceyrek degeri ile 1.ceyrek degeri arasindaki farki geri dondurur\"\"\"\n",
    "    return kolon.quantile(0.75) - kolon.quantile(0.25)\n",
    "    \n",
    "# satis dataframe inin  temperature_c  degiskeninin  IQR  degerini yazdiriniz\n",
    "# DIKKAT! : bir fonk agg() ile kullanilinca () ve parametre kullanilmaz. \n",
    "# agg(fonk)  seklinde yazildiginda parametresini otomatik alir\n",
    "print(satislar.temperature_c.agg(iqr))"
   ]
  },
  {
   "cell_type": "code",
   "execution_count": null,
   "metadata": {},
   "outputs": [],
   "source": [
    "# yukaaridaki gibi  temperature_c,  fuel_price_usd_per_l  ve  unemployment   \n",
    "# degiskenlerinin IQR degerlerini yazdiriniz\n"
   ]
  },
  {
   "cell_type": "code",
   "execution_count": null,
   "metadata": {},
   "outputs": [],
   "source": [
    "import numpy as np\n",
    "# yukaridaki kodu editleyip, iqr fonksiyonu ile birlikte np.median fonk unu da aggregate ediniz\n"
   ]
  },
  {
   "cell_type": "markdown",
   "metadata": {},
   "source": [
    "### Kumulatif islemler"
   ]
  },
  {
   "cell_type": "markdown",
   "metadata": {},
   "source": [
    "20. .cumsum() .cummax()"
   ]
  },
  {
   "cell_type": "code",
   "execution_count": null,
   "metadata": {},
   "outputs": [],
   "source": [
    "# store 1 ve department 1 secilip ilk 20 gozlem uzerinde calisalim:\n",
    "satislar1 = satislar[ np.logical_and( satislar['store']==1 , satislar['department']==1 ) ]\n",
    "satislar1 = satislar1[:20]"
   ]
  },
  {
   "cell_type": "code",
   "execution_count": null,
   "metadata": {},
   "outputs": [],
   "source": [
    "satislar1.head(12)"
   ]
  },
  {
   "cell_type": "code",
   "execution_count": null,
   "metadata": {},
   "outputs": [],
   "source": [
    "# satislar i date e gore siralayiniz ve kaydediniz.\n",
    "satislar1 = satislar1.sort_values('date')\n",
    "\n",
    "# satislar1 i weekly_sales e gore kumulatif toplamini aliniz ve \n",
    "# cum_weekly_sales adiyla yeni bir degisken olarak atayiniz\n",
    "\n",
    "\n",
    "# satislar1 i weekly_sales e gore kumulatif max ini aliniz ve \n",
    "# cum_max_sales adiyla yeni bir degisken olarak atayiniz\n",
    "\n",
    "\n",
    "# ilgili degiskenleri secip yazdiriniz\n",
    "print(satislar1[[\"date\", \"weekly_sales\", \"cum_weekly_sales\", \"cum_max_sales\"]])"
   ]
  },
  {
   "cell_type": "markdown",
   "metadata": {},
   "source": [
    "Bu soruda, satislar verisini tarihe gore siraladik, her hafta o haftaya kadar olan toplam satisi hesapladik, ve her hafta o haftaya kadar gecen haftalar icindeki max satisi mevcut haftaya yazdik."
   ]
  },
  {
   "cell_type": "markdown",
   "metadata": {},
   "source": [
    "21.  df.drop_duplicates(['column'])"
   ]
  },
  {
   "cell_type": "code",
   "execution_count": null,
   "metadata": {},
   "outputs": [],
   "source": [
    "satislar2 = satislar[['store','type','department','is_holiday']]\n",
    "\n",
    "# store degiskeni tekrar eden gozlemleri teke dusurunuz:  store\n",
    "store = \n",
    "print(store.head())\n",
    "\n",
    "# store/type ikilisi olarak tekrar eden gozlemleri teke dusurunuz:  store_types\n",
    "store_types = \n",
    "print(store_types.head())\n",
    "\n",
    "# store/department ikilisi olarak tekrar eden gozlemleri teke dusurunuz:  store_depts\n",
    "store_depts =    \n",
    "print(store_depts.head())"
   ]
  },
  {
   "cell_type": "markdown",
   "metadata": {},
   "source": [
    "22. Ekstra bilgi:"
   ]
  },
  {
   "cell_type": "code",
   "execution_count": null,
   "metadata": {},
   "outputs": [],
   "source": [
    "if store_types.shape == store.shape:\n",
    "    print(\"Tek Magazada iki fakli satis tipi yoktur\")\n",
    "\n",
    "    \n",
    "if store_depts.shape == store.shape:\n",
    "    print(\"\\n\\n Tek Magazada iki fakli departman yoktur\\n\")\n",
    "else:\n",
    "    print(\"\\n\\nTek Magazada iki fakli departman vardir\\n\")"
   ]
  },
  {
   "cell_type": "markdown",
   "metadata": {},
   "source": [
    "23. "
   ]
  },
  {
   "cell_type": "code",
   "execution_count": null,
   "metadata": {},
   "outputs": [],
   "source": [
    "# satislar in tatil olan gozlemlerini seciniz ve bunlar uzerinde date e gore tekrar edenleri teke dusurunuz (unique)\n",
    "# satislar_tatil adi ile kaydediniz\n",
    "satislar_tatil = \n",
    "\n",
    "# tatil iken haftalik satislari yazdiriniz\n",
    "print(satislar_tatil[['date','weekly_sales']])"
   ]
  },
  {
   "cell_type": "markdown",
   "metadata": {},
   "source": [
    "24. "
   ]
  },
  {
   "cell_type": "code",
   "execution_count": null,
   "metadata": {},
   "outputs": [],
   "source": [
    "print(len(store))\n",
    "store.head()"
   ]
  },
  {
   "cell_type": "code",
   "execution_count": null,
   "metadata": {},
   "outputs": [],
   "source": [
    "print(len(store_types))\n",
    "store_types.head()"
   ]
  },
  {
   "cell_type": "code",
   "execution_count": null,
   "metadata": {},
   "outputs": [],
   "source": [
    "print(len(store_depts))\n",
    "store_depts.head()"
   ]
  },
  {
   "cell_type": "code",
   "execution_count": 1,
   "metadata": {
    "collapsed": true,
    "jupyter": {
     "outputs_hidden": true
    }
   },
   "outputs": [
    {
     "ename": "SyntaxError",
     "evalue": "invalid syntax (<ipython-input-1-6e0aa56cab84>, line 2)",
     "output_type": "error",
     "traceback": [
      "\u001b[0;36m  File \u001b[0;32m\"<ipython-input-1-6e0aa56cab84>\"\u001b[0;36m, line \u001b[0;32m2\u001b[0m\n\u001b[0;31m    store_counts =\u001b[0m\n\u001b[0m                   ^\u001b[0m\n\u001b[0;31mSyntaxError\u001b[0m\u001b[0;31m:\u001b[0m invalid syntax\n"
     ]
    }
   ],
   "source": [
    "# Tipine gore magaza sayilari\n",
    "store_counts = \n",
    "print(store_counts)"
   ]
  },
  {
   "cell_type": "raw",
   "metadata": {},
   "source": [
    ".value_counts(normalize=True)"
   ]
  },
  {
   "cell_type": "code",
   "execution_count": null,
   "metadata": {},
   "outputs": [],
   "source": [
    "# Tipine gore magaza oranlari \n",
    "store_props = \n",
    "print(store_props)"
   ]
  },
  {
   "cell_type": "raw",
   "metadata": {},
   "source": [
    ".value_counts(sort=True)"
   ]
  },
  {
   "cell_type": "code",
   "execution_count": null,
   "metadata": {},
   "outputs": [],
   "source": [
    "# Tipine gore magazalarin departman sayilari, sirali: \n",
    "dept_counts_sorted = store_depts['department']\n",
    "print(dept_counts_sorted)"
   ]
  },
  {
   "cell_type": "raw",
   "metadata": {},
   "source": [
    "45 magazada departman1 varmis\n",
    "45 magazada departman9 varmis\n",
    "...\n",
    "sadece 1 tane magazada departman65 varmis"
   ]
  },
  {
   "cell_type": "code",
   "execution_count": null,
   "metadata": {},
   "outputs": [],
   "source": [
    "# yukaridaki sonucun oransal degerleri ve siralanmis hali\n",
    "dept_props_sorted = \n",
    "print(dept_props_sorted)"
   ]
  },
  {
   "cell_type": "markdown",
   "metadata": {},
   "source": [
    "25. grupby() olmasa:"
   ]
  },
  {
   "cell_type": "code",
   "execution_count": null,
   "metadata": {},
   "outputs": [],
   "source": [
    "# Haftalik satislarin tumunun toplami:\n",
    "satislar_hepsi = satislar[\"weekly_sales\"].sum()\n",
    "\n",
    "# A tipinde olan magazalarin tumunun hafalik satislari toplami:\n",
    "satislar_A = \n",
    "\n",
    "# B tipinde olan magazalarin tumunun hafalik satislari toplami:\n",
    "satislar_B = \n",
    "\n",
    "# A tipinde olan magazalarin tumunun hafalik satislari toplami:\n",
    "satislar_C = \n",
    "\n",
    "#  magaza tiplerinin tumunu oranlari\n",
    "satislarin_oranlari = [satislar_A, satislar_B, satislar_C] / satislar_hepsi\n",
    "print(satislarin_oranlari)"
   ]
  },
  {
   "cell_type": "markdown",
   "metadata": {},
   "source": [
    "26. groupby()"
   ]
  },
  {
   "cell_type": "code",
   "execution_count": null,
   "metadata": {},
   "outputs": [],
   "source": [
    "# type a gore guruplayiniz, magaza tiplerinin haftalik satis toplamlarinin bulunuz\n",
    "satislar_tipe_gore = \n",
    "\n",
    "# satis miktarlarini (uc tane) toplamlarina bolerek oranlarini bulunuz\n",
    "satislar_orani = \n",
    "print(satislar_orani)"
   ]
  },
  {
   "cell_type": "code",
   "execution_count": null,
   "metadata": {},
   "outputs": [],
   "source": [
    "# type ve tatil durumuna a gore guruplayiniz, haftalik satislarin toplamini bulunuz\n",
    "satislar_tip_ve_tatile_gore = \n",
    "print(satislar_tip_ve_tatile_gore)"
   ]
  },
  {
   "cell_type": "code",
   "execution_count": null,
   "metadata": {},
   "outputs": [],
   "source": []
  }
 ],
 "metadata": {
  "kernelspec": {
   "display_name": "Python 3",
   "language": "python",
   "name": "python3"
  },
  "language_info": {
   "codemirror_mode": {
    "name": "ipython",
    "version": 3
   },
   "file_extension": ".py",
   "mimetype": "text/x-python",
   "name": "python",
   "nbconvert_exporter": "python",
   "pygments_lexer": "ipython3",
   "version": "3.7.4"
  },
  "toc-autonumbering": false,
  "toc-showmarkdowntxt": true
 },
 "nbformat": 4,
 "nbformat_minor": 4
}
